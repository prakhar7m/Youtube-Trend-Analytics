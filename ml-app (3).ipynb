{
 "cells": [
  {
   "cell_type": "code",
   "execution_count": 1,
   "id": "f4ea7310",
   "metadata": {},
   "outputs": [
    {
     "name": "stdout",
     "output_type": "stream",
     "text": [
      "Collecting wordcloudNote: you may need to restart the kernel to use updated packages.\n",
      "\n",
      "  Downloading wordcloud-1.8.2.2-cp39-cp39-win_amd64.whl (153 kB)\n",
      "     -------------------------------------- 153.1/153.1 kB 4.5 MB/s eta 0:00:00\n",
      "Requirement already satisfied: numpy>=1.6.1 in c:\\users\\vinay\\anaconda3\\lib\\site-packages (from wordcloud) (1.20.3)\n",
      "Requirement already satisfied: pillow in c:\\users\\vinay\\anaconda3\\lib\\site-packages (from wordcloud) (8.4.0)\n",
      "Requirement already satisfied: matplotlib in c:\\users\\vinay\\anaconda3\\lib\\site-packages (from wordcloud) (3.4.3)\n",
      "Requirement already satisfied: python-dateutil>=2.7 in c:\\users\\vinay\\anaconda3\\lib\\site-packages (from matplotlib->wordcloud) (2.8.2)\n",
      "Requirement already satisfied: pyparsing>=2.2.1 in c:\\users\\vinay\\anaconda3\\lib\\site-packages (from matplotlib->wordcloud) (3.0.4)\n",
      "Requirement already satisfied: kiwisolver>=1.0.1 in c:\\users\\vinay\\anaconda3\\lib\\site-packages (from matplotlib->wordcloud) (1.3.1)\n",
      "Requirement already satisfied: cycler>=0.10 in c:\\users\\vinay\\anaconda3\\lib\\site-packages (from matplotlib->wordcloud) (0.10.0)\n",
      "Requirement already satisfied: six in c:\\users\\vinay\\anaconda3\\lib\\site-packages (from cycler>=0.10->matplotlib->wordcloud) (1.16.0)\n",
      "Installing collected packages: wordcloud\n",
      "Successfully installed wordcloud-1.8.2.2\n"
     ]
    }
   ],
   "source": [
    "#pip install wordcloud"
   ]
  },
  {
   "cell_type": "code",
   "execution_count": 2,
   "id": "9ebe6350",
   "metadata": {},
   "outputs": [],
   "source": [
    "import pandas as pd\n",
    "import numpy as np\n",
    "import warnings\n",
    "import regex as re\n",
    "warnings.filterwarnings('ignore')#to filter all the warnings\n",
    "import seaborn as sns\n",
    "pd.set_option('float_format', '{:.4f}'.format)# to keep the float values short\n",
    "# Import for wordcloud\n",
    "from os import path\n",
    "from PIL import Image\n",
    "from wordcloud import WordCloud, STOPWORDS, ImageColorGenerator\n",
    "import matplotlib.pyplot as plt\n",
    "%matplotlib inline\n",
    "from nltk.corpus import stopwords\n",
    "from nltk.stem import PorterStemmer\n",
    "\n",
    "#import fot plotly\n",
    "import plotly.express as px"
   ]
  },
  {
   "cell_type": "code",
   "execution_count": 38,
   "id": "f09c63a2",
   "metadata": {},
   "outputs": [],
   "source": [
    "df = pd.read_csv('youtube_data.csv')"
   ]
  },
  {
   "cell_type": "code",
   "execution_count": 39,
   "id": "f22f813e",
   "metadata": {},
   "outputs": [
    {
     "data": {
      "text/html": [
       "<div>\n",
       "<style scoped>\n",
       "    .dataframe tbody tr th:only-of-type {\n",
       "        vertical-align: middle;\n",
       "    }\n",
       "\n",
       "    .dataframe tbody tr th {\n",
       "        vertical-align: top;\n",
       "    }\n",
       "\n",
       "    .dataframe thead th {\n",
       "        text-align: right;\n",
       "    }\n",
       "</style>\n",
       "<table border=\"1\" class=\"dataframe\">\n",
       "  <thead>\n",
       "    <tr style=\"text-align: right;\">\n",
       "      <th></th>\n",
       "      <th>video_id</th>\n",
       "      <th>title</th>\n",
       "      <th>publishedAt</th>\n",
       "      <th>channelTitle</th>\n",
       "      <th>categoryId</th>\n",
       "      <th>trending_date</th>\n",
       "      <th>tags</th>\n",
       "      <th>view_count</th>\n",
       "      <th>likes</th>\n",
       "      <th>dislikes</th>\n",
       "      <th>comment_count</th>\n",
       "      <th>description</th>\n",
       "      <th>category_name</th>\n",
       "    </tr>\n",
       "  </thead>\n",
       "  <tbody>\n",
       "    <tr>\n",
       "      <th>0</th>\n",
       "      <td>jbGRowa5tIk</td>\n",
       "      <td>ITZY “Not Shy” M/V TEASER</td>\n",
       "      <td>2020-08-11T15:00:13Z</td>\n",
       "      <td>JYP Entertainment</td>\n",
       "      <td>10</td>\n",
       "      <td>2020-08-15T00:00:00Z</td>\n",
       "      <td>JYP Entertainment|JYP|ITZY|있지|ITZY Video|ITZY ...</td>\n",
       "      <td>10241569</td>\n",
       "      <td>846466</td>\n",
       "      <td>21984</td>\n",
       "      <td>42682</td>\n",
       "      <td>ITZY Not Shy M/V[ITZY Official] https://www.yo...</td>\n",
       "      <td>Music</td>\n",
       "    </tr>\n",
       "    <tr>\n",
       "      <th>1</th>\n",
       "      <td>JvjvbBDqdgw</td>\n",
       "      <td>BTS (방탄소년단) Sing 'Dynamite' with me</td>\n",
       "      <td>2020-08-22T22:00:01Z</td>\n",
       "      <td>BANGTANTV</td>\n",
       "      <td>10</td>\n",
       "      <td>2020-08-23T00:00:00Z</td>\n",
       "      <td>방탄소년단|BTS|BANGTAN|HIPHOP|알엠|RM|슈가|SUGA|제이홉|jho...</td>\n",
       "      <td>6251656</td>\n",
       "      <td>2148368</td>\n",
       "      <td>5473</td>\n",
       "      <td>116057</td>\n",
       "      <td>#Sing_Dynamite #BTS_Dynamite #LipSyncParty #BT...</td>\n",
       "      <td>Music</td>\n",
       "    </tr>\n",
       "    <tr>\n",
       "      <th>2</th>\n",
       "      <td>BV2FdDmGiW0</td>\n",
       "      <td>BTS (방탄소년단) 'Dynamite' Official MV (B-side)</td>\n",
       "      <td>2020-08-24T15:00:01Z</td>\n",
       "      <td>Big Hit Labels</td>\n",
       "      <td>10</td>\n",
       "      <td>2020-08-31T00:00:00Z</td>\n",
       "      <td>BIGHIT|빅히트|방탄소년단|BTS|BANGTAN|방탄</td>\n",
       "      <td>45596902</td>\n",
       "      <td>5951288</td>\n",
       "      <td>97683</td>\n",
       "      <td>382374</td>\n",
       "      <td>BTS (방탄소년단) 'Dynamite' Official MV (B-side)Cre...</td>\n",
       "      <td>Music</td>\n",
       "    </tr>\n",
       "    <tr>\n",
       "      <th>3</th>\n",
       "      <td>sj9J2ecsSpo</td>\n",
       "      <td>WandaVision | Official Trailer | Disney+</td>\n",
       "      <td>2020-09-21T01:03:04Z</td>\n",
       "      <td>Marvel Entertainment</td>\n",
       "      <td>24</td>\n",
       "      <td>2020-09-25T00:00:00Z</td>\n",
       "      <td>marvel|comics|Marvel|MCU|Wanda Vision|Marvel T...</td>\n",
       "      <td>13282343</td>\n",
       "      <td>578887</td>\n",
       "      <td>16410</td>\n",
       "      <td>33890</td>\n",
       "      <td>Welcome to WandaVision. Coming soon to Disney+...</td>\n",
       "      <td>Entertainment</td>\n",
       "    </tr>\n",
       "    <tr>\n",
       "      <th>4</th>\n",
       "      <td>Vl3swga-Xrk</td>\n",
       "      <td>Would You Rather Have A Giant Diamond or $100,...</td>\n",
       "      <td>2020-09-26T20:40:02Z</td>\n",
       "      <td>MrBeast</td>\n",
       "      <td>24</td>\n",
       "      <td>2020-09-27T00:00:00Z</td>\n",
       "      <td>[None]</td>\n",
       "      <td>11354353</td>\n",
       "      <td>868146</td>\n",
       "      <td>8030</td>\n",
       "      <td>48299</td>\n",
       "      <td>I cant believe i spent this much again....Down...</td>\n",
       "      <td>Entertainment</td>\n",
       "    </tr>\n",
       "  </tbody>\n",
       "</table>\n",
       "</div>"
      ],
      "text/plain": [
       "      video_id                                              title  \\\n",
       "0  jbGRowa5tIk                          ITZY “Not Shy” M/V TEASER   \n",
       "1  JvjvbBDqdgw                BTS (방탄소년단) Sing 'Dynamite' with me   \n",
       "2  BV2FdDmGiW0        BTS (방탄소년단) 'Dynamite' Official MV (B-side)   \n",
       "3  sj9J2ecsSpo           WandaVision | Official Trailer | Disney+   \n",
       "4  Vl3swga-Xrk  Would You Rather Have A Giant Diamond or $100,...   \n",
       "\n",
       "            publishedAt          channelTitle  categoryId  \\\n",
       "0  2020-08-11T15:00:13Z     JYP Entertainment          10   \n",
       "1  2020-08-22T22:00:01Z             BANGTANTV          10   \n",
       "2  2020-08-24T15:00:01Z        Big Hit Labels          10   \n",
       "3  2020-09-21T01:03:04Z  Marvel Entertainment          24   \n",
       "4  2020-09-26T20:40:02Z               MrBeast          24   \n",
       "\n",
       "          trending_date                                               tags  \\\n",
       "0  2020-08-15T00:00:00Z  JYP Entertainment|JYP|ITZY|있지|ITZY Video|ITZY ...   \n",
       "1  2020-08-23T00:00:00Z  방탄소년단|BTS|BANGTAN|HIPHOP|알엠|RM|슈가|SUGA|제이홉|jho...   \n",
       "2  2020-08-31T00:00:00Z                    BIGHIT|빅히트|방탄소년단|BTS|BANGTAN|방탄   \n",
       "3  2020-09-25T00:00:00Z  marvel|comics|Marvel|MCU|Wanda Vision|Marvel T...   \n",
       "4  2020-09-27T00:00:00Z                                             [None]   \n",
       "\n",
       "   view_count    likes  dislikes  comment_count  \\\n",
       "0    10241569   846466     21984          42682   \n",
       "1     6251656  2148368      5473         116057   \n",
       "2    45596902  5951288     97683         382374   \n",
       "3    13282343   578887     16410          33890   \n",
       "4    11354353   868146      8030          48299   \n",
       "\n",
       "                                         description  category_name  \n",
       "0  ITZY Not Shy M/V[ITZY Official] https://www.yo...          Music  \n",
       "1  #Sing_Dynamite #BTS_Dynamite #LipSyncParty #BT...          Music  \n",
       "2  BTS (방탄소년단) 'Dynamite' Official MV (B-side)Cre...          Music  \n",
       "3  Welcome to WandaVision. Coming soon to Disney+...  Entertainment  \n",
       "4  I cant believe i spent this much again....Down...  Entertainment  "
      ]
     },
     "execution_count": 39,
     "metadata": {},
     "output_type": "execute_result"
    }
   ],
   "source": [
    "df.head()"
   ]
  },
  {
   "cell_type": "code",
   "execution_count": null,
   "id": "f44a3ae4",
   "metadata": {},
   "outputs": [],
   "source": []
  },
  {
   "cell_type": "code",
   "execution_count": 40,
   "id": "e0ad7163",
   "metadata": {},
   "outputs": [],
   "source": [
    "#dropping duplicates\n",
    "df.drop_duplicates(subset=['video_id'], keep='last', inplace = True)"
   ]
  },
  {
   "cell_type": "code",
   "execution_count": 41,
   "id": "be4d8657",
   "metadata": {},
   "outputs": [],
   "source": [
    "#dropping all the numerical columns for text analysis\n",
    "df.drop(columns=['channelTitle','video_id','publishedAt', 'categoryId','trending_date',\n",
    "                 'view_count', 'likes', 'dislikes', 'comment_count'],axis=1,inplace=True)"
   ]
  },
  {
   "cell_type": "code",
   "execution_count": 42,
   "id": "ab48b05a",
   "metadata": {},
   "outputs": [
    {
     "data": {
      "text/html": [
       "<div>\n",
       "<style scoped>\n",
       "    .dataframe tbody tr th:only-of-type {\n",
       "        vertical-align: middle;\n",
       "    }\n",
       "\n",
       "    .dataframe tbody tr th {\n",
       "        vertical-align: top;\n",
       "    }\n",
       "\n",
       "    .dataframe thead th {\n",
       "        text-align: right;\n",
       "    }\n",
       "</style>\n",
       "<table border=\"1\" class=\"dataframe\">\n",
       "  <thead>\n",
       "    <tr style=\"text-align: right;\">\n",
       "      <th></th>\n",
       "      <th>title</th>\n",
       "      <th>tags</th>\n",
       "      <th>description</th>\n",
       "      <th>category_name</th>\n",
       "    </tr>\n",
       "  </thead>\n",
       "  <tbody>\n",
       "    <tr>\n",
       "      <th>1</th>\n",
       "      <td>BTS (방탄소년단) Sing 'Dynamite' with me</td>\n",
       "      <td>방탄소년단|BTS|BANGTAN|HIPHOP|알엠|RM|슈가|SUGA|제이홉|jho...</td>\n",
       "      <td>#Sing_Dynamite #BTS_Dynamite #LipSyncParty #BT...</td>\n",
       "      <td>Music</td>\n",
       "    </tr>\n",
       "    <tr>\n",
       "      <th>5</th>\n",
       "      <td>BTS (방탄소년단) MAP OF THE SOUL ON:E Teaser 2</td>\n",
       "      <td>BIGHIT|빅히트|방탄소년단|BTS|BANGTAN|방탄|BTS 콘서트|방탄 콘서트...</td>\n",
       "      <td>[D-3] BTS MAP OF THE SOUL ON:E Teaser 2- 티켓 구매...</td>\n",
       "      <td>Music</td>\n",
       "    </tr>\n",
       "    <tr>\n",
       "      <th>10</th>\n",
       "      <td>Abyss by Jin</td>\n",
       "      <td>방탄소년단|BTS|BANGTAN|HIPHOP|알엠|RM|슈가|SUGA|제이홉|jho...</td>\n",
       "      <td>Connect with BTS: https://ibighit.com/bts http...</td>\n",
       "      <td>Music</td>\n",
       "    </tr>\n",
       "    <tr>\n",
       "      <th>14</th>\n",
       "      <td>BTS (방탄소년단) 'Butter' Special Performance Video</td>\n",
       "      <td>방탄소년단|BTS|BANGTAN|HIPHOP|알엠|RM|슈가|SUGA|제이홉|jho...</td>\n",
       "      <td>Artist: RM, Jin, SUGA, j-hope, Jimin, V, Jung ...</td>\n",
       "      <td>Music</td>\n",
       "    </tr>\n",
       "    <tr>\n",
       "      <th>18</th>\n",
       "      <td>BLACKPINK - 5th ANNIVERSARY [4+1 PROJECT] ANNO...</td>\n",
       "      <td>YG Entertainment|YG|와이지|K-pop|BLACKPINK|블랙핑크|블...</td>\n",
       "      <td>More info @ 5th.blackpinkofficial.com#BLACKPIN...</td>\n",
       "      <td>Music</td>\n",
       "    </tr>\n",
       "  </tbody>\n",
       "</table>\n",
       "</div>"
      ],
      "text/plain": [
       "                                                title  \\\n",
       "1                 BTS (방탄소년단) Sing 'Dynamite' with me   \n",
       "5           BTS (방탄소년단) MAP OF THE SOUL ON:E Teaser 2   \n",
       "10                                       Abyss by Jin   \n",
       "14     BTS (방탄소년단) 'Butter' Special Performance Video   \n",
       "18  BLACKPINK - 5th ANNIVERSARY [4+1 PROJECT] ANNO...   \n",
       "\n",
       "                                                 tags  \\\n",
       "1   방탄소년단|BTS|BANGTAN|HIPHOP|알엠|RM|슈가|SUGA|제이홉|jho...   \n",
       "5   BIGHIT|빅히트|방탄소년단|BTS|BANGTAN|방탄|BTS 콘서트|방탄 콘서트...   \n",
       "10  방탄소년단|BTS|BANGTAN|HIPHOP|알엠|RM|슈가|SUGA|제이홉|jho...   \n",
       "14  방탄소년단|BTS|BANGTAN|HIPHOP|알엠|RM|슈가|SUGA|제이홉|jho...   \n",
       "18  YG Entertainment|YG|와이지|K-pop|BLACKPINK|블랙핑크|블...   \n",
       "\n",
       "                                          description category_name  \n",
       "1   #Sing_Dynamite #BTS_Dynamite #LipSyncParty #BT...         Music  \n",
       "5   [D-3] BTS MAP OF THE SOUL ON:E Teaser 2- 티켓 구매...         Music  \n",
       "10  Connect with BTS: https://ibighit.com/bts http...         Music  \n",
       "14  Artist: RM, Jin, SUGA, j-hope, Jimin, V, Jung ...         Music  \n",
       "18  More info @ 5th.blackpinkofficial.com#BLACKPIN...         Music  "
      ]
     },
     "execution_count": 42,
     "metadata": {},
     "output_type": "execute_result"
    }
   ],
   "source": [
    "df.head()"
   ]
  },
  {
   "cell_type": "code",
   "execution_count": 43,
   "id": "d577569b",
   "metadata": {},
   "outputs": [],
   "source": [
    "df.fillna(value = '', inplace = True)"
   ]
  },
  {
   "cell_type": "code",
   "execution_count": 45,
   "id": "0e78875c",
   "metadata": {},
   "outputs": [],
   "source": [
    "# Concat all text data in one column:\n",
    "\n",
    "df['text'] = df.description + ' ' + df.tags + ' ' + df.title"
   ]
  },
  {
   "cell_type": "code",
   "execution_count": 46,
   "id": "7036458b",
   "metadata": {},
   "outputs": [],
   "source": [
    "df.drop(columns=['description', 'tags', 'title'],axis=1,inplace=True)"
   ]
  },
  {
   "cell_type": "code",
   "execution_count": 47,
   "id": "78583d44",
   "metadata": {},
   "outputs": [
    {
     "data": {
      "text/html": [
       "<div>\n",
       "<style scoped>\n",
       "    .dataframe tbody tr th:only-of-type {\n",
       "        vertical-align: middle;\n",
       "    }\n",
       "\n",
       "    .dataframe tbody tr th {\n",
       "        vertical-align: top;\n",
       "    }\n",
       "\n",
       "    .dataframe thead th {\n",
       "        text-align: right;\n",
       "    }\n",
       "</style>\n",
       "<table border=\"1\" class=\"dataframe\">\n",
       "  <thead>\n",
       "    <tr style=\"text-align: right;\">\n",
       "      <th></th>\n",
       "      <th>category_name</th>\n",
       "      <th>text</th>\n",
       "    </tr>\n",
       "  </thead>\n",
       "  <tbody>\n",
       "    <tr>\n",
       "      <th>1</th>\n",
       "      <td>Music</td>\n",
       "      <td>#Sing_Dynamite #BTS_Dynamite #LipSyncParty #BT...</td>\n",
       "    </tr>\n",
       "    <tr>\n",
       "      <th>5</th>\n",
       "      <td>Music</td>\n",
       "      <td>[D-3] BTS MAP OF THE SOUL ON:E Teaser 2- 티켓 구매...</td>\n",
       "    </tr>\n",
       "    <tr>\n",
       "      <th>10</th>\n",
       "      <td>Music</td>\n",
       "      <td>Connect with BTS: https://ibighit.com/bts http...</td>\n",
       "    </tr>\n",
       "    <tr>\n",
       "      <th>14</th>\n",
       "      <td>Music</td>\n",
       "      <td>Artist: RM, Jin, SUGA, j-hope, Jimin, V, Jung ...</td>\n",
       "    </tr>\n",
       "    <tr>\n",
       "      <th>18</th>\n",
       "      <td>Music</td>\n",
       "      <td>More info @ 5th.blackpinkofficial.com#BLACKPIN...</td>\n",
       "    </tr>\n",
       "  </tbody>\n",
       "</table>\n",
       "</div>"
      ],
      "text/plain": [
       "   category_name                                               text\n",
       "1          Music  #Sing_Dynamite #BTS_Dynamite #LipSyncParty #BT...\n",
       "5          Music  [D-3] BTS MAP OF THE SOUL ON:E Teaser 2- 티켓 구매...\n",
       "10         Music  Connect with BTS: https://ibighit.com/bts http...\n",
       "14         Music  Artist: RM, Jin, SUGA, j-hope, Jimin, V, Jung ...\n",
       "18         Music  More info @ 5th.blackpinkofficial.com#BLACKPIN..."
      ]
     },
     "execution_count": 47,
     "metadata": {},
     "output_type": "execute_result"
    }
   ],
   "source": [
    "df.head()"
   ]
  },
  {
   "cell_type": "code",
   "execution_count": 48,
   "id": "65af412f",
   "metadata": {},
   "outputs": [
    {
     "data": {
      "text/plain": [
       "array(['Music', 'Entertainment', 'Gaming', 'Sports'], dtype=object)"
      ]
     },
     "execution_count": 48,
     "metadata": {},
     "output_type": "execute_result"
    }
   ],
   "source": [
    "df['category_name'].unique()"
   ]
  },
  {
   "cell_type": "markdown",
   "id": "e23be114",
   "metadata": {},
   "source": [
    "### predicting categories"
   ]
  },
  {
   "cell_type": "code",
   "execution_count": 49,
   "id": "ede35137",
   "metadata": {},
   "outputs": [],
   "source": [
    "from sklearn.model_selection import train_test_split\n",
    "from sklearn.feature_extraction.text import CountVectorizer\n",
    "from sklearn.feature_extraction.text import TfidfVectorizer\n",
    "from sklearn.ensemble import RandomForestClassifier"
   ]
  },
  {
   "cell_type": "code",
   "execution_count": 50,
   "id": "45f066f8",
   "metadata": {},
   "outputs": [],
   "source": [
    "#df_filtered = df[df.category_name.isin(['Entertainment', 'Sports', 'Music', 'Gaming', \\\n",
    "                                        'People & Blogs', 'Comedy','News & Politics'])]"
   ]
  },
  {
   "cell_type": "code",
   "execution_count": 51,
   "id": "20f29132",
   "metadata": {},
   "outputs": [
    {
     "data": {
      "text/html": [
       "<div>\n",
       "<style scoped>\n",
       "    .dataframe tbody tr th:only-of-type {\n",
       "        vertical-align: middle;\n",
       "    }\n",
       "\n",
       "    .dataframe tbody tr th {\n",
       "        vertical-align: top;\n",
       "    }\n",
       "\n",
       "    .dataframe thead th {\n",
       "        text-align: right;\n",
       "    }\n",
       "</style>\n",
       "<table border=\"1\" class=\"dataframe\">\n",
       "  <thead>\n",
       "    <tr style=\"text-align: right;\">\n",
       "      <th></th>\n",
       "      <th>category_name</th>\n",
       "      <th>text</th>\n",
       "    </tr>\n",
       "  </thead>\n",
       "  <tbody>\n",
       "    <tr>\n",
       "      <th>1</th>\n",
       "      <td>Music</td>\n",
       "      <td>#Sing_Dynamite #BTS_Dynamite #LipSyncParty #BT...</td>\n",
       "    </tr>\n",
       "    <tr>\n",
       "      <th>5</th>\n",
       "      <td>Music</td>\n",
       "      <td>[D-3] BTS MAP OF THE SOUL ON:E Teaser 2- 티켓 구매...</td>\n",
       "    </tr>\n",
       "    <tr>\n",
       "      <th>10</th>\n",
       "      <td>Music</td>\n",
       "      <td>Connect with BTS: https://ibighit.com/bts http...</td>\n",
       "    </tr>\n",
       "    <tr>\n",
       "      <th>14</th>\n",
       "      <td>Music</td>\n",
       "      <td>Artist: RM, Jin, SUGA, j-hope, Jimin, V, Jung ...</td>\n",
       "    </tr>\n",
       "    <tr>\n",
       "      <th>18</th>\n",
       "      <td>Music</td>\n",
       "      <td>More info @ 5th.blackpinkofficial.com#BLACKPIN...</td>\n",
       "    </tr>\n",
       "  </tbody>\n",
       "</table>\n",
       "</div>"
      ],
      "text/plain": [
       "   category_name                                               text\n",
       "1          Music  #Sing_Dynamite #BTS_Dynamite #LipSyncParty #BT...\n",
       "5          Music  [D-3] BTS MAP OF THE SOUL ON:E Teaser 2- 티켓 구매...\n",
       "10         Music  Connect with BTS: https://ibighit.com/bts http...\n",
       "14         Music  Artist: RM, Jin, SUGA, j-hope, Jimin, V, Jung ...\n",
       "18         Music  More info @ 5th.blackpinkofficial.com#BLACKPIN..."
      ]
     },
     "execution_count": 51,
     "metadata": {},
     "output_type": "execute_result"
    }
   ],
   "source": [
    "df_filtered = df\n",
    "df_filtered.head()"
   ]
  },
  {
   "cell_type": "code",
   "execution_count": 52,
   "id": "fa03a9e4",
   "metadata": {},
   "outputs": [],
   "source": [
    "X = df_filtered.text"
   ]
  },
  {
   "cell_type": "code",
   "execution_count": 53,
   "id": "47ff5174",
   "metadata": {},
   "outputs": [],
   "source": [
    "Y = df_filtered.category_name"
   ]
  },
  {
   "cell_type": "code",
   "execution_count": 54,
   "id": "d5cc42f1",
   "metadata": {},
   "outputs": [],
   "source": [
    "X_train, X_test, Y_train, Y_test = train_test_split(X,Y,test_size=0.3,random_state = 0)"
   ]
  },
  {
   "cell_type": "code",
   "execution_count": 55,
   "id": "57ec2d62",
   "metadata": {},
   "outputs": [],
   "source": [
    "# Applying bag of words to features in training and testing data\n",
    "bag_of_words_creator = CountVectorizer()\n",
    "X_train_bow = bag_of_words_creator.fit_transform(X_train)\n",
    "X_test_bow = bag_of_words_creator.transform(X_test)"
   ]
  },
  {
   "cell_type": "code",
   "execution_count": 56,
   "id": "43fbdbc4",
   "metadata": {},
   "outputs": [
    {
     "data": {
      "text/html": [
       "<style>#sk-container-id-2 {color: black;background-color: white;}#sk-container-id-2 pre{padding: 0;}#sk-container-id-2 div.sk-toggleable {background-color: white;}#sk-container-id-2 label.sk-toggleable__label {cursor: pointer;display: block;width: 100%;margin-bottom: 0;padding: 0.3em;box-sizing: border-box;text-align: center;}#sk-container-id-2 label.sk-toggleable__label-arrow:before {content: \"▸\";float: left;margin-right: 0.25em;color: #696969;}#sk-container-id-2 label.sk-toggleable__label-arrow:hover:before {color: black;}#sk-container-id-2 div.sk-estimator:hover label.sk-toggleable__label-arrow:before {color: black;}#sk-container-id-2 div.sk-toggleable__content {max-height: 0;max-width: 0;overflow: hidden;text-align: left;background-color: #f0f8ff;}#sk-container-id-2 div.sk-toggleable__content pre {margin: 0.2em;color: black;border-radius: 0.25em;background-color: #f0f8ff;}#sk-container-id-2 input.sk-toggleable__control:checked~div.sk-toggleable__content {max-height: 200px;max-width: 100%;overflow: auto;}#sk-container-id-2 input.sk-toggleable__control:checked~label.sk-toggleable__label-arrow:before {content: \"▾\";}#sk-container-id-2 div.sk-estimator input.sk-toggleable__control:checked~label.sk-toggleable__label {background-color: #d4ebff;}#sk-container-id-2 div.sk-label input.sk-toggleable__control:checked~label.sk-toggleable__label {background-color: #d4ebff;}#sk-container-id-2 input.sk-hidden--visually {border: 0;clip: rect(1px 1px 1px 1px);clip: rect(1px, 1px, 1px, 1px);height: 1px;margin: -1px;overflow: hidden;padding: 0;position: absolute;width: 1px;}#sk-container-id-2 div.sk-estimator {font-family: monospace;background-color: #f0f8ff;border: 1px dotted black;border-radius: 0.25em;box-sizing: border-box;margin-bottom: 0.5em;}#sk-container-id-2 div.sk-estimator:hover {background-color: #d4ebff;}#sk-container-id-2 div.sk-parallel-item::after {content: \"\";width: 100%;border-bottom: 1px solid gray;flex-grow: 1;}#sk-container-id-2 div.sk-label:hover label.sk-toggleable__label {background-color: #d4ebff;}#sk-container-id-2 div.sk-serial::before {content: \"\";position: absolute;border-left: 1px solid gray;box-sizing: border-box;top: 0;bottom: 0;left: 50%;z-index: 0;}#sk-container-id-2 div.sk-serial {display: flex;flex-direction: column;align-items: center;background-color: white;padding-right: 0.2em;padding-left: 0.2em;position: relative;}#sk-container-id-2 div.sk-item {position: relative;z-index: 1;}#sk-container-id-2 div.sk-parallel {display: flex;align-items: stretch;justify-content: center;background-color: white;position: relative;}#sk-container-id-2 div.sk-item::before, #sk-container-id-2 div.sk-parallel-item::before {content: \"\";position: absolute;border-left: 1px solid gray;box-sizing: border-box;top: 0;bottom: 0;left: 50%;z-index: -1;}#sk-container-id-2 div.sk-parallel-item {display: flex;flex-direction: column;z-index: 1;position: relative;background-color: white;}#sk-container-id-2 div.sk-parallel-item:first-child::after {align-self: flex-end;width: 50%;}#sk-container-id-2 div.sk-parallel-item:last-child::after {align-self: flex-start;width: 50%;}#sk-container-id-2 div.sk-parallel-item:only-child::after {width: 0;}#sk-container-id-2 div.sk-dashed-wrapped {border: 1px dashed gray;margin: 0 0.4em 0.5em 0.4em;box-sizing: border-box;padding-bottom: 0.4em;background-color: white;}#sk-container-id-2 div.sk-label label {font-family: monospace;font-weight: bold;display: inline-block;line-height: 1.2em;}#sk-container-id-2 div.sk-label-container {text-align: center;}#sk-container-id-2 div.sk-container {/* jupyter's `normalize.less` sets `[hidden] { display: none; }` but bootstrap.min.css set `[hidden] { display: none !important; }` so we also need the `!important` here to be able to override the default hidden behavior on the sphinx rendered scikit-learn.org. See: https://github.com/scikit-learn/scikit-learn/issues/21755 */display: inline-block !important;position: relative;}#sk-container-id-2 div.sk-text-repr-fallback {display: none;}</style><div id=\"sk-container-id-2\" class=\"sk-top-container\"><div class=\"sk-text-repr-fallback\"><pre>RandomForestClassifier(random_state=0)</pre><b>In a Jupyter environment, please rerun this cell to show the HTML representation or trust the notebook. <br />On GitHub, the HTML representation is unable to render, please try loading this page with nbviewer.org.</b></div><div class=\"sk-container\" hidden><div class=\"sk-item\"><div class=\"sk-estimator sk-toggleable\"><input class=\"sk-toggleable__control sk-hidden--visually\" id=\"sk-estimator-id-2\" type=\"checkbox\" checked><label for=\"sk-estimator-id-2\" class=\"sk-toggleable__label sk-toggleable__label-arrow\">RandomForestClassifier</label><div class=\"sk-toggleable__content\"><pre>RandomForestClassifier(random_state=0)</pre></div></div></div></div></div>"
      ],
      "text/plain": [
       "RandomForestClassifier(random_state=0)"
      ]
     },
     "execution_count": 56,
     "metadata": {},
     "output_type": "execute_result"
    }
   ],
   "source": [
    "#cl = RandomForestClassifier(random_state = 0, n_estimators=1000)\n",
    "cl = RandomForestClassifier(random_state = 0)\n",
    "cl.fit(X_train_bow,Y_train)"
   ]
  },
  {
   "cell_type": "code",
   "execution_count": 57,
   "id": "fce931ea",
   "metadata": {},
   "outputs": [],
   "source": [
    "y_pred = cl.predict(X_test_bow)"
   ]
  },
  {
   "cell_type": "code",
   "execution_count": 58,
   "id": "5eac4292",
   "metadata": {},
   "outputs": [],
   "source": [
    "from sklearn.metrics import confusion_matrix\n",
    "import sklearn.metrics as met"
   ]
  },
  {
   "cell_type": "code",
   "execution_count": 59,
   "id": "b5181acd",
   "metadata": {},
   "outputs": [
    {
     "data": {
      "text/plain": [
       "array([[26,  0,  1,  0],\n",
       "       [ 0, 22,  0,  0],\n",
       "       [ 0,  0, 87,  1],\n",
       "       [ 0,  0,  0, 22]], dtype=int64)"
      ]
     },
     "execution_count": 59,
     "metadata": {},
     "output_type": "execute_result"
    }
   ],
   "source": [
    "confusion_matrix(Y_test,y_pred)"
   ]
  },
  {
   "cell_type": "code",
   "execution_count": 60,
   "id": "de3100ac",
   "metadata": {},
   "outputs": [
    {
     "name": "stdout",
     "output_type": "stream",
     "text": [
      "               precision    recall  f1-score   support\n",
      "\n",
      "Entertainment       1.00      0.96      0.98        27\n",
      "       Gaming       1.00      1.00      1.00        22\n",
      "        Music       0.99      0.99      0.99        88\n",
      "       Sports       0.96      1.00      0.98        22\n",
      "\n",
      "     accuracy                           0.99       159\n",
      "    macro avg       0.99      0.99      0.99       159\n",
      " weighted avg       0.99      0.99      0.99       159\n",
      "\n"
     ]
    }
   ],
   "source": [
    "print(met.classification_report(Y_test,y_pred))"
   ]
  },
  {
   "cell_type": "code",
   "execution_count": 61,
   "id": "3bfeebbe",
   "metadata": {},
   "outputs": [],
   "source": [
    "df = pd.read_csv('youtube_data.csv')"
   ]
  },
  {
   "cell_type": "markdown",
   "id": "a2363898",
   "metadata": {},
   "source": [
    "### ML predicitng number of days for the video to stay trending\n"
   ]
  },
  {
   "cell_type": "code",
   "execution_count": 63,
   "id": "68e01e34",
   "metadata": {},
   "outputs": [],
   "source": [
    "ML_df= df.groupby(['video_id','trending_date','publishedAt'],as_index=False).agg({'view_count':\\\n",
    "                                                             'max','likes':'max','dislikes':'max','comment_count':'max'})"
   ]
  },
  {
   "cell_type": "code",
   "execution_count": 64,
   "id": "a22d50e0",
   "metadata": {},
   "outputs": [],
   "source": [
    "df1 = ML_df.copy()"
   ]
  },
  {
   "cell_type": "code",
   "execution_count": 65,
   "id": "9d3a8f25",
   "metadata": {},
   "outputs": [],
   "source": [
    "df1['trending_date'] = pd.to_datetime(df1['trending_date'])\n",
    "df1['publishedAt'] = pd.to_datetime(df1['publishedAt'])"
   ]
  },
  {
   "cell_type": "code",
   "execution_count": 66,
   "id": "50b9129b",
   "metadata": {},
   "outputs": [],
   "source": [
    "df1['trending_day_no'] = df1.groupby(['video_id'])[\"trending_date\"].rank('first',ascending=True)"
   ]
  },
  {
   "cell_type": "code",
   "execution_count": 67,
   "id": "140b39e7",
   "metadata": {},
   "outputs": [],
   "source": [
    "df1_count = df1.groupby('video_id',as_index=False)[\"trending_date\"].count().rename(columns={\\\n",
    "                                                                'trending_date':'total_trending_days'})"
   ]
  },
  {
   "cell_type": "code",
   "execution_count": 68,
   "id": "37002ad7",
   "metadata": {},
   "outputs": [
    {
     "data": {
      "text/html": [
       "<div>\n",
       "<style scoped>\n",
       "    .dataframe tbody tr th:only-of-type {\n",
       "        vertical-align: middle;\n",
       "    }\n",
       "\n",
       "    .dataframe tbody tr th {\n",
       "        vertical-align: top;\n",
       "    }\n",
       "\n",
       "    .dataframe thead th {\n",
       "        text-align: right;\n",
       "    }\n",
       "</style>\n",
       "<table border=\"1\" class=\"dataframe\">\n",
       "  <thead>\n",
       "    <tr style=\"text-align: right;\">\n",
       "      <th></th>\n",
       "      <th>video_id</th>\n",
       "      <th>trending_date</th>\n",
       "      <th>publishedAt</th>\n",
       "      <th>view_count</th>\n",
       "      <th>likes</th>\n",
       "      <th>dislikes</th>\n",
       "      <th>comment_count</th>\n",
       "      <th>trending_day_no</th>\n",
       "      <th>total_trending_days</th>\n",
       "    </tr>\n",
       "  </thead>\n",
       "  <tbody>\n",
       "    <tr>\n",
       "      <th>0</th>\n",
       "      <td>-5q5mZbe3V8</td>\n",
       "      <td>2020-11-20 00:00:00+00:00</td>\n",
       "      <td>2020-11-20 04:58:11+00:00</td>\n",
       "      <td>37570579</td>\n",
       "      <td>5177871</td>\n",
       "      <td>12125</td>\n",
       "      <td>2276126</td>\n",
       "      <td>1.0000</td>\n",
       "      <td>8</td>\n",
       "    </tr>\n",
       "    <tr>\n",
       "      <th>1</th>\n",
       "      <td>-5q5mZbe3V8</td>\n",
       "      <td>2020-11-21 00:00:00+00:00</td>\n",
       "      <td>2020-11-20 04:58:11+00:00</td>\n",
       "      <td>84352431</td>\n",
       "      <td>6965393</td>\n",
       "      <td>38012</td>\n",
       "      <td>3411203</td>\n",
       "      <td>2.0000</td>\n",
       "      <td>8</td>\n",
       "    </tr>\n",
       "    <tr>\n",
       "      <th>2</th>\n",
       "      <td>-5q5mZbe3V8</td>\n",
       "      <td>2020-11-23 00:00:00+00:00</td>\n",
       "      <td>2020-11-20 04:58:11+00:00</td>\n",
       "      <td>121487843</td>\n",
       "      <td>10696119</td>\n",
       "      <td>81348</td>\n",
       "      <td>3913332</td>\n",
       "      <td>3.0000</td>\n",
       "      <td>8</td>\n",
       "    </tr>\n",
       "    <tr>\n",
       "      <th>3</th>\n",
       "      <td>-5q5mZbe3V8</td>\n",
       "      <td>2020-11-24 00:00:00+00:00</td>\n",
       "      <td>2020-11-20 04:58:11+00:00</td>\n",
       "      <td>130757195</td>\n",
       "      <td>10908482</td>\n",
       "      <td>95278</td>\n",
       "      <td>3998863</td>\n",
       "      <td>4.0000</td>\n",
       "      <td>8</td>\n",
       "    </tr>\n",
       "    <tr>\n",
       "      <th>4</th>\n",
       "      <td>-5q5mZbe3V8</td>\n",
       "      <td>2020-11-25 00:00:00+00:00</td>\n",
       "      <td>2020-11-20 04:58:11+00:00</td>\n",
       "      <td>136155442</td>\n",
       "      <td>11077371</td>\n",
       "      <td>105414</td>\n",
       "      <td>4058343</td>\n",
       "      <td>5.0000</td>\n",
       "      <td>8</td>\n",
       "    </tr>\n",
       "  </tbody>\n",
       "</table>\n",
       "</div>"
      ],
      "text/plain": [
       "      video_id             trending_date               publishedAt  \\\n",
       "0  -5q5mZbe3V8 2020-11-20 00:00:00+00:00 2020-11-20 04:58:11+00:00   \n",
       "1  -5q5mZbe3V8 2020-11-21 00:00:00+00:00 2020-11-20 04:58:11+00:00   \n",
       "2  -5q5mZbe3V8 2020-11-23 00:00:00+00:00 2020-11-20 04:58:11+00:00   \n",
       "3  -5q5mZbe3V8 2020-11-24 00:00:00+00:00 2020-11-20 04:58:11+00:00   \n",
       "4  -5q5mZbe3V8 2020-11-25 00:00:00+00:00 2020-11-20 04:58:11+00:00   \n",
       "\n",
       "   view_count     likes  dislikes  comment_count  trending_day_no  \\\n",
       "0    37570579   5177871     12125        2276126           1.0000   \n",
       "1    84352431   6965393     38012        3411203           2.0000   \n",
       "2   121487843  10696119     81348        3913332           3.0000   \n",
       "3   130757195  10908482     95278        3998863           4.0000   \n",
       "4   136155442  11077371    105414        4058343           5.0000   \n",
       "\n",
       "   total_trending_days  \n",
       "0                    8  \n",
       "1                    8  \n",
       "2                    8  \n",
       "3                    8  \n",
       "4                    8  "
      ]
     },
     "execution_count": 68,
     "metadata": {},
     "output_type": "execute_result"
    }
   ],
   "source": [
    "df2 = df1.merge(df1_count, left_on='video_id', right_on='video_id')\n",
    "df2.head()"
   ]
  },
  {
   "cell_type": "code",
   "execution_count": 69,
   "id": "38a3fb81",
   "metadata": {},
   "outputs": [
    {
     "data": {
      "text/html": [
       "<div>\n",
       "<style scoped>\n",
       "    .dataframe tbody tr th:only-of-type {\n",
       "        vertical-align: middle;\n",
       "    }\n",
       "\n",
       "    .dataframe tbody tr th {\n",
       "        vertical-align: top;\n",
       "    }\n",
       "\n",
       "    .dataframe thead th {\n",
       "        text-align: right;\n",
       "    }\n",
       "</style>\n",
       "<table border=\"1\" class=\"dataframe\">\n",
       "  <thead>\n",
       "    <tr style=\"text-align: right;\">\n",
       "      <th></th>\n",
       "      <th>view_count</th>\n",
       "      <th>likes</th>\n",
       "      <th>dislikes</th>\n",
       "      <th>comment_count</th>\n",
       "      <th>trending_day_no</th>\n",
       "      <th>total_trending_days</th>\n",
       "    </tr>\n",
       "  </thead>\n",
       "  <tbody>\n",
       "    <tr>\n",
       "      <th>view_count</th>\n",
       "      <td>1.0000</td>\n",
       "      <td>0.8977</td>\n",
       "      <td>0.4695</td>\n",
       "      <td>0.8315</td>\n",
       "      <td>0.4086</td>\n",
       "      <td>0.4468</td>\n",
       "    </tr>\n",
       "    <tr>\n",
       "      <th>likes</th>\n",
       "      <td>0.8977</td>\n",
       "      <td>1.0000</td>\n",
       "      <td>0.5161</td>\n",
       "      <td>0.8727</td>\n",
       "      <td>0.2459</td>\n",
       "      <td>0.2960</td>\n",
       "    </tr>\n",
       "    <tr>\n",
       "      <th>dislikes</th>\n",
       "      <td>0.4695</td>\n",
       "      <td>0.5161</td>\n",
       "      <td>1.0000</td>\n",
       "      <td>0.5334</td>\n",
       "      <td>0.0609</td>\n",
       "      <td>0.0270</td>\n",
       "    </tr>\n",
       "    <tr>\n",
       "      <th>comment_count</th>\n",
       "      <td>0.8315</td>\n",
       "      <td>0.8727</td>\n",
       "      <td>0.5334</td>\n",
       "      <td>1.0000</td>\n",
       "      <td>0.1747</td>\n",
       "      <td>0.2354</td>\n",
       "    </tr>\n",
       "    <tr>\n",
       "      <th>trending_day_no</th>\n",
       "      <td>0.4086</td>\n",
       "      <td>0.2459</td>\n",
       "      <td>0.0609</td>\n",
       "      <td>0.1747</td>\n",
       "      <td>1.0000</td>\n",
       "      <td>0.5804</td>\n",
       "    </tr>\n",
       "    <tr>\n",
       "      <th>total_trending_days</th>\n",
       "      <td>0.4468</td>\n",
       "      <td>0.2960</td>\n",
       "      <td>0.0270</td>\n",
       "      <td>0.2354</td>\n",
       "      <td>0.5804</td>\n",
       "      <td>1.0000</td>\n",
       "    </tr>\n",
       "  </tbody>\n",
       "</table>\n",
       "</div>"
      ],
      "text/plain": [
       "                     view_count  likes  dislikes  comment_count  \\\n",
       "view_count               1.0000 0.8977    0.4695         0.8315   \n",
       "likes                    0.8977 1.0000    0.5161         0.8727   \n",
       "dislikes                 0.4695 0.5161    1.0000         0.5334   \n",
       "comment_count            0.8315 0.8727    0.5334         1.0000   \n",
       "trending_day_no          0.4086 0.2459    0.0609         0.1747   \n",
       "total_trending_days      0.4468 0.2960    0.0270         0.2354   \n",
       "\n",
       "                     trending_day_no  total_trending_days  \n",
       "view_count                    0.4086               0.4468  \n",
       "likes                         0.2459               0.2960  \n",
       "dislikes                      0.0609               0.0270  \n",
       "comment_count                 0.1747               0.2354  \n",
       "trending_day_no               1.0000               0.5804  \n",
       "total_trending_days           0.5804               1.0000  "
      ]
     },
     "execution_count": 69,
     "metadata": {},
     "output_type": "execute_result"
    }
   ],
   "source": [
    "df2.corr()"
   ]
  },
  {
   "cell_type": "code",
   "execution_count": 70,
   "id": "ac4f19cb",
   "metadata": {},
   "outputs": [],
   "source": [
    "df2['published_year'] = df2.publishedAt.dt.year\n",
    "df2['published_month'] = df2.publishedAt.dt.month\n",
    "df2['published_day'] = df2.publishedAt.dt.day\n",
    "df2['published_hour'] = df2.publishedAt.dt.hour\n",
    "df2['published_minute'] = df2.publishedAt.dt.minute\n",
    "df2['published_week'] = df2.publishedAt.dt.week"
   ]
  },
  {
   "cell_type": "code",
   "execution_count": 72,
   "id": "f1749728",
   "metadata": {},
   "outputs": [],
   "source": [
    "df2.drop(columns=['video_id', 'trending_date', 'publishedAt'],inplace=True) "
   ]
  },
  {
   "cell_type": "code",
   "execution_count": 73,
   "id": "415f6496",
   "metadata": {},
   "outputs": [
    {
     "data": {
      "text/html": [
       "<div>\n",
       "<style scoped>\n",
       "    .dataframe tbody tr th:only-of-type {\n",
       "        vertical-align: middle;\n",
       "    }\n",
       "\n",
       "    .dataframe tbody tr th {\n",
       "        vertical-align: top;\n",
       "    }\n",
       "\n",
       "    .dataframe thead th {\n",
       "        text-align: right;\n",
       "    }\n",
       "</style>\n",
       "<table border=\"1\" class=\"dataframe\">\n",
       "  <thead>\n",
       "    <tr style=\"text-align: right;\">\n",
       "      <th></th>\n",
       "      <th>view_count</th>\n",
       "      <th>likes</th>\n",
       "      <th>dislikes</th>\n",
       "      <th>comment_count</th>\n",
       "      <th>trending_day_no</th>\n",
       "      <th>total_trending_days</th>\n",
       "      <th>published_year</th>\n",
       "      <th>published_month</th>\n",
       "      <th>published_day</th>\n",
       "      <th>published_hour</th>\n",
       "      <th>published_minute</th>\n",
       "      <th>published_week</th>\n",
       "    </tr>\n",
       "  </thead>\n",
       "  <tbody>\n",
       "    <tr>\n",
       "      <th>0</th>\n",
       "      <td>37570579</td>\n",
       "      <td>5177871</td>\n",
       "      <td>12125</td>\n",
       "      <td>2276126</td>\n",
       "      <td>1.0000</td>\n",
       "      <td>8</td>\n",
       "      <td>2020</td>\n",
       "      <td>11</td>\n",
       "      <td>20</td>\n",
       "      <td>4</td>\n",
       "      <td>58</td>\n",
       "      <td>47</td>\n",
       "    </tr>\n",
       "    <tr>\n",
       "      <th>1</th>\n",
       "      <td>84352431</td>\n",
       "      <td>6965393</td>\n",
       "      <td>38012</td>\n",
       "      <td>3411203</td>\n",
       "      <td>2.0000</td>\n",
       "      <td>8</td>\n",
       "      <td>2020</td>\n",
       "      <td>11</td>\n",
       "      <td>20</td>\n",
       "      <td>4</td>\n",
       "      <td>58</td>\n",
       "      <td>47</td>\n",
       "    </tr>\n",
       "    <tr>\n",
       "      <th>2</th>\n",
       "      <td>121487843</td>\n",
       "      <td>10696119</td>\n",
       "      <td>81348</td>\n",
       "      <td>3913332</td>\n",
       "      <td>3.0000</td>\n",
       "      <td>8</td>\n",
       "      <td>2020</td>\n",
       "      <td>11</td>\n",
       "      <td>20</td>\n",
       "      <td>4</td>\n",
       "      <td>58</td>\n",
       "      <td>47</td>\n",
       "    </tr>\n",
       "    <tr>\n",
       "      <th>3</th>\n",
       "      <td>130757195</td>\n",
       "      <td>10908482</td>\n",
       "      <td>95278</td>\n",
       "      <td>3998863</td>\n",
       "      <td>4.0000</td>\n",
       "      <td>8</td>\n",
       "      <td>2020</td>\n",
       "      <td>11</td>\n",
       "      <td>20</td>\n",
       "      <td>4</td>\n",
       "      <td>58</td>\n",
       "      <td>47</td>\n",
       "    </tr>\n",
       "    <tr>\n",
       "      <th>4</th>\n",
       "      <td>136155442</td>\n",
       "      <td>11077371</td>\n",
       "      <td>105414</td>\n",
       "      <td>4058343</td>\n",
       "      <td>5.0000</td>\n",
       "      <td>8</td>\n",
       "      <td>2020</td>\n",
       "      <td>11</td>\n",
       "      <td>20</td>\n",
       "      <td>4</td>\n",
       "      <td>58</td>\n",
       "      <td>47</td>\n",
       "    </tr>\n",
       "  </tbody>\n",
       "</table>\n",
       "</div>"
      ],
      "text/plain": [
       "   view_count     likes  dislikes  comment_count  trending_day_no  \\\n",
       "0    37570579   5177871     12125        2276126           1.0000   \n",
       "1    84352431   6965393     38012        3411203           2.0000   \n",
       "2   121487843  10696119     81348        3913332           3.0000   \n",
       "3   130757195  10908482     95278        3998863           4.0000   \n",
       "4   136155442  11077371    105414        4058343           5.0000   \n",
       "\n",
       "   total_trending_days  published_year  published_month  published_day  \\\n",
       "0                    8            2020               11             20   \n",
       "1                    8            2020               11             20   \n",
       "2                    8            2020               11             20   \n",
       "3                    8            2020               11             20   \n",
       "4                    8            2020               11             20   \n",
       "\n",
       "   published_hour  published_minute  published_week  \n",
       "0               4                58              47  \n",
       "1               4                58              47  \n",
       "2               4                58              47  \n",
       "3               4                58              47  \n",
       "4               4                58              47  "
      ]
     },
     "execution_count": 73,
     "metadata": {},
     "output_type": "execute_result"
    }
   ],
   "source": [
    "df2.head()"
   ]
  },
  {
   "cell_type": "code",
   "execution_count": 74,
   "id": "2f2e3125",
   "metadata": {},
   "outputs": [],
   "source": [
    "X = df2.drop('total_trending_days',axis=1)\n",
    "Y = df2.total_trending_days"
   ]
  },
  {
   "cell_type": "code",
   "execution_count": 75,
   "id": "5099c328",
   "metadata": {},
   "outputs": [],
   "source": [
    "import sklearn.tree"
   ]
  },
  {
   "cell_type": "code",
   "execution_count": 76,
   "id": "1ab1621d",
   "metadata": {},
   "outputs": [],
   "source": [
    "trending_days_binned = pd.cut(Y, bins= [0,4,9,40])\n",
    "trending_days_binned_count = trending_days_binned.value_counts().rename_axis('Binned_Trending_Days').reset_index(name = 'Count')"
   ]
  },
  {
   "cell_type": "code",
   "execution_count": 77,
   "id": "2c30ec9f",
   "metadata": {},
   "outputs": [
    {
     "data": {
      "text/plain": [
       "<seaborn.axisgrid.FacetGrid at 0x128ca121580>"
      ]
     },
     "execution_count": 77,
     "metadata": {},
     "output_type": "execute_result"
    },
    {
     "data": {
      "image/png": "[encoded data removed]",
      "text/plain": [
       "<Figure size 720x360 with 1 Axes>"
      ]
     },
     "metadata": {
      "needs_background": "light"
     },
     "output_type": "display_data"
    }
   ],
   "source": [
    "sns.catplot( y='Count',x='Binned_Trending_Days',\\\n",
    "            data=trending_days_binned_count,kind='bar', aspect = 2)"
   ]
  },
  {
   "cell_type": "code",
   "execution_count": 78,
   "id": "17a18ce5",
   "metadata": {},
   "outputs": [],
   "source": [
    "X = df2.drop('total_trending_days',axis=1)\n",
    "Y = df2.total_trending_days"
   ]
  },
  {
   "cell_type": "code",
   "execution_count": 79,
   "id": "1e0f8d40",
   "metadata": {},
   "outputs": [],
   "source": [
    "X_train, X_test, Y_train, Y_test = train_test_split(X,Y,\n",
    "                            test_size=0.3,random_state=0)"
   ]
  },
  {
   "cell_type": "code",
   "execution_count": 80,
   "id": "ef8c8dcd",
   "metadata": {},
   "outputs": [],
   "source": [
    "from sklearn import linear_model"
   ]
  },
  {
   "cell_type": "code",
   "execution_count": 81,
   "id": "f71dc9e0",
   "metadata": {},
   "outputs": [],
   "source": [
    "regr = linear_model.LinearRegression()"
   ]
  },
  {
   "cell_type": "code",
   "execution_count": 82,
   "id": "bbe7b02a",
   "metadata": {},
   "outputs": [],
   "source": [
    "regr = linear_model.LinearRegression()"
   ]
  },
  {
   "cell_type": "code",
   "execution_count": 83,
   "id": "a6a6ad55",
   "metadata": {},
   "outputs": [
    {
     "data": {
      "text/html": [
       "<style>#sk-container-id-3 {color: black;background-color: white;}#sk-container-id-3 pre{padding: 0;}#sk-container-id-3 div.sk-toggleable {background-color: white;}#sk-container-id-3 label.sk-toggleable__label {cursor: pointer;display: block;width: 100%;margin-bottom: 0;padding: 0.3em;box-sizing: border-box;text-align: center;}#sk-container-id-3 label.sk-toggleable__label-arrow:before {content: \"▸\";float: left;margin-right: 0.25em;color: #696969;}#sk-container-id-3 label.sk-toggleable__label-arrow:hover:before {color: black;}#sk-container-id-3 div.sk-estimator:hover label.sk-toggleable__label-arrow:before {color: black;}#sk-container-id-3 div.sk-toggleable__content {max-height: 0;max-width: 0;overflow: hidden;text-align: left;background-color: #f0f8ff;}#sk-container-id-3 div.sk-toggleable__content pre {margin: 0.2em;color: black;border-radius: 0.25em;background-color: #f0f8ff;}#sk-container-id-3 input.sk-toggleable__control:checked~div.sk-toggleable__content {max-height: 200px;max-width: 100%;overflow: auto;}#sk-container-id-3 input.sk-toggleable__control:checked~label.sk-toggleable__label-arrow:before {content: \"▾\";}#sk-container-id-3 div.sk-estimator input.sk-toggleable__control:checked~label.sk-toggleable__label {background-color: #d4ebff;}#sk-container-id-3 div.sk-label input.sk-toggleable__control:checked~label.sk-toggleable__label {background-color: #d4ebff;}#sk-container-id-3 input.sk-hidden--visually {border: 0;clip: rect(1px 1px 1px 1px);clip: rect(1px, 1px, 1px, 1px);height: 1px;margin: -1px;overflow: hidden;padding: 0;position: absolute;width: 1px;}#sk-container-id-3 div.sk-estimator {font-family: monospace;background-color: #f0f8ff;border: 1px dotted black;border-radius: 0.25em;box-sizing: border-box;margin-bottom: 0.5em;}#sk-container-id-3 div.sk-estimator:hover {background-color: #d4ebff;}#sk-container-id-3 div.sk-parallel-item::after {content: \"\";width: 100%;border-bottom: 1px solid gray;flex-grow: 1;}#sk-container-id-3 div.sk-label:hover label.sk-toggleable__label {background-color: #d4ebff;}#sk-container-id-3 div.sk-serial::before {content: \"\";position: absolute;border-left: 1px solid gray;box-sizing: border-box;top: 0;bottom: 0;left: 50%;z-index: 0;}#sk-container-id-3 div.sk-serial {display: flex;flex-direction: column;align-items: center;background-color: white;padding-right: 0.2em;padding-left: 0.2em;position: relative;}#sk-container-id-3 div.sk-item {position: relative;z-index: 1;}#sk-container-id-3 div.sk-parallel {display: flex;align-items: stretch;justify-content: center;background-color: white;position: relative;}#sk-container-id-3 div.sk-item::before, #sk-container-id-3 div.sk-parallel-item::before {content: \"\";position: absolute;border-left: 1px solid gray;box-sizing: border-box;top: 0;bottom: 0;left: 50%;z-index: -1;}#sk-container-id-3 div.sk-parallel-item {display: flex;flex-direction: column;z-index: 1;position: relative;background-color: white;}#sk-container-id-3 div.sk-parallel-item:first-child::after {align-self: flex-end;width: 50%;}#sk-container-id-3 div.sk-parallel-item:last-child::after {align-self: flex-start;width: 50%;}#sk-container-id-3 div.sk-parallel-item:only-child::after {width: 0;}#sk-container-id-3 div.sk-dashed-wrapped {border: 1px dashed gray;margin: 0 0.4em 0.5em 0.4em;box-sizing: border-box;padding-bottom: 0.4em;background-color: white;}#sk-container-id-3 div.sk-label label {font-family: monospace;font-weight: bold;display: inline-block;line-height: 1.2em;}#sk-container-id-3 div.sk-label-container {text-align: center;}#sk-container-id-3 div.sk-container {/* jupyter's `normalize.less` sets `[hidden] { display: none; }` but bootstrap.min.css set `[hidden] { display: none !important; }` so we also need the `!important` here to be able to override the default hidden behavior on the sphinx rendered scikit-learn.org. See: https://github.com/scikit-learn/scikit-learn/issues/21755 */display: inline-block !important;position: relative;}#sk-container-id-3 div.sk-text-repr-fallback {display: none;}</style><div id=\"sk-container-id-3\" class=\"sk-top-container\"><div class=\"sk-text-repr-fallback\"><pre>LinearRegression()</pre><b>In a Jupyter environment, please rerun this cell to show the HTML representation or trust the notebook. <br />On GitHub, the HTML representation is unable to render, please try loading this page with nbviewer.org.</b></div><div class=\"sk-container\" hidden><div class=\"sk-item\"><div class=\"sk-estimator sk-toggleable\"><input class=\"sk-toggleable__control sk-hidden--visually\" id=\"sk-estimator-id-3\" type=\"checkbox\" checked><label for=\"sk-estimator-id-3\" class=\"sk-toggleable__label sk-toggleable__label-arrow\">LinearRegression</label><div class=\"sk-toggleable__content\"><pre>LinearRegression()</pre></div></div></div></div></div>"
      ],
      "text/plain": [
       "LinearRegression()"
      ]
     },
     "execution_count": 83,
     "metadata": {},
     "output_type": "execute_result"
    }
   ],
   "source": [
    "regr.fit(X_train,Y_train)"
   ]
  },
  {
   "cell_type": "code",
   "execution_count": 84,
   "id": "a9935574",
   "metadata": {},
   "outputs": [],
   "source": [
    "y_pred = regr.predict(X_test)"
   ]
  },
  {
   "cell_type": "code",
   "execution_count": 85,
   "id": "66aa33b3",
   "metadata": {},
   "outputs": [
    {
     "name": "stdout",
     "output_type": "stream",
     "text": [
      "Coefficients: \n",
      " [ 6.68954621e-08 -2.02054347e-07 -8.32813594e-06 -5.87925314e-07\n",
      "  4.41524254e-01 -5.33999269e-02 -1.72522443e-01  2.73293927e-03\n",
      "  7.26744199e-02  5.83833471e-06  1.52107466e-02]\n"
     ]
    }
   ],
   "source": [
    "print(\"Coefficients: \\n\", regr.coef_)"
   ]
  },
  {
   "cell_type": "code",
   "execution_count": 86,
   "id": "b2611cc1",
   "metadata": {},
   "outputs": [],
   "source": [
    "r2_score=sklearn.metrics.r2_score(Y_test, y_pred)"
   ]
  },
  {
   "cell_type": "code",
   "execution_count": 87,
   "id": "ce594bb4",
   "metadata": {},
   "outputs": [
    {
     "name": "stdout",
     "output_type": "stream",
     "text": [
      "Coefficient of determination: 0.48\n"
     ]
    }
   ],
   "source": [
    "print(\"Coefficient of determination: %.2f\" % r2_score)"
   ]
  },
  {
   "cell_type": "code",
   "execution_count": 88,
   "id": "7d107651",
   "metadata": {},
   "outputs": [
    {
     "data": {
      "text/plain": [
       "1.5461079290463973"
      ]
     },
     "execution_count": 88,
     "metadata": {},
     "output_type": "execute_result"
    }
   ],
   "source": [
    "(y_pred-Y_test).abs().mean()"
   ]
  },
  {
   "cell_type": "code",
   "execution_count": 89,
   "id": "6e86ed37",
   "metadata": {},
   "outputs": [
    {
     "data": {
      "text/plain": [
       "4.934681675908439"
      ]
     },
     "execution_count": 89,
     "metadata": {},
     "output_type": "execute_result"
    }
   ],
   "source": [
    "((y_pred-Y_test)**2).mean()"
   ]
  },
  {
   "cell_type": "code",
   "execution_count": 100,
   "id": "8e16b7ba",
   "metadata": {},
   "outputs": [],
   "source": [
    "from sklearn.linear_model import ElasticNet\n",
    "from sklearn.tree import DecisionTreeRegressor\n",
    "from sklearn.ensemble import GradientBoostingRegressor\n",
    "from sklearn.neural_network import MLPRegressor\n",
    "from sklearn.svm import SVR"
   ]
  },
  {
   "cell_type": "code",
   "execution_count": 103,
   "id": "d53d86c3",
   "metadata": {},
   "outputs": [
    {
     "name": "stdout",
     "output_type": "stream",
     "text": [
      "Collecting lightgbm\n",
      "  Downloading lightgbm-3.3.2-py3-none-win_amd64.whl (1.0 MB)\n",
      "     ---------------------------------------- 1.0/1.0 MB 3.1 MB/s eta 0:00:00\n",
      "Requirement already satisfied: wheel in c:\\users\\vinay\\anaconda3\\lib\\site-packages (from lightgbm) (0.37.0)\n",
      "Requirement already satisfied: numpy in c:\\users\\vinay\\anaconda3\\lib\\site-packages (from lightgbm) (1.20.3)\n",
      "Requirement already satisfied: scikit-learn!=0.22.0 in c:\\users\\vinay\\anaconda3\\lib\\site-packages (from lightgbm) (1.1.2)\n",
      "Requirement already satisfied: scipy in c:\\users\\vinay\\anaconda3\\lib\\site-packages (from lightgbm) (1.7.1)\n",
      "Requirement already satisfied: threadpoolctl>=2.0.0 in c:\\users\\vinay\\anaconda3\\lib\\site-packages (from scikit-learn!=0.22.0->lightgbm) (2.2.0)\n",
      "Requirement already satisfied: joblib>=1.0.0 in c:\\users\\vinay\\anaconda3\\lib\\site-packages (from scikit-learn!=0.22.0->lightgbm) (1.1.0)\n",
      "Installing collected packages: lightgbm\n",
      "Successfully installed lightgbm-3.3.2\n",
      "Note: you may need to restart the kernel to use updated packages.\n"
     ]
    }
   ],
   "source": [
    "#pip install lightgbm"
   ]
  },
  {
   "cell_type": "code",
   "execution_count": 109,
   "id": "32d15781",
   "metadata": {},
   "outputs": [],
   "source": [
    "from sklearn.model_selection import KFold\n",
    "from sklearn.linear_model import LinearRegression\n",
    "from sklearn.linear_model import Ridge, Lasso, LinearRegression\n",
    "from sklearn.tree import DecisionTreeRegressor\n",
    "from sklearn.ensemble import GradientBoostingRegressor, BaggingRegressor, RandomForestRegressor, StackingRegressor\n",
    "from xgboost import XGBRegressor\n",
    "from lightgbm import LGBMRegressor, sklearn\n",
    "from sklearn.model_selection import train_test_split\n",
    "from sklearn.compose import ColumnTransformer\n",
    "from sklearn.preprocessing import OneHotEncoder\n",
    "from sklearn.model_selection import cross_val_score, RepeatedKFold\n"
   ]
  },
  {
   "cell_type": "code",
   "execution_count": 105,
   "id": "8933edaa",
   "metadata": {},
   "outputs": [],
   "source": [
    "def base_models():\n",
    "  models = dict()\n",
    "  models['lr'] = LinearRegression()\n",
    "  models[\"Ridge\"] = Ridge()\n",
    "  models[\"Lasso\"] = Lasso()\n",
    "  models[\"Tree\"] = DecisionTreeRegressor()\n",
    "  models[\"Random Forest\"] = RandomForestRegressor()\n",
    "  models[\"Bagging\"] = BaggingRegressor()\n",
    "  models[\"GBM\"] = GradientBoostingRegressor()\n",
    "  \n",
    "  return models\n"
   ]
  },
  {
   "cell_type": "code",
   "execution_count": 106,
   "id": "51d796e5",
   "metadata": {},
   "outputs": [],
   "source": [
    "def eval_models(model):\n",
    "  cv = RepeatedKFold(n_splits=10, n_repeats=3, random_state=1)\n",
    "  scores = -cross_val_score(model, X_train, Y_train, scoring='neg_mean_absolute_error', cv=cv, n_jobs=-1, \n",
    "                            error_score='raise')\n",
    "  return scores"
   ]
  },
  {
   "cell_type": "code",
   "execution_count": 107,
   "id": "acd58637",
   "metadata": {},
   "outputs": [],
   "source": [
    "models = base_models()\n",
    "# evaluate the models and store results\n",
    "results, names = list(), list() "
   ]
  },
  {
   "cell_type": "code",
   "execution_count": 110,
   "id": "d1adb735",
   "metadata": {},
   "outputs": [
    {
     "name": "stdout",
     "output_type": "stream",
     "text": [
      ">lr 1.575 (0.106)\n",
      ">Ridge 1.575 (0.106)\n",
      ">Lasso 1.551 (0.111)\n",
      ">Tree 0.506 (0.113)\n",
      ">Random Forest 0.577 (0.063)\n",
      ">Bagging 0.622 (0.069)\n",
      ">GBM 0.981 (0.075)\n"
     ]
    }
   ],
   "source": [
    "for name, model in models.items():\n",
    "  scores = eval_models(model)\n",
    "  results.append(scores)\n",
    "  names.append(name)\n",
    "  print('>%s %.3f (%.3f)' % (name, scores.mean(), scores.std()))"
   ]
  },
  {
   "cell_type": "code",
   "execution_count": 111,
   "id": "d1753cfb",
   "metadata": {},
   "outputs": [],
   "source": [
    "regressmod = pd.DataFrame(np.transpose(results), columns = [\"lr\",\"Ridge\",\"Lasso\",\"Tree\",\"Random Forest\",\"Bagging\",\"GBM\"])\n",
    "regressmod = pd.melt(regressmod.reset_index(), id_vars='index',value_vars=[\"lr\",\"Ridge\",\"Lasso\",\"Tree\",\"Random Forest\",\"Bagging\",\"GBM\"])"
   ]
  },
  {
   "cell_type": "code",
   "execution_count": 112,
   "id": "7e2dd197",
   "metadata": {},
   "outputs": [
    {
     "data": {
      "application/vnd.plotly.v1+json": {
       "config": {
        "plotlyServerURL": "https://plot.ly"
       },
       "data": [
        {
         "alignmentgroup": "True",
         "boxpoints": "all",
         "hovertemplate": "Machine Learning Model=%{x}<br>RMS Error=%{y}<extra></extra>",
         "legendgroup": "lr",
         "marker": {
          "color": "#636efa"
         },
         "name": "lr",
         "notched": false,
         "offsetgroup": "lr",
         "orientation": "v",
         "showlegend": true,
         "type": "box",
         "x": [
          "lr",
          "lr",
          "lr",
          "lr",
          "lr",
          "lr",
          "lr",
          "lr",
          "lr",
          "lr",
          "lr",
          "lr",
          "lr",
          "lr",
          "lr",
          "lr",
          "lr",
          "lr",
          "lr",
          "lr",
          "lr",
          "lr",
          "lr",
          "lr",
          "lr",
          "lr",
          "lr",
          "lr",
          "lr",
          "lr"
         ],
         "x0": " ",
         "xaxis": "x",
         "y": [
          1.5759681455097814,
          1.5281627102954507,
          1.6858619848854954,
          1.3772082193511137,
          1.6390217251606687,
          1.7307020517389462,
          1.4258026222358196,
          1.5395399505807725,
          1.6079190806200752,
          1.6500934619701426,
          1.6743129519078828,
          1.5027932956214365,
          1.675186340582938,
          1.5648252897634483,
          1.5224043409391679,
          1.627999205294843,
          1.5707763390480722,
          1.576842513212843,
          1.6957941998337087,
          1.3287571992948313,
          1.544601737547976,
          1.4351815312780256,
          1.6513354428038498,
          1.4701325258818752,
          1.5544428563881776,
          1.8513338372785948,
          1.5432927463827226,
          1.5787985028150096,
          1.5495867740507658,
          1.5788068929890784
         ],
         "y0": " ",
         "yaxis": "y"
        },
        {
         "alignmentgroup": "True",
         "boxpoints": "all",
         "hovertemplate": "Machine Learning Model=%{x}<br>RMS Error=%{y}<extra></extra>",
         "legendgroup": "Ridge",
         "marker": {
          "color": "#EF553B"
         },
         "name": "Ridge",
         "notched": false,
         "offsetgroup": "Ridge",
         "orientation": "v",
         "showlegend": true,
         "type": "box",
         "x": [
          "Ridge",
          "Ridge",
          "Ridge",
          "Ridge",
          "Ridge",
          "Ridge",
          "Ridge",
          "Ridge",
          "Ridge",
          "Ridge",
          "Ridge",
          "Ridge",
          "Ridge",
          "Ridge",
          "Ridge",
          "Ridge",
          "Ridge",
          "Ridge",
          "Ridge",
          "Ridge",
          "Ridge",
          "Ridge",
          "Ridge",
          "Ridge",
          "Ridge",
          "Ridge",
          "Ridge",
          "Ridge",
          "Ridge",
          "Ridge"
         ],
         "x0": " ",
         "xaxis": "x",
         "y": [
          1.5759485011518368,
          1.5281646404447802,
          1.6858451652562096,
          1.3771906375574507,
          1.6390183983872895,
          1.7306882926119496,
          1.425796576437919,
          1.5395179465076436,
          1.6079115204467038,
          1.6500774241531153,
          1.674313919219784,
          1.5027725867654071,
          1.6751748388004937,
          1.5648065507492033,
          1.5223762136078542,
          1.6279817610324698,
          1.5707705064540058,
          1.5768304475007617,
          1.695795669244938,
          1.32874574807089,
          1.544580309393666,
          1.4351735786726296,
          1.651321744246999,
          1.470131167262029,
          1.5544285005259404,
          1.8513230455217693,
          1.5432699222380653,
          1.578798115876035,
          1.549569387981312,
          1.5787952541256376
         ],
         "y0": " ",
         "yaxis": "y"
        },
        {
         "alignmentgroup": "True",
         "boxpoints": "all",
         "hovertemplate": "Machine Learning Model=%{x}<br>RMS Error=%{y}<extra></extra>",
         "legendgroup": "Lasso",
         "marker": {
          "color": "#00cc96"
         },
         "name": "Lasso",
         "notched": false,
         "offsetgroup": "Lasso",
         "orientation": "v",
         "showlegend": true,
         "type": "box",
         "x": [
          "Lasso",
          "Lasso",
          "Lasso",
          "Lasso",
          "Lasso",
          "Lasso",
          "Lasso",
          "Lasso",
          "Lasso",
          "Lasso",
          "Lasso",
          "Lasso",
          "Lasso",
          "Lasso",
          "Lasso",
          "Lasso",
          "Lasso",
          "Lasso",
          "Lasso",
          "Lasso",
          "Lasso",
          "Lasso",
          "Lasso",
          "Lasso",
          "Lasso",
          "Lasso",
          "Lasso",
          "Lasso",
          "Lasso",
          "Lasso"
         ],
         "x0": " ",
         "xaxis": "x",
         "y": [
          1.5670753132135662,
          1.5604144348936457,
          1.6073339993823923,
          1.3246363526958918,
          1.6703855896535946,
          1.6889840734415567,
          1.405307400393455,
          1.4690705285499077,
          1.5846583003060473,
          1.638564358125318,
          1.690423861768774,
          1.4157785618634988,
          1.6299791333021179,
          1.5085900141174198,
          1.463658951498102,
          1.607021987905724,
          1.5760912426918834,
          1.5867215406805517,
          1.7090560775251602,
          1.321962173425917,
          1.468407544238354,
          1.4206290467477667,
          1.598531579026898,
          1.500255736478418,
          1.5061285421039727,
          1.8280041258307238,
          1.507140477317163,
          1.5852338484896449,
          1.5379462207037518,
          1.5381272081808381
         ],
         "y0": " ",
         "yaxis": "y"
        },
        {
         "alignmentgroup": "True",
         "boxpoints": "all",
         "hovertemplate": "Machine Learning Model=%{x}<br>RMS Error=%{y}<extra></extra>",
         "legendgroup": "Tree",
         "marker": {
          "color": "#ab63fa"
         },
         "name": "Tree",
         "notched": false,
         "offsetgroup": "Tree",
         "orientation": "v",
         "showlegend": true,
         "type": "box",
         "x": [
          "Tree",
          "Tree",
          "Tree",
          "Tree",
          "Tree",
          "Tree",
          "Tree",
          "Tree",
          "Tree",
          "Tree",
          "Tree",
          "Tree",
          "Tree",
          "Tree",
          "Tree",
          "Tree",
          "Tree",
          "Tree",
          "Tree",
          "Tree",
          "Tree",
          "Tree",
          "Tree",
          "Tree",
          "Tree",
          "Tree",
          "Tree",
          "Tree",
          "Tree",
          "Tree"
         ],
         "x0": " ",
         "xaxis": "x",
         "y": [
          0.4646017699115044,
          0.5575221238938053,
          0.5132743362831859,
          0.3672566371681416,
          0.5,
          0.4222222222222222,
          0.44,
          0.5288888888888889,
          0.47555555555555556,
          0.49333333333333335,
          0.4336283185840708,
          0.6637168141592921,
          0.504424778761062,
          0.46017699115044247,
          0.6415929203539823,
          0.5555555555555556,
          0.3333333333333333,
          0.6,
          0.4622222222222222,
          0.28888888888888886,
          0.5663716814159292,
          0.7831858407079646,
          0.34513274336283184,
          0.4823008849557522,
          0.7699115044247787,
          0.56,
          0.6266666666666667,
          0.47555555555555556,
          0.4577777777777778,
          0.4088888888888889
         ],
         "y0": " ",
         "yaxis": "y"
        },
        {
         "alignmentgroup": "True",
         "boxpoints": "all",
         "hovertemplate": "Machine Learning Model=%{x}<br>RMS Error=%{y}<extra></extra>",
         "legendgroup": "Random Forest",
         "marker": {
          "color": "#FFA15A"
         },
         "name": "Random Forest",
         "notched": false,
         "offsetgroup": "Random Forest",
         "orientation": "v",
         "showlegend": true,
         "type": "box",
         "x": [
          "Random Forest",
          "Random Forest",
          "Random Forest",
          "Random Forest",
          "Random Forest",
          "Random Forest",
          "Random Forest",
          "Random Forest",
          "Random Forest",
          "Random Forest",
          "Random Forest",
          "Random Forest",
          "Random Forest",
          "Random Forest",
          "Random Forest",
          "Random Forest",
          "Random Forest",
          "Random Forest",
          "Random Forest",
          "Random Forest",
          "Random Forest",
          "Random Forest",
          "Random Forest",
          "Random Forest",
          "Random Forest",
          "Random Forest",
          "Random Forest",
          "Random Forest",
          "Random Forest",
          "Random Forest"
         ],
         "x0": " ",
         "xaxis": "x",
         "y": [
          0.5790265486725663,
          0.6609734513274336,
          0.5066814159292035,
          0.4325663716814159,
          0.630353982300885,
          0.7181333333333333,
          0.47173333333333334,
          0.5544444444444444,
          0.6451111111111112,
          0.6477777777777778,
          0.5741592920353982,
          0.6319911504424778,
          0.521858407079646,
          0.5410619469026549,
          0.6465044247787611,
          0.6246222222222223,
          0.5099111111111111,
          0.6175999999999999,
          0.5763555555555556,
          0.5022222222222221,
          0.5317699115044248,
          0.5676991150442479,
          0.5474336283185841,
          0.5135398230088495,
          0.6273893805309734,
          0.6428888888888888,
          0.5960444444444444,
          0.5435999999999999,
          0.5651999999999999,
          0.5803111111111111
         ],
         "y0": " ",
         "yaxis": "y"
        },
        {
         "alignmentgroup": "True",
         "boxpoints": "all",
         "hovertemplate": "Machine Learning Model=%{x}<br>RMS Error=%{y}<extra></extra>",
         "legendgroup": "Bagging",
         "marker": {
          "color": "#19d3f3"
         },
         "name": "Bagging",
         "notched": false,
         "offsetgroup": "Bagging",
         "orientation": "v",
         "showlegend": true,
         "type": "box",
         "x": [
          "Bagging",
          "Bagging",
          "Bagging",
          "Bagging",
          "Bagging",
          "Bagging",
          "Bagging",
          "Bagging",
          "Bagging",
          "Bagging",
          "Bagging",
          "Bagging",
          "Bagging",
          "Bagging",
          "Bagging",
          "Bagging",
          "Bagging",
          "Bagging",
          "Bagging",
          "Bagging",
          "Bagging",
          "Bagging",
          "Bagging",
          "Bagging",
          "Bagging",
          "Bagging",
          "Bagging",
          "Bagging",
          "Bagging",
          "Bagging"
         ],
         "x0": " ",
         "xaxis": "x",
         "y": [
          0.6438053097345132,
          0.6601769911504425,
          0.5101769911504425,
          0.4827433628318584,
          0.6712389380530973,
          0.7057777777777778,
          0.4871111111111111,
          0.6964444444444444,
          0.692,
          0.7226666666666668,
          0.6309734513274334,
          0.6783185840707965,
          0.604867256637168,
          0.5269911504424778,
          0.6473451327433628,
          0.6564444444444444,
          0.6022222222222222,
          0.6395555555555554,
          0.6173333333333332,
          0.5519999999999999,
          0.5765486725663717,
          0.5676991150442477,
          0.6283185840707963,
          0.5349557522123893,
          0.6522123893805309,
          0.7662222222222221,
          0.6839999999999999,
          0.6066666666666667,
          0.5911111111111111,
          0.638222222222222
         ],
         "y0": " ",
         "yaxis": "y"
        },
        {
         "alignmentgroup": "True",
         "boxpoints": "all",
         "hovertemplate": "Machine Learning Model=%{x}<br>RMS Error=%{y}<extra></extra>",
         "legendgroup": "GBM",
         "marker": {
          "color": "#FF6692"
         },
         "name": "GBM",
         "notched": false,
         "offsetgroup": "GBM",
         "orientation": "v",
         "showlegend": true,
         "type": "box",
         "x": [
          "GBM",
          "GBM",
          "GBM",
          "GBM",
          "GBM",
          "GBM",
          "GBM",
          "GBM",
          "GBM",
          "GBM",
          "GBM",
          "GBM",
          "GBM",
          "GBM",
          "GBM",
          "GBM",
          "GBM",
          "GBM",
          "GBM",
          "GBM",
          "GBM",
          "GBM",
          "GBM",
          "GBM",
          "GBM",
          "GBM",
          "GBM",
          "GBM",
          "GBM",
          "GBM"
         ],
         "x0": " ",
         "xaxis": "x",
         "y": [
          1.0182312229027803,
          1.029991542738391,
          0.8954866011402437,
          0.8276159768940022,
          1.0323346002293265,
          1.2042742529256314,
          0.8684690998626264,
          0.958375723509336,
          1.0208113884235532,
          0.9597355273925832,
          0.9566338011411981,
          1.0590572492188408,
          0.9168974241557197,
          1.0034950596703271,
          1.0081278785495544,
          1.0231199481407525,
          0.9502493383217411,
          0.9989514976702039,
          1.0293323204770175,
          0.9098023517808441,
          0.9241869474099358,
          0.941473527113859,
          0.9462987784411014,
          0.909680199104807,
          0.9907853774368411,
          1.143680664315714,
          0.9838363001085367,
          0.9145415467485117,
          1.0129243982541696,
          0.9780188364245768
         ],
         "y0": " ",
         "yaxis": "y"
        }
       ],
       "layout": {
        "boxmode": "overlay",
        "legend": {
         "title": {
          "text": "Machine Learning Model"
         },
         "tracegroupgap": 0
        },
        "template": {
         "data": {
          "bar": [
           {
            "error_x": {
             "color": "#2a3f5f"
            },
            "error_y": {
             "color": "#2a3f5f"
            },
            "marker": {
             "line": {
              "color": "#E5ECF6",
              "width": 0.5
             },
             "pattern": {
              "fillmode": "overlay",
              "size": 10,
              "solidity": 0.2
             }
            },
            "type": "bar"
           }
          ],
          "barpolar": [
           {
            "marker": {
             "line": {
              "color": "#E5ECF6",
              "width": 0.5
             },
             "pattern": {
              "fillmode": "overlay",
              "size": 10,
              "solidity": 0.2
             }
            },
            "type": "barpolar"
           }
          ],
          "carpet": [
           {
            "aaxis": {
             "endlinecolor": "#2a3f5f",
             "gridcolor": "white",
             "linecolor": "white",
             "minorgridcolor": "white",
             "startlinecolor": "#2a3f5f"
            },
            "baxis": {
             "endlinecolor": "#2a3f5f",
             "gridcolor": "white",
             "linecolor": "white",
             "minorgridcolor": "white",
             "startlinecolor": "#2a3f5f"
            },
            "type": "carpet"
           }
          ],
          "choropleth": [
           {
            "colorbar": {
             "outlinewidth": 0,
             "ticks": ""
            },
            "type": "choropleth"
           }
          ],
          "contour": [
           {
            "colorbar": {
             "outlinewidth": 0,
             "ticks": ""
            },
            "colorscale": [
             [
              0,
              "#0d0887"
             ],
             [
              0.1111111111111111,
              "#46039f"
             ],
             [
              0.2222222222222222,
              "#7201a8"
             ],
             [
              0.3333333333333333,
              "#9c179e"
             ],
             [
              0.4444444444444444,
              "#bd3786"
             ],
             [
              0.5555555555555556,
              "#d8576b"
             ],
             [
              0.6666666666666666,
              "#ed7953"
             ],
             [
              0.7777777777777778,
              "#fb9f3a"
             ],
             [
              0.8888888888888888,
              "#fdca26"
             ],
             [
              1,
              "#f0f921"
             ]
            ],
            "type": "contour"
           }
          ],
          "contourcarpet": [
           {
            "colorbar": {
             "outlinewidth": 0,
             "ticks": ""
            },
            "type": "contourcarpet"
           }
          ],
          "heatmap": [
           {
            "colorbar": {
             "outlinewidth": 0,
             "ticks": ""
            },
            "colorscale": [
             [
              0,
              "#0d0887"
             ],
             [
              0.1111111111111111,
              "#46039f"
             ],
             [
              0.2222222222222222,
              "#7201a8"
             ],
             [
              0.3333333333333333,
              "#9c179e"
             ],
             [
              0.4444444444444444,
              "#bd3786"
             ],
             [
              0.5555555555555556,
              "#d8576b"
             ],
             [
              0.6666666666666666,
              "#ed7953"
             ],
             [
              0.7777777777777778,
              "#fb9f3a"
             ],
             [
              0.8888888888888888,
              "#fdca26"
             ],
             [
              1,
              "#f0f921"
             ]
            ],
            "type": "heatmap"
           }
          ],
          "heatmapgl": [
           {
            "colorbar": {
             "outlinewidth": 0,
             "ticks": ""
            },
            "colorscale": [
             [
              0,
              "#0d0887"
             ],
             [
              0.1111111111111111,
              "#46039f"
             ],
             [
              0.2222222222222222,
              "#7201a8"
             ],
             [
              0.3333333333333333,
              "#9c179e"
             ],
             [
              0.4444444444444444,
              "#bd3786"
             ],
             [
              0.5555555555555556,
              "#d8576b"
             ],
             [
              0.6666666666666666,
              "#ed7953"
             ],
             [
              0.7777777777777778,
              "#fb9f3a"
             ],
             [
              0.8888888888888888,
              "#fdca26"
             ],
             [
              1,
              "#f0f921"
             ]
            ],
            "type": "heatmapgl"
           }
          ],
          "histogram": [
           {
            "marker": {
             "pattern": {
              "fillmode": "overlay",
              "size": 10,
              "solidity": 0.2
             }
            },
            "type": "histogram"
           }
          ],
          "histogram2d": [
           {
            "colorbar": {
             "outlinewidth": 0,
             "ticks": ""
            },
            "colorscale": [
             [
              0,
              "#0d0887"
             ],
             [
              0.1111111111111111,
              "#46039f"
             ],
             [
              0.2222222222222222,
              "#7201a8"
             ],
             [
              0.3333333333333333,
              "#9c179e"
             ],
             [
              0.4444444444444444,
              "#bd3786"
             ],
             [
              0.5555555555555556,
              "#d8576b"
             ],
             [
              0.6666666666666666,
              "#ed7953"
             ],
             [
              0.7777777777777778,
              "#fb9f3a"
             ],
             [
              0.8888888888888888,
              "#fdca26"
             ],
             [
              1,
              "#f0f921"
             ]
            ],
            "type": "histogram2d"
           }
          ],
          "histogram2dcontour": [
           {
            "colorbar": {
             "outlinewidth": 0,
             "ticks": ""
            },
            "colorscale": [
             [
              0,
              "#0d0887"
             ],
             [
              0.1111111111111111,
              "#46039f"
             ],
             [
              0.2222222222222222,
              "#7201a8"
             ],
             [
              0.3333333333333333,
              "#9c179e"
             ],
             [
              0.4444444444444444,
              "#bd3786"
             ],
             [
              0.5555555555555556,
              "#d8576b"
             ],
             [
              0.6666666666666666,
              "#ed7953"
             ],
             [
              0.7777777777777778,
              "#fb9f3a"
             ],
             [
              0.8888888888888888,
              "#fdca26"
             ],
             [
              1,
              "#f0f921"
             ]
            ],
            "type": "histogram2dcontour"
           }
          ],
          "mesh3d": [
           {
            "colorbar": {
             "outlinewidth": 0,
             "ticks": ""
            },
            "type": "mesh3d"
           }
          ],
          "parcoords": [
           {
            "line": {
             "colorbar": {
              "outlinewidth": 0,
              "ticks": ""
             }
            },
            "type": "parcoords"
           }
          ],
          "pie": [
           {
            "automargin": true,
            "type": "pie"
           }
          ],
          "scatter": [
           {
            "fillpattern": {
             "fillmode": "overlay",
             "size": 10,
             "solidity": 0.2
            },
            "type": "scatter"
           }
          ],
          "scatter3d": [
           {
            "line": {
             "colorbar": {
              "outlinewidth": 0,
              "ticks": ""
             }
            },
            "marker": {
             "colorbar": {
              "outlinewidth": 0,
              "ticks": ""
             }
            },
            "type": "scatter3d"
           }
          ],
          "scattercarpet": [
           {
            "marker": {
             "colorbar": {
              "outlinewidth": 0,
              "ticks": ""
             }
            },
            "type": "scattercarpet"
           }
          ],
          "scattergeo": [
           {
            "marker": {
             "colorbar": {
              "outlinewidth": 0,
              "ticks": ""
             }
            },
            "type": "scattergeo"
           }
          ],
          "scattergl": [
           {
            "marker": {
             "colorbar": {
              "outlinewidth": 0,
              "ticks": ""
             }
            },
            "type": "scattergl"
           }
          ],
          "scattermapbox": [
           {
            "marker": {
             "colorbar": {
              "outlinewidth": 0,
              "ticks": ""
             }
            },
            "type": "scattermapbox"
           }
          ],
          "scatterpolar": [
           {
            "marker": {
             "colorbar": {
              "outlinewidth": 0,
              "ticks": ""
             }
            },
            "type": "scatterpolar"
           }
          ],
          "scatterpolargl": [
           {
            "marker": {
             "colorbar": {
              "outlinewidth": 0,
              "ticks": ""
             }
            },
            "type": "scatterpolargl"
           }
          ],
          "scatterternary": [
           {
            "marker": {
             "colorbar": {
              "outlinewidth": 0,
              "ticks": ""
             }
            },
            "type": "scatterternary"
           }
          ],
          "surface": [
           {
            "colorbar": {
             "outlinewidth": 0,
             "ticks": ""
            },
            "colorscale": [
             [
              0,
              "#0d0887"
             ],
             [
              0.1111111111111111,
              "#46039f"
             ],
             [
              0.2222222222222222,
              "#7201a8"
             ],
             [
              0.3333333333333333,
              "#9c179e"
             ],
             [
              0.4444444444444444,
              "#bd3786"
             ],
             [
              0.5555555555555556,
              "#d8576b"
             ],
             [
              0.6666666666666666,
              "#ed7953"
             ],
             [
              0.7777777777777778,
              "#fb9f3a"
             ],
             [
              0.8888888888888888,
              "#fdca26"
             ],
             [
              1,
              "#f0f921"
             ]
            ],
            "type": "surface"
           }
          ],
          "table": [
           {
            "cells": {
             "fill": {
              "color": "#EBF0F8"
             },
             "line": {
              "color": "white"
             }
            },
            "header": {
             "fill": {
              "color": "#C8D4E3"
             },
             "line": {
              "color": "white"
             }
            },
            "type": "table"
           }
          ]
         },
         "layout": {
          "annotationdefaults": {
           "arrowcolor": "#2a3f5f",
           "arrowhead": 0,
           "arrowwidth": 1
          },
          "autotypenumbers": "strict",
          "coloraxis": {
           "colorbar": {
            "outlinewidth": 0,
            "ticks": ""
           }
          },
          "colorscale": {
           "diverging": [
            [
             0,
             "#8e0152"
            ],
            [
             0.1,
             "#c51b7d"
            ],
            [
             0.2,
             "#de77ae"
            ],
            [
             0.3,
             "#f1b6da"
            ],
            [
             0.4,
             "#fde0ef"
            ],
            [
             0.5,
             "#f7f7f7"
            ],
            [
             0.6,
             "#e6f5d0"
            ],
            [
             0.7,
             "#b8e186"
            ],
            [
             0.8,
             "#7fbc41"
            ],
            [
             0.9,
             "#4d9221"
            ],
            [
             1,
             "#276419"
            ]
           ],
           "sequential": [
            [
             0,
             "#0d0887"
            ],
            [
             0.1111111111111111,
             "#46039f"
            ],
            [
             0.2222222222222222,
             "#7201a8"
            ],
            [
             0.3333333333333333,
             "#9c179e"
            ],
            [
             0.4444444444444444,
             "#bd3786"
            ],
            [
             0.5555555555555556,
             "#d8576b"
            ],
            [
             0.6666666666666666,
             "#ed7953"
            ],
            [
             0.7777777777777778,
             "#fb9f3a"
            ],
            [
             0.8888888888888888,
             "#fdca26"
            ],
            [
             1,
             "#f0f921"
            ]
           ],
           "sequentialminus": [
            [
             0,
             "#0d0887"
            ],
            [
             0.1111111111111111,
             "#46039f"
            ],
            [
             0.2222222222222222,
             "#7201a8"
            ],
            [
             0.3333333333333333,
             "#9c179e"
            ],
            [
             0.4444444444444444,
             "#bd3786"
            ],
            [
             0.5555555555555556,
             "#d8576b"
            ],
            [
             0.6666666666666666,
             "#ed7953"
            ],
            [
             0.7777777777777778,
             "#fb9f3a"
            ],
            [
             0.8888888888888888,
             "#fdca26"
            ],
            [
             1,
             "#f0f921"
            ]
           ]
          },
          "colorway": [
           "#636efa",
           "#EF553B",
           "#00cc96",
           "#ab63fa",
           "#FFA15A",
           "#19d3f3",
           "#FF6692",
           "#B6E880",
           "#FF97FF",
           "#FECB52"
          ],
          "font": {
           "color": "#2a3f5f"
          },
          "geo": {
           "bgcolor": "white",
           "lakecolor": "white",
           "landcolor": "#E5ECF6",
           "showlakes": true,
           "showland": true,
           "subunitcolor": "white"
          },
          "hoverlabel": {
           "align": "left"
          },
          "hovermode": "closest",
          "mapbox": {
           "style": "light"
          },
          "paper_bgcolor": "white",
          "plot_bgcolor": "#E5ECF6",
          "polar": {
           "angularaxis": {
            "gridcolor": "white",
            "linecolor": "white",
            "ticks": ""
           },
           "bgcolor": "#E5ECF6",
           "radialaxis": {
            "gridcolor": "white",
            "linecolor": "white",
            "ticks": ""
           }
          },
          "scene": {
           "xaxis": {
            "backgroundcolor": "#E5ECF6",
            "gridcolor": "white",
            "gridwidth": 2,
            "linecolor": "white",
            "showbackground": true,
            "ticks": "",
            "zerolinecolor": "white"
           },
           "yaxis": {
            "backgroundcolor": "#E5ECF6",
            "gridcolor": "white",
            "gridwidth": 2,
            "linecolor": "white",
            "showbackground": true,
            "ticks": "",
            "zerolinecolor": "white"
           },
           "zaxis": {
            "backgroundcolor": "#E5ECF6",
            "gridcolor": "white",
            "gridwidth": 2,
            "linecolor": "white",
            "showbackground": true,
            "ticks": "",
            "zerolinecolor": "white"
           }
          },
          "shapedefaults": {
           "line": {
            "color": "#2a3f5f"
           }
          },
          "ternary": {
           "aaxis": {
            "gridcolor": "white",
            "linecolor": "white",
            "ticks": ""
           },
           "baxis": {
            "gridcolor": "white",
            "linecolor": "white",
            "ticks": ""
           },
           "bgcolor": "#E5ECF6",
           "caxis": {
            "gridcolor": "white",
            "linecolor": "white",
            "ticks": ""
           }
          },
          "title": {
           "x": 0.05
          },
          "xaxis": {
           "automargin": true,
           "gridcolor": "white",
           "linecolor": "white",
           "ticks": "",
           "title": {
            "standoff": 15
           },
           "zerolinecolor": "white",
           "zerolinewidth": 2
          },
          "yaxis": {
           "automargin": true,
           "gridcolor": "white",
           "linecolor": "white",
           "ticks": "",
           "title": {
            "standoff": 15
           },
           "zerolinecolor": "white",
           "zerolinewidth": 2
          }
         }
        },
        "title": {
         "text": "Model Performance"
        },
        "xaxis": {
         "anchor": "y",
         "categoryarray": [
          "lr",
          "Ridge",
          "Lasso",
          "Tree",
          "Random Forest",
          "Bagging",
          "GBM"
         ],
         "categoryorder": "array",
         "domain": [
          0,
          1
         ],
         "title": {
          "text": "Machine Learning Model"
         }
        },
        "yaxis": {
         "anchor": "x",
         "domain": [
          0,
          1
         ],
         "title": {
          "text": "RMS Error"
         }
        }
       }
      }
     },
     "metadata": {},
     "output_type": "display_data"
    }
   ],
   "source": [
    "import plotly.express as px\n",
    "from plotly.subplots import make_subplots\n",
    "import plotly.graph_objs as go\n",
    "\n",
    "fig = px.box(regressmod, x=\"variable\", y=\"value\",color=\"variable\",points='all',\n",
    "labels={\"variable\": \"Machine Learning Model\",\n",
    "        \"value\": \"RMS Error\"\n",
    "        },title=\"Model Performance\")\n",
    "fig.show()"
   ]
  },
  {
   "cell_type": "code",
   "execution_count": 113,
   "id": "80e96200",
   "metadata": {},
   "outputs": [
    {
     "name": "stdout",
     "output_type": "stream",
     "text": [
      ">Tree 0.505 (0.094)\n",
      ">Random Forest 0.582 (0.065)\n",
      ">Bagging 0.626 (0.055)\n",
      ">Stacked Model 0.587 (0.061)\n"
     ]
    }
   ],
   "source": [
    "import pandas as pd\n",
    "import numpy as np\n",
    "import matplotlib.pyplot as plt\n",
    "import seaborn as sns\n",
    "from sklearn.datasets import load_boston\n",
    "import warnings\n",
    "from sklearn.model_selection import cross_val_score, RepeatedKFold\n",
    "from sklearn.linear_model import Ridge, Lasso, LinearRegression\n",
    "from sklearn.tree import DecisionTreeRegressor\n",
    "from sklearn.ensemble import GradientBoostingRegressor, BaggingRegressor, RandomForestRegressor, StackingRegressor\n",
    "from xgboost import XGBRegressor\n",
    "from lightgbm import LGBMRegressor\n",
    "\n",
    "def get_stacking():\n",
    "\t# define the base models\n",
    "  level0 = list()\n",
    "  level0.append(('Tree', DecisionTreeRegressor()))\n",
    "  level0.append(('RF', RandomForestRegressor()))\n",
    "  level0.append(('Bagging', BaggingRegressor()))\n",
    "  level0.append(('GBM', GradientBoostingRegressor()))\n",
    "\t# define meta learner model\n",
    "  level1 = LGBMRegressor()\n",
    "\t# define the stacking ensemble\n",
    "  model = StackingRegressor(estimators=level0, final_estimator=level1, cv=5)\n",
    "  return model\n",
    "\n",
    "def base_models():\n",
    "  models = dict()\n",
    "  models[\"Tree\"] = DecisionTreeRegressor()\n",
    "  models[\"Random Forest\"] = RandomForestRegressor()\n",
    "  models[\"Bagging\"] = BaggingRegressor()\n",
    "#   models[\"XGB\"] = XGBRegressor()\n",
    "  models[\"Stacked Model\"] = get_stacking()\n",
    "  return models\n",
    "\n",
    "# Function to evaluate the list of models\n",
    "def eval_models(model):\n",
    "  cv = RepeatedKFold(n_splits=10, n_repeats=3, random_state=1)\n",
    "  scores = -cross_val_score(model, X_train, Y_train, scoring='neg_mean_absolute_error', cv=cv, n_jobs=-1, \n",
    "                            error_score='raise')\n",
    "  return scores\n",
    "\n",
    "models = base_models()\n",
    "# evaluate the models and store results\n",
    "results, names = list(), list() \n",
    "\n",
    "for name, model in models.items():\n",
    "  scores = eval_models(model)\n",
    "  results.append(scores)\n",
    "  names.append(name)\n",
    "  print('>%s %.3f (%.3f)' % (name, scores.mean(), scores.std()))"
   ]
  },
  {
   "cell_type": "code",
   "execution_count": 114,
   "id": "8f0d9f51",
   "metadata": {},
   "outputs": [
    {
     "name": "stdout",
     "output_type": "stream",
     "text": [
      "Test score: 87.56 %\n"
     ]
    },
    {
     "data": {
      "text/plain": [
       "Text(0.5, 1.0, 'Predicted vs Actual')"
      ]
     },
     "execution_count": 114,
     "metadata": {},
     "output_type": "execute_result"
    },
    {
     "data": {
      "image/png": "[encoded data removed]",
      "text/plain": [
       "<Figure size 432x288 with 1 Axes>"
      ]
     },
     "metadata": {
      "needs_background": "light"
     },
     "output_type": "display_data"
    }
   ],
   "source": [
    "import pickle\n",
    "\n",
    "level0 = list()\n",
    "level0.append(('Tree', DecisionTreeRegressor()))\n",
    "level0.append(('RF', RandomForestRegressor()))\n",
    "level0.append(('GBM', GradientBoostingRegressor()))\n",
    "level0.append(('Bagging', BaggingRegressor()))\n",
    "\n",
    "level1 = LGBMRegressor()\n",
    "model = StackingRegressor(estimators=level0, final_estimator=level1, cv=5)\n",
    "model.fit(X_train, Y_train)\n",
    "\n",
    "# Save to file in the current working directory\n",
    "pkl_filename = \"AssignmentPickle.pkl\"\n",
    "with open(pkl_filename, 'wb') as file:\n",
    "    pickle.dump(model, file)\n",
    "\n",
    "# Load from file\n",
    "with open(pkl_filename, 'rb') as file:\n",
    "    pickle_model = pickle.load(file)\n",
    "\n",
    "\n",
    "score = pickle_model.score(X_test, Y_test)\n",
    "print(\"Test score: {0:.2f} %\".format(100 * score))\n",
    "Y_predict = pickle_model.predict(X_test)\n",
    "\n",
    "\n",
    "import matplotlib.pyplot as plt\n",
    "import seaborn as sns\n",
    "predictions = pd.DataFrame(Y_predict, columns=['predictions'])\n",
    "predictions['actual'] = Y_test\n",
    "plt.scatter(x = Y_test, y = Y_predict, color='#336699',alpha=0.6)\n",
    "plt.xlabel('Actual')\n",
    "plt.ylabel('Predicted')\n",
    "plt.title('Predicted vs Actual', fontsize=15, color='#336699',loc='center')"
   ]
  },
  {
   "cell_type": "code",
   "execution_count": null,
   "id": "3d012e71",
   "metadata": {},
   "outputs": [],
   "source": []
  }
 ],
 "metadata": {
  "kernelspec": {
   "display_name": "Python 3.9.7 ('base')",
   "language": "python",
   "name": "python3"
  },
  "language_info": {
   "codemirror_mode": {
    "name": "ipython",
    "version": 3
   },
   "file_extension": ".py",
   "mimetype": "text/x-python",
   "name": "python",
   "nbconvert_exporter": "python",
   "pygments_lexer": "ipython3",
   "version": "3.9.7"
  },
  "vscode": {
   "interpreter": {
    "hash": "131f3d18372c23bc9956e159b8761a89791000b12ee129af51759eac7b6e0517"
   }
  }
 },
 "nbformat": 4,
 "nbformat_minor": 5
}
