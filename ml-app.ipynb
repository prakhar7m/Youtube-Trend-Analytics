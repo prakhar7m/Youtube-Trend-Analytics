{
 "cells": [
  {
   "cell_type": "code",
   "execution_count": 1,
   "id": "f4ea7310",
   "metadata": {},
   "outputs": [
    {
     "name": "stdout",
     "output_type": "stream",
     "text": [
      "Collecting wordcloudNote: you may need to restart the kernel to use updated packages.\n",
      "\n",
      "  Downloading wordcloud-1.8.2.2-cp39-cp39-win_amd64.whl (153 kB)\n",
      "     -------------------------------------- 153.1/153.1 kB 4.5 MB/s eta 0:00:00\n",
      "Requirement already satisfied: numpy>=1.6.1 in c:\\users\\vinay\\anaconda3\\lib\\site-packages (from wordcloud) (1.20.3)\n",
      "Requirement already satisfied: pillow in c:\\users\\vinay\\anaconda3\\lib\\site-packages (from wordcloud) (8.4.0)\n",
      "Requirement already satisfied: matplotlib in c:\\users\\vinay\\anaconda3\\lib\\site-packages (from wordcloud) (3.4.3)\n",
      "Requirement already satisfied: python-dateutil>=2.7 in c:\\users\\vinay\\anaconda3\\lib\\site-packages (from matplotlib->wordcloud) (2.8.2)\n",
      "Requirement already satisfied: pyparsing>=2.2.1 in c:\\users\\vinay\\anaconda3\\lib\\site-packages (from matplotlib->wordcloud) (3.0.4)\n",
      "Requirement already satisfied: kiwisolver>=1.0.1 in c:\\users\\vinay\\anaconda3\\lib\\site-packages (from matplotlib->wordcloud) (1.3.1)\n",
      "Requirement already satisfied: cycler>=0.10 in c:\\users\\vinay\\anaconda3\\lib\\site-packages (from matplotlib->wordcloud) (0.10.0)\n",
      "Requirement already satisfied: six in c:\\users\\vinay\\anaconda3\\lib\\site-packages (from cycler>=0.10->matplotlib->wordcloud) (1.16.0)\n",
      "Installing collected packages: wordcloud\n",
      "Successfully installed wordcloud-1.8.2.2\n"
     ]
    }
   ],
   "source": [
    "#pip install wordcloud"
   ]
  },
  {
   "cell_type": "code",
   "execution_count": 4,
   "id": "b1307108",
   "metadata": {},
   "outputs": [],
   "source": [
    "#pip install streamlit"
   ]
  },
  {
   "cell_type": "code",
   "execution_count": 1,
   "id": "9ebe6350",
   "metadata": {},
   "outputs": [],
   "source": [
    "import pandas as pd\n",
    "import streamlit as st\n",
    "import numpy as np\n",
    "import warnings\n",
    "import regex as re\n",
    "warnings.filterwarnings('ignore')#to filter all the warnings\n",
    "import seaborn as sns\n",
    "pd.set_option('float_format', '{:.4f}'.format)# to keep the float values short\n",
    "# Import for wordcloud\n",
    "from os import path\n",
    "from PIL import Image\n",
    "from wordcloud import WordCloud, STOPWORDS, ImageColorGenerator\n",
    "import matplotlib.pyplot as plt\n",
    "%matplotlib inline\n",
    "from nltk.corpus import stopwords\n",
    "from nltk.stem import PorterStemmer\n",
    "\n",
    "#import fot plotly\n",
    "import plotly.express as px"
   ]
  },
  {
   "cell_type": "code",
   "execution_count": 2,
   "id": "f09c63a2",
   "metadata": {},
   "outputs": [],
   "source": [
    "df = pd.read_csv('youtube_data.csv')"
   ]
  },
  {
   "cell_type": "code",
   "execution_count": 77,
   "id": "f22f813e",
   "metadata": {},
   "outputs": [
    {
     "data": {
      "text/html": [
       "<div>\n",
       "<style scoped>\n",
       "    .dataframe tbody tr th:only-of-type {\n",
       "        vertical-align: middle;\n",
       "    }\n",
       "\n",
       "    .dataframe tbody tr th {\n",
       "        vertical-align: top;\n",
       "    }\n",
       "\n",
       "    .dataframe thead th {\n",
       "        text-align: right;\n",
       "    }\n",
       "</style>\n",
       "<table border=\"1\" class=\"dataframe\">\n",
       "  <thead>\n",
       "    <tr style=\"text-align: right;\">\n",
       "      <th></th>\n",
       "      <th>video_id</th>\n",
       "      <th>title</th>\n",
       "      <th>publishedAt</th>\n",
       "      <th>channelTitle</th>\n",
       "      <th>categoryId</th>\n",
       "      <th>trending_date</th>\n",
       "      <th>tags</th>\n",
       "      <th>view_count</th>\n",
       "      <th>likes</th>\n",
       "      <th>dislikes</th>\n",
       "      <th>comment_count</th>\n",
       "      <th>description</th>\n",
       "      <th>category_name</th>\n",
       "    </tr>\n",
       "  </thead>\n",
       "  <tbody>\n",
       "    <tr>\n",
       "      <th>0</th>\n",
       "      <td>jbGRowa5tIk</td>\n",
       "      <td>ITZY “Not Shy” M/V TEASER</td>\n",
       "      <td>2020-08-11T15:00:13Z</td>\n",
       "      <td>JYP Entertainment</td>\n",
       "      <td>10</td>\n",
       "      <td>2020-08-15T00:00:00Z</td>\n",
       "      <td>JYP Entertainment|JYP|ITZY|있지|ITZY Video|ITZY ...</td>\n",
       "      <td>10241569</td>\n",
       "      <td>846466</td>\n",
       "      <td>21984</td>\n",
       "      <td>42682</td>\n",
       "      <td>ITZY Not Shy M/V[ITZY Official] https://www.yo...</td>\n",
       "      <td>Music</td>\n",
       "    </tr>\n",
       "    <tr>\n",
       "      <th>1</th>\n",
       "      <td>JvjvbBDqdgw</td>\n",
       "      <td>BTS (방탄소년단) Sing 'Dynamite' with me</td>\n",
       "      <td>2020-08-22T22:00:01Z</td>\n",
       "      <td>BANGTANTV</td>\n",
       "      <td>10</td>\n",
       "      <td>2020-08-23T00:00:00Z</td>\n",
       "      <td>방탄소년단|BTS|BANGTAN|HIPHOP|알엠|RM|슈가|SUGA|제이홉|jho...</td>\n",
       "      <td>6251656</td>\n",
       "      <td>2148368</td>\n",
       "      <td>5473</td>\n",
       "      <td>116057</td>\n",
       "      <td>#Sing_Dynamite #BTS_Dynamite #LipSyncParty #BT...</td>\n",
       "      <td>Music</td>\n",
       "    </tr>\n",
       "    <tr>\n",
       "      <th>2</th>\n",
       "      <td>BV2FdDmGiW0</td>\n",
       "      <td>BTS (방탄소년단) 'Dynamite' Official MV (B-side)</td>\n",
       "      <td>2020-08-24T15:00:01Z</td>\n",
       "      <td>Big Hit Labels</td>\n",
       "      <td>10</td>\n",
       "      <td>2020-08-31T00:00:00Z</td>\n",
       "      <td>BIGHIT|빅히트|방탄소년단|BTS|BANGTAN|방탄</td>\n",
       "      <td>45596902</td>\n",
       "      <td>5951288</td>\n",
       "      <td>97683</td>\n",
       "      <td>382374</td>\n",
       "      <td>BTS (방탄소년단) 'Dynamite' Official MV (B-side)Cre...</td>\n",
       "      <td>Music</td>\n",
       "    </tr>\n",
       "    <tr>\n",
       "      <th>3</th>\n",
       "      <td>sj9J2ecsSpo</td>\n",
       "      <td>WandaVision | Official Trailer | Disney+</td>\n",
       "      <td>2020-09-21T01:03:04Z</td>\n",
       "      <td>Marvel Entertainment</td>\n",
       "      <td>24</td>\n",
       "      <td>2020-09-25T00:00:00Z</td>\n",
       "      <td>marvel|comics|Marvel|MCU|Wanda Vision|Marvel T...</td>\n",
       "      <td>13282343</td>\n",
       "      <td>578887</td>\n",
       "      <td>16410</td>\n",
       "      <td>33890</td>\n",
       "      <td>Welcome to WandaVision. Coming soon to Disney+...</td>\n",
       "      <td>Entertainment</td>\n",
       "    </tr>\n",
       "    <tr>\n",
       "      <th>4</th>\n",
       "      <td>Vl3swga-Xrk</td>\n",
       "      <td>Would You Rather Have A Giant Diamond or $100,...</td>\n",
       "      <td>2020-09-26T20:40:02Z</td>\n",
       "      <td>MrBeast</td>\n",
       "      <td>24</td>\n",
       "      <td>2020-09-27T00:00:00Z</td>\n",
       "      <td>[None]</td>\n",
       "      <td>11354353</td>\n",
       "      <td>868146</td>\n",
       "      <td>8030</td>\n",
       "      <td>48299</td>\n",
       "      <td>I cant believe i spent this much again....Down...</td>\n",
       "      <td>Entertainment</td>\n",
       "    </tr>\n",
       "  </tbody>\n",
       "</table>\n",
       "</div>"
      ],
      "text/plain": [
       "      video_id                                              title  \\\n",
       "0  jbGRowa5tIk                          ITZY “Not Shy” M/V TEASER   \n",
       "1  JvjvbBDqdgw                BTS (방탄소년단) Sing 'Dynamite' with me   \n",
       "2  BV2FdDmGiW0        BTS (방탄소년단) 'Dynamite' Official MV (B-side)   \n",
       "3  sj9J2ecsSpo           WandaVision | Official Trailer | Disney+   \n",
       "4  Vl3swga-Xrk  Would You Rather Have A Giant Diamond or $100,...   \n",
       "\n",
       "            publishedAt          channelTitle  categoryId  \\\n",
       "0  2020-08-11T15:00:13Z     JYP Entertainment          10   \n",
       "1  2020-08-22T22:00:01Z             BANGTANTV          10   \n",
       "2  2020-08-24T15:00:01Z        Big Hit Labels          10   \n",
       "3  2020-09-21T01:03:04Z  Marvel Entertainment          24   \n",
       "4  2020-09-26T20:40:02Z               MrBeast          24   \n",
       "\n",
       "          trending_date                                               tags  \\\n",
       "0  2020-08-15T00:00:00Z  JYP Entertainment|JYP|ITZY|있지|ITZY Video|ITZY ...   \n",
       "1  2020-08-23T00:00:00Z  방탄소년단|BTS|BANGTAN|HIPHOP|알엠|RM|슈가|SUGA|제이홉|jho...   \n",
       "2  2020-08-31T00:00:00Z                    BIGHIT|빅히트|방탄소년단|BTS|BANGTAN|방탄   \n",
       "3  2020-09-25T00:00:00Z  marvel|comics|Marvel|MCU|Wanda Vision|Marvel T...   \n",
       "4  2020-09-27T00:00:00Z                                             [None]   \n",
       "\n",
       "   view_count    likes  dislikes  comment_count  \\\n",
       "0    10241569   846466     21984          42682   \n",
       "1     6251656  2148368      5473         116057   \n",
       "2    45596902  5951288     97683         382374   \n",
       "3    13282343   578887     16410          33890   \n",
       "4    11354353   868146      8030          48299   \n",
       "\n",
       "                                         description  category_name  \n",
       "0  ITZY Not Shy M/V[ITZY Official] https://www.yo...          Music  \n",
       "1  #Sing_Dynamite #BTS_Dynamite #LipSyncParty #BT...          Music  \n",
       "2  BTS (방탄소년단) 'Dynamite' Official MV (B-side)Cre...          Music  \n",
       "3  Welcome to WandaVision. Coming soon to Disney+...  Entertainment  \n",
       "4  I cant believe i spent this much again....Down...  Entertainment  "
      ]
     },
     "execution_count": 77,
     "metadata": {},
     "output_type": "execute_result"
    }
   ],
   "source": [
    "df.head()"
   ]
  },
  {
   "cell_type": "code",
   "execution_count": null,
   "id": "f44a3ae4",
   "metadata": {},
   "outputs": [],
   "source": []
  },
  {
   "cell_type": "code",
   "execution_count": 78,
   "id": "e0ad7163",
   "metadata": {},
   "outputs": [],
   "source": [
    "#dropping duplicates\n",
    "df.drop_duplicates(subset=['video_id'], keep='last', inplace = True)"
   ]
  },
  {
   "cell_type": "code",
   "execution_count": 79,
   "id": "be4d8657",
   "metadata": {},
   "outputs": [],
   "source": [
    "#dropping all the numerical columns for text analysis\n",
    "df.drop(columns=['channelTitle','video_id','publishedAt', 'categoryId','trending_date',\n",
    "                 'view_count', 'likes', 'dislikes', 'comment_count'],axis=1,inplace=True)"
   ]
  },
  {
   "cell_type": "code",
   "execution_count": 81,
   "id": "ab48b05a",
   "metadata": {},
   "outputs": [
    {
     "data": {
      "text/html": [
       "<div>\n",
       "<style scoped>\n",
       "    .dataframe tbody tr th:only-of-type {\n",
       "        vertical-align: middle;\n",
       "    }\n",
       "\n",
       "    .dataframe tbody tr th {\n",
       "        vertical-align: top;\n",
       "    }\n",
       "\n",
       "    .dataframe thead th {\n",
       "        text-align: right;\n",
       "    }\n",
       "</style>\n",
       "<table border=\"1\" class=\"dataframe\">\n",
       "  <thead>\n",
       "    <tr style=\"text-align: right;\">\n",
       "      <th></th>\n",
       "      <th>title</th>\n",
       "      <th>tags</th>\n",
       "      <th>description</th>\n",
       "      <th>category_name</th>\n",
       "    </tr>\n",
       "  </thead>\n",
       "  <tbody>\n",
       "    <tr>\n",
       "      <th>1</th>\n",
       "      <td>BTS (방탄소년단) Sing 'Dynamite' with me</td>\n",
       "      <td>방탄소년단|BTS|BANGTAN|HIPHOP|알엠|RM|슈가|SUGA|제이홉|jho...</td>\n",
       "      <td>#Sing_Dynamite #BTS_Dynamite #LipSyncParty #BT...</td>\n",
       "      <td>Music</td>\n",
       "    </tr>\n",
       "    <tr>\n",
       "      <th>5</th>\n",
       "      <td>BTS (방탄소년단) MAP OF THE SOUL ON:E Teaser 2</td>\n",
       "      <td>BIGHIT|빅히트|방탄소년단|BTS|BANGTAN|방탄|BTS 콘서트|방탄 콘서트...</td>\n",
       "      <td>[D-3] BTS MAP OF THE SOUL ON:E Teaser 2- 티켓 구매...</td>\n",
       "      <td>Music</td>\n",
       "    </tr>\n",
       "    <tr>\n",
       "      <th>10</th>\n",
       "      <td>Abyss by Jin</td>\n",
       "      <td>방탄소년단|BTS|BANGTAN|HIPHOP|알엠|RM|슈가|SUGA|제이홉|jho...</td>\n",
       "      <td>Connect with BTS: https://ibighit.com/bts http...</td>\n",
       "      <td>Music</td>\n",
       "    </tr>\n",
       "    <tr>\n",
       "      <th>14</th>\n",
       "      <td>BTS (방탄소년단) 'Butter' Special Performance Video</td>\n",
       "      <td>방탄소년단|BTS|BANGTAN|HIPHOP|알엠|RM|슈가|SUGA|제이홉|jho...</td>\n",
       "      <td>Artist: RM, Jin, SUGA, j-hope, Jimin, V, Jung ...</td>\n",
       "      <td>Music</td>\n",
       "    </tr>\n",
       "    <tr>\n",
       "      <th>18</th>\n",
       "      <td>BLACKPINK - 5th ANNIVERSARY [4+1 PROJECT] ANNO...</td>\n",
       "      <td>YG Entertainment|YG|와이지|K-pop|BLACKPINK|블랙핑크|블...</td>\n",
       "      <td>More info @ 5th.blackpinkofficial.com#BLACKPIN...</td>\n",
       "      <td>Music</td>\n",
       "    </tr>\n",
       "  </tbody>\n",
       "</table>\n",
       "</div>"
      ],
      "text/plain": [
       "                                                title  \\\n",
       "1                 BTS (방탄소년단) Sing 'Dynamite' with me   \n",
       "5           BTS (방탄소년단) MAP OF THE SOUL ON:E Teaser 2   \n",
       "10                                       Abyss by Jin   \n",
       "14     BTS (방탄소년단) 'Butter' Special Performance Video   \n",
       "18  BLACKPINK - 5th ANNIVERSARY [4+1 PROJECT] ANNO...   \n",
       "\n",
       "                                                 tags  \\\n",
       "1   방탄소년단|BTS|BANGTAN|HIPHOP|알엠|RM|슈가|SUGA|제이홉|jho...   \n",
       "5   BIGHIT|빅히트|방탄소년단|BTS|BANGTAN|방탄|BTS 콘서트|방탄 콘서트...   \n",
       "10  방탄소년단|BTS|BANGTAN|HIPHOP|알엠|RM|슈가|SUGA|제이홉|jho...   \n",
       "14  방탄소년단|BTS|BANGTAN|HIPHOP|알엠|RM|슈가|SUGA|제이홉|jho...   \n",
       "18  YG Entertainment|YG|와이지|K-pop|BLACKPINK|블랙핑크|블...   \n",
       "\n",
       "                                          description category_name  \n",
       "1   #Sing_Dynamite #BTS_Dynamite #LipSyncParty #BT...         Music  \n",
       "5   [D-3] BTS MAP OF THE SOUL ON:E Teaser 2- 티켓 구매...         Music  \n",
       "10  Connect with BTS: https://ibighit.com/bts http...         Music  \n",
       "14  Artist: RM, Jin, SUGA, j-hope, Jimin, V, Jung ...         Music  \n",
       "18  More info @ 5th.blackpinkofficial.com#BLACKPIN...         Music  "
      ]
     },
     "execution_count": 81,
     "metadata": {},
     "output_type": "execute_result"
    }
   ],
   "source": [
    "df.head()"
   ]
  },
  {
   "cell_type": "code",
   "execution_count": 82,
   "id": "d577569b",
   "metadata": {},
   "outputs": [],
   "source": [
    "df.fillna(value = '', inplace = True)"
   ]
  },
  {
   "cell_type": "code",
   "execution_count": 83,
   "id": "0e78875c",
   "metadata": {},
   "outputs": [],
   "source": [
    "# Concat all text data in one column:\n",
    "\n",
    "df['text'] = df.description + ' ' + df.tags + ' ' + df.title"
   ]
  },
  {
   "cell_type": "code",
   "execution_count": 84,
   "id": "7036458b",
   "metadata": {},
   "outputs": [],
   "source": [
    "df.drop(columns=['description', 'tags', 'title'],axis=1,inplace=True)"
   ]
  },
  {
   "cell_type": "code",
   "execution_count": 85,
   "id": "78583d44",
   "metadata": {},
   "outputs": [
    {
     "data": {
      "text/html": [
       "<div>\n",
       "<style scoped>\n",
       "    .dataframe tbody tr th:only-of-type {\n",
       "        vertical-align: middle;\n",
       "    }\n",
       "\n",
       "    .dataframe tbody tr th {\n",
       "        vertical-align: top;\n",
       "    }\n",
       "\n",
       "    .dataframe thead th {\n",
       "        text-align: right;\n",
       "    }\n",
       "</style>\n",
       "<table border=\"1\" class=\"dataframe\">\n",
       "  <thead>\n",
       "    <tr style=\"text-align: right;\">\n",
       "      <th></th>\n",
       "      <th>category_name</th>\n",
       "      <th>text</th>\n",
       "    </tr>\n",
       "  </thead>\n",
       "  <tbody>\n",
       "    <tr>\n",
       "      <th>1</th>\n",
       "      <td>Music</td>\n",
       "      <td>#Sing_Dynamite #BTS_Dynamite #LipSyncParty #BT...</td>\n",
       "    </tr>\n",
       "    <tr>\n",
       "      <th>5</th>\n",
       "      <td>Music</td>\n",
       "      <td>[D-3] BTS MAP OF THE SOUL ON:E Teaser 2- 티켓 구매...</td>\n",
       "    </tr>\n",
       "    <tr>\n",
       "      <th>10</th>\n",
       "      <td>Music</td>\n",
       "      <td>Connect with BTS: https://ibighit.com/bts http...</td>\n",
       "    </tr>\n",
       "    <tr>\n",
       "      <th>14</th>\n",
       "      <td>Music</td>\n",
       "      <td>Artist: RM, Jin, SUGA, j-hope, Jimin, V, Jung ...</td>\n",
       "    </tr>\n",
       "    <tr>\n",
       "      <th>18</th>\n",
       "      <td>Music</td>\n",
       "      <td>More info @ 5th.blackpinkofficial.com#BLACKPIN...</td>\n",
       "    </tr>\n",
       "  </tbody>\n",
       "</table>\n",
       "</div>"
      ],
      "text/plain": [
       "   category_name                                               text\n",
       "1          Music  #Sing_Dynamite #BTS_Dynamite #LipSyncParty #BT...\n",
       "5          Music  [D-3] BTS MAP OF THE SOUL ON:E Teaser 2- 티켓 구매...\n",
       "10         Music  Connect with BTS: https://ibighit.com/bts http...\n",
       "14         Music  Artist: RM, Jin, SUGA, j-hope, Jimin, V, Jung ...\n",
       "18         Music  More info @ 5th.blackpinkofficial.com#BLACKPIN..."
      ]
     },
     "execution_count": 85,
     "metadata": {},
     "output_type": "execute_result"
    }
   ],
   "source": [
    "df.head()"
   ]
  },
  {
   "cell_type": "code",
   "execution_count": 15,
   "id": "65af412f",
   "metadata": {},
   "outputs": [
    {
     "data": {
      "text/plain": [
       "array(['Music', 'Entertainment', 'Gaming', 'Sports'], dtype=object)"
      ]
     },
     "execution_count": 15,
     "metadata": {},
     "output_type": "execute_result"
    }
   ],
   "source": [
    "df['category_name'].unique()"
   ]
  },
  {
   "cell_type": "markdown",
   "id": "e23be114",
   "metadata": {},
   "source": [
    "### predicting categories"
   ]
  },
  {
   "cell_type": "code",
   "execution_count": 22,
   "id": "ede35137",
   "metadata": {},
   "outputs": [],
   "source": [
    "from sklearn.model_selection import train_test_split\n",
    "from sklearn.feature_extraction.text import CountVectorizer\n",
    "from sklearn.feature_extraction.text import TfidfVectorizer\n",
    "from sklearn.ensemble import RandomForestClassifier"
   ]
  },
  {
   "cell_type": "code",
   "execution_count": 18,
   "id": "45f066f8",
   "metadata": {},
   "outputs": [],
   "source": [
    "#df_filtered = df[df.category_name.isin(['Entertainment', 'Sports', 'Music', 'Gaming', \\\n",
    "#                                        'People & Blogs', 'Comedy','News & Politics'])]"
   ]
  },
  {
   "cell_type": "code",
   "execution_count": 19,
   "id": "20f29132",
   "metadata": {},
   "outputs": [
    {
     "data": {
      "text/html": [
       "<div>\n",
       "<style scoped>\n",
       "    .dataframe tbody tr th:only-of-type {\n",
       "        vertical-align: middle;\n",
       "    }\n",
       "\n",
       "    .dataframe tbody tr th {\n",
       "        vertical-align: top;\n",
       "    }\n",
       "\n",
       "    .dataframe thead th {\n",
       "        text-align: right;\n",
       "    }\n",
       "</style>\n",
       "<table border=\"1\" class=\"dataframe\">\n",
       "  <thead>\n",
       "    <tr style=\"text-align: right;\">\n",
       "      <th></th>\n",
       "      <th>category_name</th>\n",
       "      <th>text</th>\n",
       "    </tr>\n",
       "  </thead>\n",
       "  <tbody>\n",
       "    <tr>\n",
       "      <th>1</th>\n",
       "      <td>Music</td>\n",
       "      <td>#Sing_Dynamite #BTS_Dynamite #LipSyncParty #BT...</td>\n",
       "    </tr>\n",
       "    <tr>\n",
       "      <th>5</th>\n",
       "      <td>Music</td>\n",
       "      <td>[D-3] BTS MAP OF THE SOUL ON:E Teaser 2- 티켓 구매...</td>\n",
       "    </tr>\n",
       "    <tr>\n",
       "      <th>10</th>\n",
       "      <td>Music</td>\n",
       "      <td>Connect with BTS: https://ibighit.com/bts http...</td>\n",
       "    </tr>\n",
       "    <tr>\n",
       "      <th>14</th>\n",
       "      <td>Music</td>\n",
       "      <td>Artist: RM, Jin, SUGA, j-hope, Jimin, V, Jung ...</td>\n",
       "    </tr>\n",
       "    <tr>\n",
       "      <th>18</th>\n",
       "      <td>Music</td>\n",
       "      <td>More info @ 5th.blackpinkofficial.com#BLACKPIN...</td>\n",
       "    </tr>\n",
       "  </tbody>\n",
       "</table>\n",
       "</div>"
      ],
      "text/plain": [
       "   category_name                                               text\n",
       "1          Music  #Sing_Dynamite #BTS_Dynamite #LipSyncParty #BT...\n",
       "5          Music  [D-3] BTS MAP OF THE SOUL ON:E Teaser 2- 티켓 구매...\n",
       "10         Music  Connect with BTS: https://ibighit.com/bts http...\n",
       "14         Music  Artist: RM, Jin, SUGA, j-hope, Jimin, V, Jung ...\n",
       "18         Music  More info @ 5th.blackpinkofficial.com#BLACKPIN..."
      ]
     },
     "execution_count": 19,
     "metadata": {},
     "output_type": "execute_result"
    }
   ],
   "source": [
    "df_filtered = df\n",
    "df_filtered.head()"
   ]
  },
  {
   "cell_type": "code",
   "execution_count": 20,
   "id": "fa03a9e4",
   "metadata": {},
   "outputs": [],
   "source": [
    "X = df_filtered.text"
   ]
  },
  {
   "cell_type": "code",
   "execution_count": 21,
   "id": "47ff5174",
   "metadata": {},
   "outputs": [],
   "source": [
    "Y = df_filtered.category_name"
   ]
  },
  {
   "cell_type": "code",
   "execution_count": 22,
   "id": "d5cc42f1",
   "metadata": {},
   "outputs": [],
   "source": [
    "X_train, X_test, Y_train, Y_test = train_test_split(X,Y,test_size=0.3,random_state = 0)"
   ]
  },
  {
   "cell_type": "code",
   "execution_count": 23,
   "id": "57ec2d62",
   "metadata": {},
   "outputs": [],
   "source": [
    "# Applying bag of words to features in training and testing data\n",
    "bag_of_words_creator = CountVectorizer()\n",
    "X_train_bow = bag_of_words_creator.fit_transform(X_train)\n",
    "X_test_bow = bag_of_words_creator.transform(X_test)"
   ]
  },
  {
   "cell_type": "code",
   "execution_count": 24,
   "id": "43fbdbc4",
   "metadata": {},
   "outputs": [
    {
     "data": {
      "text/html": [
       "<style>#sk-container-id-1 {color: black;background-color: white;}#sk-container-id-1 pre{padding: 0;}#sk-container-id-1 div.sk-toggleable {background-color: white;}#sk-container-id-1 label.sk-toggleable__label {cursor: pointer;display: block;width: 100%;margin-bottom: 0;padding: 0.3em;box-sizing: border-box;text-align: center;}#sk-container-id-1 label.sk-toggleable__label-arrow:before {content: \"▸\";float: left;margin-right: 0.25em;color: #696969;}#sk-container-id-1 label.sk-toggleable__label-arrow:hover:before {color: black;}#sk-container-id-1 div.sk-estimator:hover label.sk-toggleable__label-arrow:before {color: black;}#sk-container-id-1 div.sk-toggleable__content {max-height: 0;max-width: 0;overflow: hidden;text-align: left;background-color: #f0f8ff;}#sk-container-id-1 div.sk-toggleable__content pre {margin: 0.2em;color: black;border-radius: 0.25em;background-color: #f0f8ff;}#sk-container-id-1 input.sk-toggleable__control:checked~div.sk-toggleable__content {max-height: 200px;max-width: 100%;overflow: auto;}#sk-container-id-1 input.sk-toggleable__control:checked~label.sk-toggleable__label-arrow:before {content: \"▾\";}#sk-container-id-1 div.sk-estimator input.sk-toggleable__control:checked~label.sk-toggleable__label {background-color: #d4ebff;}#sk-container-id-1 div.sk-label input.sk-toggleable__control:checked~label.sk-toggleable__label {background-color: #d4ebff;}#sk-container-id-1 input.sk-hidden--visually {border: 0;clip: rect(1px 1px 1px 1px);clip: rect(1px, 1px, 1px, 1px);height: 1px;margin: -1px;overflow: hidden;padding: 0;position: absolute;width: 1px;}#sk-container-id-1 div.sk-estimator {font-family: monospace;background-color: #f0f8ff;border: 1px dotted black;border-radius: 0.25em;box-sizing: border-box;margin-bottom: 0.5em;}#sk-container-id-1 div.sk-estimator:hover {background-color: #d4ebff;}#sk-container-id-1 div.sk-parallel-item::after {content: \"\";width: 100%;border-bottom: 1px solid gray;flex-grow: 1;}#sk-container-id-1 div.sk-label:hover label.sk-toggleable__label {background-color: #d4ebff;}#sk-container-id-1 div.sk-serial::before {content: \"\";position: absolute;border-left: 1px solid gray;box-sizing: border-box;top: 0;bottom: 0;left: 50%;z-index: 0;}#sk-container-id-1 div.sk-serial {display: flex;flex-direction: column;align-items: center;background-color: white;padding-right: 0.2em;padding-left: 0.2em;position: relative;}#sk-container-id-1 div.sk-item {position: relative;z-index: 1;}#sk-container-id-1 div.sk-parallel {display: flex;align-items: stretch;justify-content: center;background-color: white;position: relative;}#sk-container-id-1 div.sk-item::before, #sk-container-id-1 div.sk-parallel-item::before {content: \"\";position: absolute;border-left: 1px solid gray;box-sizing: border-box;top: 0;bottom: 0;left: 50%;z-index: -1;}#sk-container-id-1 div.sk-parallel-item {display: flex;flex-direction: column;z-index: 1;position: relative;background-color: white;}#sk-container-id-1 div.sk-parallel-item:first-child::after {align-self: flex-end;width: 50%;}#sk-container-id-1 div.sk-parallel-item:last-child::after {align-self: flex-start;width: 50%;}#sk-container-id-1 div.sk-parallel-item:only-child::after {width: 0;}#sk-container-id-1 div.sk-dashed-wrapped {border: 1px dashed gray;margin: 0 0.4em 0.5em 0.4em;box-sizing: border-box;padding-bottom: 0.4em;background-color: white;}#sk-container-id-1 div.sk-label label {font-family: monospace;font-weight: bold;display: inline-block;line-height: 1.2em;}#sk-container-id-1 div.sk-label-container {text-align: center;}#sk-container-id-1 div.sk-container {/* jupyter's `normalize.less` sets `[hidden] { display: none; }` but bootstrap.min.css set `[hidden] { display: none !important; }` so we also need the `!important` here to be able to override the default hidden behavior on the sphinx rendered scikit-learn.org. See: https://github.com/scikit-learn/scikit-learn/issues/21755 */display: inline-block !important;position: relative;}#sk-container-id-1 div.sk-text-repr-fallback {display: none;}</style><div id=\"sk-container-id-1\" class=\"sk-top-container\"><div class=\"sk-text-repr-fallback\"><pre>RandomForestClassifier(random_state=0)</pre><b>In a Jupyter environment, please rerun this cell to show the HTML representation or trust the notebook. <br />On GitHub, the HTML representation is unable to render, please try loading this page with nbviewer.org.</b></div><div class=\"sk-container\" hidden><div class=\"sk-item\"><div class=\"sk-estimator sk-toggleable\"><input class=\"sk-toggleable__control sk-hidden--visually\" id=\"sk-estimator-id-1\" type=\"checkbox\" checked><label for=\"sk-estimator-id-1\" class=\"sk-toggleable__label sk-toggleable__label-arrow\">RandomForestClassifier</label><div class=\"sk-toggleable__content\"><pre>RandomForestClassifier(random_state=0)</pre></div></div></div></div></div>"
      ],
      "text/plain": [
       "RandomForestClassifier(random_state=0)"
      ]
     },
     "execution_count": 24,
     "metadata": {},
     "output_type": "execute_result"
    }
   ],
   "source": [
    "#cl = RandomForestClassifier(random_state = 0, n_estimators=1000)\n",
    "cl = RandomForestClassifier(random_state = 0)\n",
    "cl.fit(X_train_bow,Y_train)"
   ]
  },
  {
   "cell_type": "code",
   "execution_count": 25,
   "id": "fce931ea",
   "metadata": {},
   "outputs": [],
   "source": [
    "y_pred = cl.predict(X_test_bow)"
   ]
  },
  {
   "cell_type": "code",
   "execution_count": 74,
   "id": "5566c0f6",
   "metadata": {},
   "outputs": [
    {
     "data": {
      "text/plain": [
       "array([ 7.62837205,  6.44141651,  7.29165254, 10.12213456,  8.12801128,\n",
       "        6.93401111,  7.1369247 ,  7.12703818,  5.53656763,  8.87425218,\n",
       "        7.03645503,  8.4807912 ,  4.63683214,  5.06369261,  5.2895978 ,\n",
       "        5.22277381,  4.85180738,  6.38341498,  6.8158438 ,  7.26342257,\n",
       "        6.5189919 ,  7.26021017,  6.48807526,  8.95050246,  5.23225373,\n",
       "        6.38883507,  6.44516124, 21.0194955 ,  6.53556448,  6.70172595,\n",
       "        7.60776167,  6.4819278 ,  5.48251827,  6.47949666,  5.22952849,\n",
       "        6.68168879,  4.61782967,  8.72361356,  7.30520554,  5.62410523,\n",
       "        9.10909577,  6.20055725,  9.07762458,  5.65141839,  6.44711478,\n",
       "        5.53462242,  7.84422095,  5.17326188,  6.42175966,  8.28067596,\n",
       "        6.93263076,  8.66550779,  5.28974051,  5.13137977,  5.84963088,\n",
       "        6.07810956,  6.4952901 ,  6.87571524,  5.38613592,  6.96284536,\n",
       "        6.59860244,  6.11834072,  8.06207056,  6.36126722, 13.12507036,\n",
       "        5.48168894,  6.22665229,  8.02525491,  8.63072788,  5.86162765,\n",
       "        7.70529954,  8.99606196,  5.44143675,  5.35650975,  5.5202087 ,\n",
       "        7.79523778,  5.84128819,  7.32904264, 11.05713449,  7.01007036,\n",
       "        5.80110819,  5.507002  ,  5.40186211,  6.25133265,  4.82578179,\n",
       "        5.19196412,  5.38389285,  7.39319907,  6.52873964,  6.35356105,\n",
       "        5.37292438,  8.58626293,  4.70658131,  6.767938  ,  4.60375059,\n",
       "       10.7704853 ,  5.23239598,  6.47678218,  8.53826838,  5.39113374,\n",
       "        5.55610064,  5.03062608,  6.68528003, 20.05272692,  7.37808573,\n",
       "        6.47263822,  5.9945723 ,  5.50690844,  6.0098084 ,  6.52452097,\n",
       "        6.55294415,  6.61802048,  4.88906259,  6.81341925,  4.01606333,\n",
       "        6.21415244,  8.41170237,  7.18882677,  5.38497383,  5.00386085,\n",
       "        6.29359891,  4.64494726,  9.00887273,  6.45854306,  6.74916936,\n",
       "        6.29693231, 12.36959298,  4.80740107,  6.96126127,  9.06237703,\n",
       "        6.02625107,  5.05782462,  6.36556983,  6.37294671,  7.76659865,\n",
       "        6.05223456,  5.8471453 ,  9.01121494,  5.08161324,  8.23799908,\n",
       "        9.34359094,  5.29271902,  7.90208349,  5.03236003,  5.18461001,\n",
       "        5.40863329, 10.5768572 ,  8.87248551,  7.107477  ,  8.05105717,\n",
       "       12.03772298,  7.22647272,  4.29880681,  9.7491175 ,  6.24902115,\n",
       "        7.79366229,  7.97392697,  5.67274012,  6.06624894,  5.75143371,\n",
       "        3.53517817,  7.9496844 ,  5.69797522,  5.12163552,  6.26393966,\n",
       "        7.31981604,  4.9405659 ,  7.16323601,  8.0823243 ,  8.19070301,\n",
       "        6.65893577,  4.65574124, 10.1153995 , 10.19775457,  6.97792077,\n",
       "        4.57570543,  6.17330452,  9.85738771,  7.42736299,  7.13233393,\n",
       "        8.50963577,  4.24393386,  6.86053117,  5.94816105,  7.24628394,\n",
       "        5.16809361,  6.02967526,  5.04049808,  7.24976194,  5.67358908,\n",
       "        6.00107183,  6.50456234,  5.05519563,  9.8415445 ,  8.28585553,\n",
       "        7.17879394,  6.76074242,  6.2460892 ,  9.70227163,  6.29002184,\n",
       "        7.04863932,  6.48399323,  6.55467141,  7.26238935,  4.35111477,\n",
       "        5.79251464,  8.77340285,  6.4058924 ,  6.96208117,  6.9663846 ,\n",
       "        6.95414149, 15.07745731,  9.34308478,  5.32608737,  5.96649059,\n",
       "        7.7347328 ,  5.11757729,  6.00018365,  6.01765515,  5.92397551,\n",
       "        5.22144819,  5.31571646, 19.15237547,  6.35274927,  9.20901942,\n",
       "        7.72038116,  5.22406812,  7.72439837,  7.60109164,  6.5744251 ,\n",
       "        6.97097347, 10.17115891,  4.92299953,  4.31898759,  7.0840204 ,\n",
       "        6.18382542,  6.94446984,  7.02574546,  5.94477367,  6.29098949,\n",
       "        7.86421818,  9.11870482,  6.06308379,  6.2871185 ,  5.54813507,\n",
       "        7.31685951,  5.16724658,  4.99281916,  5.09964919,  8.84042797,\n",
       "        6.00089742,  5.7472781 ,  5.37490467,  7.76665766,  5.72606323,\n",
       "        6.00348979,  5.47877475,  6.16985355, 20.23141794,  8.58210804,\n",
       "        9.17289179,  8.22823611,  9.67565746,  7.46488033,  8.63902526,\n",
       "        7.72614499,  5.80416948,  8.45092711,  5.14244632,  5.36532286,\n",
       "        5.52513659,  6.9517994 ,  8.48014391,  3.70959207,  8.09216441,\n",
       "        5.06259953, 11.71458889,  4.38603394,  6.754606  ,  4.76380841,\n",
       "        5.18671195,  5.20951768,  8.26208775,  5.62443719,  7.02845267,\n",
       "        6.1023284 ,  7.07976637,  6.01044312,  9.84920014,  6.20108662,\n",
       "        6.10728756,  9.67465761,  5.35709703,  7.82166303,  5.33465741,\n",
       "        4.78567218,  5.96391556,  8.22527677,  4.78360262,  7.62884791,\n",
       "        8.22197466,  6.84367259,  6.51004763,  6.13811753,  6.94695817,\n",
       "        4.90077491,  8.32048853,  8.9823741 ,  9.18285172,  4.88466039,\n",
       "        7.40993347,  6.86003332,  5.53923948,  5.33109981,  6.81608229,\n",
       "        4.55256272,  9.35146678,  6.76587703,  4.47438299,  5.18247842,\n",
       "        4.85067144,  9.39371608,  5.8131468 ,  6.73743936,  6.50729992,\n",
       "        6.54606836,  8.5807543 ,  6.35065544,  5.69563227,  8.01911933,\n",
       "        8.51862895,  6.09468835,  4.00035313,  5.93352936,  3.52427922,\n",
       "        6.32291504,  4.51898571,  6.47674562,  6.53126444,  6.44050413,\n",
       "        6.79610476,  7.23231999,  4.21373017,  3.81855721,  7.83879294,\n",
       "        9.80269541,  6.85495365,  5.09331739,  6.32656985,  5.51695855,\n",
       "        7.53591058,  5.3441986 ,  5.58214095,  9.25454091,  5.92428185,\n",
       "        4.76970553,  4.37698625,  4.56691608,  6.99543968,  6.89732023,\n",
       "        4.58513446,  5.40336731,  7.35892221,  6.16007766,  6.49278499,\n",
       "        9.36079975,  6.41638246,  7.47491199,  7.63309155,  7.15477154,\n",
       "        6.71584153,  4.63618286,  5.80103555,  7.90827938,  7.82582353,\n",
       "        4.23203106,  6.13876112,  7.25813576,  5.63188097,  9.21839971,\n",
       "        6.36670266,  6.66334877,  6.91959817,  6.32882178,  4.02758025,\n",
       "        9.08247151,  6.41967648,  8.1867116 , 10.83734674,  6.76527027,\n",
       "        5.03998349,  6.62231196,  5.29198783,  4.56622636,  5.6130615 ,\n",
       "        5.18762958,  5.51427206,  5.57779145,  8.36591784, 23.30812905,\n",
       "        7.72719315,  5.08258861,  8.69077165,  8.04521343, 10.9629604 ,\n",
       "        6.2232862 ,  9.17030096,  5.95253948,  6.16908004,  5.60066904,\n",
       "        8.25323721,  8.24264011,  6.44947319,  6.37213154,  8.46061193,\n",
       "        5.51440201, 11.20494138,  7.56939789,  5.93038956,  6.07700348,\n",
       "        7.88010032,  6.44441028, 11.14488123,  6.00009853,  6.12095071,\n",
       "        5.99789921,  5.36086981,  6.18752571,  8.83898633,  7.61372951,\n",
       "        7.01339558,  8.2607756 ,  8.53907518,  7.67323071,  5.50470058,\n",
       "        6.06144771,  6.54306007,  7.16332453,  5.4382347 ,  6.96828597,\n",
       "        5.24300479,  5.68834147,  7.99684699,  4.47780593,  5.96407488,\n",
       "        4.94147255,  5.05542462,  6.1316348 ,  5.44945823,  4.04658006,\n",
       "        4.04495617,  5.57238103,  7.4522106 ,  5.93033357,  5.96819604,\n",
       "        7.22169655,  6.58121478,  4.98445651,  8.28120508,  8.40658145,\n",
       "        6.46248672, 10.24517889,  5.23356435,  5.90147149,  7.56539064,\n",
       "        8.22955343,  7.80200912,  6.50507534,  6.54675343,  6.48121214,\n",
       "        6.735283  ,  5.98670144,  5.511683  ,  6.7148727 ,  6.49148902,\n",
       "        5.87836575,  4.98988577,  6.94860952,  8.14060133,  6.81121515,\n",
       "        4.64016453,  7.72057721,  8.86906526,  5.1263249 ,  7.96683944,\n",
       "        7.79967473,  5.45582781,  5.64894056,  9.01808557,  7.2951522 ,\n",
       "        6.00435447,  6.88269197,  7.18135301, 10.05951359,  8.71191084,\n",
       "        6.054124  ,  5.31231574,  6.83624307,  6.77125877,  8.08026088,\n",
       "        8.00182312,  6.62918426,  6.20284848,  5.2361536 ,  5.54902567,\n",
       "        6.5023903 ,  9.09209501,  6.19087143,  5.18005826,  5.6375867 ,\n",
       "        5.21582307,  6.73281054,  4.17637218,  5.43944927,  9.73685697,\n",
       "        6.05321014,  5.27371444,  6.77532386,  7.24212071,  5.15008939,\n",
       "        8.55294525,  5.93568164,  5.92565984,  6.02700521,  5.19810719,\n",
       "        7.80102925,  5.33386925,  7.41839452,  6.51046947,  4.7849963 ,\n",
       "        6.4108117 , 13.78137281,  5.77720252, 10.4484608 ,  5.48348757,\n",
       "        6.64787728, 11.15427861,  7.95973584,  8.29570254,  8.07154748,\n",
       "        5.20893514,  6.92205204,  5.23317004,  6.26685601,  5.75688814,\n",
       "        4.91116635,  5.74221826,  7.16772914,  9.1117758 ,  6.79005814,\n",
       "        7.82331908, 10.91387723,  5.2656945 ,  8.53498826,  5.79137923,\n",
       "        6.89354883,  7.00066352,  4.63298188,  9.25611025, 18.70325266,\n",
       "       10.33607359,  6.68442753,  7.07402731,  5.79679621,  5.3221835 ,\n",
       "        6.32334571,  6.79209495,  5.78280424,  7.39849998,  5.18196438,\n",
       "        6.72478116,  7.50563515,  5.74359069,  7.27185579,  7.81440392,\n",
       "        5.52409545,  6.73589648,  4.20732777, 10.21010519,  6.02733663,\n",
       "        3.93794955,  8.38958405,  5.98818661,  5.59032023,  3.32062872,\n",
       "        4.79728534, 12.55555067,  8.65307194,  5.5099024 ,  7.45613275,\n",
       "        5.01750672,  5.57276516,  6.73680566,  9.48494067,  4.47005159,\n",
       "        4.88644069,  6.49765643,  8.37352124,  7.58799586,  4.29511651,\n",
       "        5.24733081,  4.46314331, 10.83638123,  7.6324708 ,  5.38318327,\n",
       "        4.6472431 ,  7.02064853,  4.64841666,  5.65031949,  5.64402998,\n",
       "        8.29043555,  9.00924741,  5.15503565,  5.68328509,  8.02149191,\n",
       "       15.21315316,  7.34397919,  5.84214281,  7.61726332,  5.03206882,\n",
       "        5.22801397,  8.26093837,  9.78864041,  6.44863525,  5.15467737,\n",
       "        7.9402849 ,  5.87444792,  8.67895638,  6.69334463,  7.06320947,\n",
       "        4.83524761,  5.67851015,  5.90091134,  7.31006111,  7.6674973 ,\n",
       "        5.99654256,  4.69200891,  7.41543953,  9.26350329,  6.61544883,\n",
       "        4.83342227,  6.71481015,  5.32529761,  6.54804064,  7.9470529 ,\n",
       "        5.62156186,  5.96372548,  6.46341932,  6.36056941,  4.59041586,\n",
       "        8.43344422,  7.27173934,  7.7353534 ,  5.87285742,  4.91849758,\n",
       "        4.90321345,  6.01783947,  5.90862625,  8.37319673,  7.48286633,\n",
       "        6.12144095,  8.39400242,  8.0083461 ,  7.88954916,  8.45042939,\n",
       "        5.73152655,  4.66408738,  7.89396946,  9.74722349,  7.77808699,\n",
       "        7.61459751,  5.42933989,  7.7274777 ,  5.85358734, 10.66847732,\n",
       "       11.61129589,  4.70741645,  5.85583019,  7.33885274,  7.15338118,\n",
       "        5.0764687 ,  9.37944688,  6.30353377,  6.96797952,  5.30969905,\n",
       "        7.16087514,  5.75424629,  5.74381136,  7.07347608,  8.10923961,\n",
       "        8.86019613,  5.83068029,  6.99973142,  6.32338842,  5.23009287,\n",
       "       13.87253329,  8.99768884,  9.66680746,  5.78529858,  8.00869304,\n",
       "        9.24702709,  8.28368438,  8.9905146 ,  4.58334842,  7.72372749,\n",
       "        5.85318141,  5.29346686,  8.51644072,  6.14592267,  6.77508785,\n",
       "        5.51590562,  7.97698859,  7.01972089,  5.22424542,  6.29469717,\n",
       "        6.1505502 ,  6.55396245,  6.66981614,  6.41857427,  6.41135112,\n",
       "        5.51674881,  8.89796853,  6.41988174,  7.31933298,  5.12108648,\n",
       "        6.22068656, 11.31839037,  7.28688567,  8.43649847,  7.51535075,\n",
       "        5.89787476,  7.26504438,  4.88427728,  9.2966476 ,  4.58931498,\n",
       "        4.38316316,  9.46516585,  7.45389748,  6.85549128,  6.00153087,\n",
       "        6.29453006,  7.05370361,  7.20680698,  7.11115794,  8.95897363,\n",
       "        6.11391966,  8.88671776,  4.3569947 ,  7.59431937,  6.265711  ,\n",
       "        8.35293596,  7.62129292,  5.38046691,  7.85146649,  7.25620183,\n",
       "        7.47778251,  6.88178933,  9.03549332,  8.44893522, 10.6831949 ,\n",
       "        7.89532788,  6.9371261 ,  6.99323565, 10.8597006 ,  8.98246861,\n",
       "       26.90476337,  7.87914572,  7.60303635,  6.33634061,  7.56126706,\n",
       "       13.71461445,  3.91434341,  7.33060897,  6.37946908,  5.72665669,\n",
       "        4.95314943,  8.33006205,  4.25369408,  5.06464938,  7.61289219,\n",
       "        5.4391888 ,  7.93001738,  3.63707117,  9.87325366,  9.51410259,\n",
       "        7.01902926,  6.67217531,  5.82489244,  6.84702845,  4.27472153,\n",
       "        5.21801653,  4.36096159,  6.33229607,  7.2061998 ,  5.71325612,\n",
       "        5.952977  ,  6.67289491,  5.6592588 ,  9.19938298,  4.83539401,\n",
       "        7.55710397,  5.07411534, 19.44108086,  7.5289343 ,  4.2903309 ,\n",
       "        8.56048535,  7.05727639,  8.79515825,  5.74068071,  9.43518586,\n",
       "        8.56909376,  5.94892018,  6.52625905,  6.28769174, 12.49412403,\n",
       "        6.53494966,  8.73234583,  7.52847323,  6.90637325,  8.09878591,\n",
       "        6.31261469,  5.95177005,  3.76271537,  4.72755704,  9.15520472,\n",
       "        5.74863841,  7.00836411,  6.17141342,  5.5890769 ,  5.4701453 ,\n",
       "        5.32720699,  8.02614991,  8.43983587,  7.21968311,  9.48064616,\n",
       "        6.92708305,  5.77850325,  7.05661267, 10.27220047,  6.32507127,\n",
       "        5.89187856,  7.74232627,  7.05433153,  4.78455639,  6.91311903,\n",
       "        6.91958485,  4.59853339,  6.23834326,  6.23846272,  8.76409274,\n",
       "        5.4074117 ,  9.46212834,  7.02477555,  6.93608043,  4.11022909,\n",
       "        6.47279971,  6.69828241,  5.63986229,  6.72477397, 11.50668571,\n",
       "        5.19052125,  6.91451004,  8.75267936, 10.66509239,  5.05170248,\n",
       "        7.40389866,  7.37661698,  6.5255491 ,  4.48279047, 10.129746  ,\n",
       "        8.03408883,  6.32345428,  7.67944429, 24.76298492,  7.1112119 ,\n",
       "        5.92636483,  9.04775887,  8.28562701,  6.6246715 ,  8.64983861,\n",
       "        6.68260224,  6.62534168,  6.74845666,  6.5852543 ,  5.76817682,\n",
       "        9.31347753,  5.50832288,  5.55591659,  6.7188928 ,  5.89619577,\n",
       "       12.15382561,  8.19866845,  6.66001391,  5.37004229, 10.01788806,\n",
       "        4.95126267,  7.9151136 ,  6.34062313,  8.49991476,  4.46669618,\n",
       "        6.24971636,  8.02111626,  9.01232197, 11.58260494,  9.2609377 ,\n",
       "        8.76808577,  6.53823736,  4.70130281,  6.00458535,  7.5561371 ,\n",
       "        7.26327889,  7.82604429,  6.88433888,  9.94459234,  5.33116674,\n",
       "        5.23841107,  4.50929911,  6.81428576,  7.9684733 ,  7.32350851,\n",
       "        4.69515068,  6.16516166,  8.02135065,  8.437155  ,  7.93237992,\n",
       "       11.24130645,  5.87845778,  9.24498229,  5.69493226,  6.88859451,\n",
       "        5.58147773,  5.99751992,  4.66297993,  8.64064014,  5.66772403,\n",
       "        5.64683616,  4.15349218,  6.71812815,  6.81191136,  8.20409351,\n",
       "        7.60616867,  5.54348586,  6.65031803,  5.89123478,  7.26360833,\n",
       "        3.99725262,  6.690356  ,  8.07042882,  5.33064033,  5.84259207,\n",
       "        6.2379129 ,  4.52088922,  7.83983221, 10.77366549,  7.45972482,\n",
       "        6.84018098,  9.5459619 ,  7.34649951, 10.28964938,  6.90386302,\n",
       "        5.77331822,  5.61082208,  9.39032256,  7.50093782,  8.58443549,\n",
       "        7.36841481,  5.8377877 ])"
      ]
     },
     "execution_count": 74,
     "metadata": {},
     "output_type": "execute_result"
    }
   ],
   "source": [
    "y_pred"
   ]
  },
  {
   "cell_type": "code",
   "execution_count": 23,
   "id": "5eac4292",
   "metadata": {},
   "outputs": [],
   "source": [
    "from sklearn.metrics import confusion_matrix\n",
    "import sklearn.metrics as met"
   ]
  },
  {
   "cell_type": "code",
   "execution_count": 27,
   "id": "b5181acd",
   "metadata": {},
   "outputs": [
    {
     "data": {
      "text/plain": [
       "array([[26,  0,  1,  0],\n",
       "       [ 0, 22,  0,  0],\n",
       "       [ 0,  0, 87,  1],\n",
       "       [ 0,  0,  0, 22]], dtype=int64)"
      ]
     },
     "execution_count": 27,
     "metadata": {},
     "output_type": "execute_result"
    }
   ],
   "source": [
    "confusion_matrix(Y_test,y_pred)"
   ]
  },
  {
   "cell_type": "code",
   "execution_count": 28,
   "id": "de3100ac",
   "metadata": {},
   "outputs": [
    {
     "name": "stdout",
     "output_type": "stream",
     "text": [
      "               precision    recall  f1-score   support\n",
      "\n",
      "Entertainment       1.00      0.96      0.98        27\n",
      "       Gaming       1.00      1.00      1.00        22\n",
      "        Music       0.99      0.99      0.99        88\n",
      "       Sports       0.96      1.00      0.98        22\n",
      "\n",
      "     accuracy                           0.99       159\n",
      "    macro avg       0.99      0.99      0.99       159\n",
      " weighted avg       0.99      0.99      0.99       159\n",
      "\n"
     ]
    }
   ],
   "source": [
    "print(met.classification_report(Y_test,y_pred))"
   ]
  },
  {
   "cell_type": "code",
   "execution_count": 58,
   "id": "3bfeebbe",
   "metadata": {},
   "outputs": [],
   "source": [
    "df = pd.read_csv('youtube_data.csv')"
   ]
  },
  {
   "cell_type": "markdown",
   "id": "a2363898",
   "metadata": {},
   "source": [
    "### ML predicitng number of days for the video to stay trending\n"
   ]
  },
  {
   "cell_type": "code",
   "execution_count": 59,
   "id": "68e01e34",
   "metadata": {},
   "outputs": [],
   "source": [
    "ML_df= df.groupby(['video_id','trending_date','publishedAt'],as_index=False).agg({'view_count':\\\n",
    "                                                             'max','likes':'max','dislikes':'max','comment_count':'max'})"
   ]
  },
  {
   "cell_type": "code",
   "execution_count": 60,
   "id": "a22d50e0",
   "metadata": {},
   "outputs": [],
   "source": [
    "df1 = ML_df.copy()"
   ]
  },
  {
   "cell_type": "code",
   "execution_count": 61,
   "id": "9d3a8f25",
   "metadata": {},
   "outputs": [],
   "source": [
    "df1['trending_date'] = pd.to_datetime(df1['trending_date'])\n",
    "df1['publishedAt'] = pd.to_datetime(df1['publishedAt'])"
   ]
  },
  {
   "cell_type": "code",
   "execution_count": 62,
   "id": "50b9129b",
   "metadata": {},
   "outputs": [],
   "source": [
    "df1['trending_day_no'] = df1.groupby(['video_id'])[\"trending_date\"].rank('first',ascending=True)"
   ]
  },
  {
   "cell_type": "code",
   "execution_count": 63,
   "id": "140b39e7",
   "metadata": {},
   "outputs": [],
   "source": [
    "df1_count = df1.groupby('video_id',as_index=False)[\"trending_date\"].count().rename(columns={\\\n",
    "                                                                'trending_date':'total_trending_days'})"
   ]
  },
  {
   "cell_type": "code",
   "execution_count": 64,
   "id": "37002ad7",
   "metadata": {},
   "outputs": [
    {
     "data": {
      "text/html": [
       "<div>\n",
       "<style scoped>\n",
       "    .dataframe tbody tr th:only-of-type {\n",
       "        vertical-align: middle;\n",
       "    }\n",
       "\n",
       "    .dataframe tbody tr th {\n",
       "        vertical-align: top;\n",
       "    }\n",
       "\n",
       "    .dataframe thead th {\n",
       "        text-align: right;\n",
       "    }\n",
       "</style>\n",
       "<table border=\"1\" class=\"dataframe\">\n",
       "  <thead>\n",
       "    <tr style=\"text-align: right;\">\n",
       "      <th></th>\n",
       "      <th>video_id</th>\n",
       "      <th>trending_date</th>\n",
       "      <th>publishedAt</th>\n",
       "      <th>view_count</th>\n",
       "      <th>likes</th>\n",
       "      <th>dislikes</th>\n",
       "      <th>comment_count</th>\n",
       "      <th>trending_day_no</th>\n",
       "      <th>total_trending_days</th>\n",
       "    </tr>\n",
       "  </thead>\n",
       "  <tbody>\n",
       "    <tr>\n",
       "      <th>0</th>\n",
       "      <td>-5q5mZbe3V8</td>\n",
       "      <td>2020-11-20 00:00:00+00:00</td>\n",
       "      <td>2020-11-20 04:58:11+00:00</td>\n",
       "      <td>37570579</td>\n",
       "      <td>5177871</td>\n",
       "      <td>12125</td>\n",
       "      <td>2276126</td>\n",
       "      <td>1.0000</td>\n",
       "      <td>8</td>\n",
       "    </tr>\n",
       "    <tr>\n",
       "      <th>1</th>\n",
       "      <td>-5q5mZbe3V8</td>\n",
       "      <td>2020-11-21 00:00:00+00:00</td>\n",
       "      <td>2020-11-20 04:58:11+00:00</td>\n",
       "      <td>84352431</td>\n",
       "      <td>6965393</td>\n",
       "      <td>38012</td>\n",
       "      <td>3411203</td>\n",
       "      <td>2.0000</td>\n",
       "      <td>8</td>\n",
       "    </tr>\n",
       "    <tr>\n",
       "      <th>2</th>\n",
       "      <td>-5q5mZbe3V8</td>\n",
       "      <td>2020-11-23 00:00:00+00:00</td>\n",
       "      <td>2020-11-20 04:58:11+00:00</td>\n",
       "      <td>121487843</td>\n",
       "      <td>10696119</td>\n",
       "      <td>81348</td>\n",
       "      <td>3913332</td>\n",
       "      <td>3.0000</td>\n",
       "      <td>8</td>\n",
       "    </tr>\n",
       "    <tr>\n",
       "      <th>3</th>\n",
       "      <td>-5q5mZbe3V8</td>\n",
       "      <td>2020-11-24 00:00:00+00:00</td>\n",
       "      <td>2020-11-20 04:58:11+00:00</td>\n",
       "      <td>130757195</td>\n",
       "      <td>10908482</td>\n",
       "      <td>95278</td>\n",
       "      <td>3998863</td>\n",
       "      <td>4.0000</td>\n",
       "      <td>8</td>\n",
       "    </tr>\n",
       "    <tr>\n",
       "      <th>4</th>\n",
       "      <td>-5q5mZbe3V8</td>\n",
       "      <td>2020-11-25 00:00:00+00:00</td>\n",
       "      <td>2020-11-20 04:58:11+00:00</td>\n",
       "      <td>136155442</td>\n",
       "      <td>11077371</td>\n",
       "      <td>105414</td>\n",
       "      <td>4058343</td>\n",
       "      <td>5.0000</td>\n",
       "      <td>8</td>\n",
       "    </tr>\n",
       "  </tbody>\n",
       "</table>\n",
       "</div>"
      ],
      "text/plain": [
       "      video_id             trending_date               publishedAt  \\\n",
       "0  -5q5mZbe3V8 2020-11-20 00:00:00+00:00 2020-11-20 04:58:11+00:00   \n",
       "1  -5q5mZbe3V8 2020-11-21 00:00:00+00:00 2020-11-20 04:58:11+00:00   \n",
       "2  -5q5mZbe3V8 2020-11-23 00:00:00+00:00 2020-11-20 04:58:11+00:00   \n",
       "3  -5q5mZbe3V8 2020-11-24 00:00:00+00:00 2020-11-20 04:58:11+00:00   \n",
       "4  -5q5mZbe3V8 2020-11-25 00:00:00+00:00 2020-11-20 04:58:11+00:00   \n",
       "\n",
       "   view_count     likes  dislikes  comment_count  trending_day_no  \\\n",
       "0    37570579   5177871     12125        2276126           1.0000   \n",
       "1    84352431   6965393     38012        3411203           2.0000   \n",
       "2   121487843  10696119     81348        3913332           3.0000   \n",
       "3   130757195  10908482     95278        3998863           4.0000   \n",
       "4   136155442  11077371    105414        4058343           5.0000   \n",
       "\n",
       "   total_trending_days  \n",
       "0                    8  \n",
       "1                    8  \n",
       "2                    8  \n",
       "3                    8  \n",
       "4                    8  "
      ]
     },
     "execution_count": 64,
     "metadata": {},
     "output_type": "execute_result"
    }
   ],
   "source": [
    "df2 = df1.merge(df1_count, left_on='video_id', right_on='video_id')\n",
    "df2.head()"
   ]
  },
  {
   "cell_type": "code",
   "execution_count": 65,
   "id": "38a3fb81",
   "metadata": {},
   "outputs": [
    {
     "data": {
      "text/html": [
       "<div>\n",
       "<style scoped>\n",
       "    .dataframe tbody tr th:only-of-type {\n",
       "        vertical-align: middle;\n",
       "    }\n",
       "\n",
       "    .dataframe tbody tr th {\n",
       "        vertical-align: top;\n",
       "    }\n",
       "\n",
       "    .dataframe thead th {\n",
       "        text-align: right;\n",
       "    }\n",
       "</style>\n",
       "<table border=\"1\" class=\"dataframe\">\n",
       "  <thead>\n",
       "    <tr style=\"text-align: right;\">\n",
       "      <th></th>\n",
       "      <th>view_count</th>\n",
       "      <th>likes</th>\n",
       "      <th>dislikes</th>\n",
       "      <th>comment_count</th>\n",
       "      <th>trending_day_no</th>\n",
       "      <th>total_trending_days</th>\n",
       "    </tr>\n",
       "  </thead>\n",
       "  <tbody>\n",
       "    <tr>\n",
       "      <th>view_count</th>\n",
       "      <td>1.0000</td>\n",
       "      <td>0.8977</td>\n",
       "      <td>0.4695</td>\n",
       "      <td>0.8315</td>\n",
       "      <td>0.4086</td>\n",
       "      <td>0.4468</td>\n",
       "    </tr>\n",
       "    <tr>\n",
       "      <th>likes</th>\n",
       "      <td>0.8977</td>\n",
       "      <td>1.0000</td>\n",
       "      <td>0.5161</td>\n",
       "      <td>0.8727</td>\n",
       "      <td>0.2459</td>\n",
       "      <td>0.2960</td>\n",
       "    </tr>\n",
       "    <tr>\n",
       "      <th>dislikes</th>\n",
       "      <td>0.4695</td>\n",
       "      <td>0.5161</td>\n",
       "      <td>1.0000</td>\n",
       "      <td>0.5334</td>\n",
       "      <td>0.0609</td>\n",
       "      <td>0.0270</td>\n",
       "    </tr>\n",
       "    <tr>\n",
       "      <th>comment_count</th>\n",
       "      <td>0.8315</td>\n",
       "      <td>0.8727</td>\n",
       "      <td>0.5334</td>\n",
       "      <td>1.0000</td>\n",
       "      <td>0.1747</td>\n",
       "      <td>0.2354</td>\n",
       "    </tr>\n",
       "    <tr>\n",
       "      <th>trending_day_no</th>\n",
       "      <td>0.4086</td>\n",
       "      <td>0.2459</td>\n",
       "      <td>0.0609</td>\n",
       "      <td>0.1747</td>\n",
       "      <td>1.0000</td>\n",
       "      <td>0.5804</td>\n",
       "    </tr>\n",
       "    <tr>\n",
       "      <th>total_trending_days</th>\n",
       "      <td>0.4468</td>\n",
       "      <td>0.2960</td>\n",
       "      <td>0.0270</td>\n",
       "      <td>0.2354</td>\n",
       "      <td>0.5804</td>\n",
       "      <td>1.0000</td>\n",
       "    </tr>\n",
       "  </tbody>\n",
       "</table>\n",
       "</div>"
      ],
      "text/plain": [
       "                     view_count  likes  dislikes  comment_count  \\\n",
       "view_count               1.0000 0.8977    0.4695         0.8315   \n",
       "likes                    0.8977 1.0000    0.5161         0.8727   \n",
       "dislikes                 0.4695 0.5161    1.0000         0.5334   \n",
       "comment_count            0.8315 0.8727    0.5334         1.0000   \n",
       "trending_day_no          0.4086 0.2459    0.0609         0.1747   \n",
       "total_trending_days      0.4468 0.2960    0.0270         0.2354   \n",
       "\n",
       "                     trending_day_no  total_trending_days  \n",
       "view_count                    0.4086               0.4468  \n",
       "likes                         0.2459               0.2960  \n",
       "dislikes                      0.0609               0.0270  \n",
       "comment_count                 0.1747               0.2354  \n",
       "trending_day_no               1.0000               0.5804  \n",
       "total_trending_days           0.5804               1.0000  "
      ]
     },
     "execution_count": 65,
     "metadata": {},
     "output_type": "execute_result"
    }
   ],
   "source": [
    "df2.corr()"
   ]
  },
  {
   "cell_type": "code",
   "execution_count": 66,
   "id": "ac4f19cb",
   "metadata": {},
   "outputs": [],
   "source": [
    "df2['published_year'] = df2.publishedAt.dt.year\n",
    "df2['published_month'] = df2.publishedAt.dt.month\n",
    "df2['published_day'] = df2.publishedAt.dt.day\n",
    "df2['published_hour'] = df2.publishedAt.dt.hour\n",
    "df2['published_minute'] = df2.publishedAt.dt.minute\n",
    "df2['published_week'] = df2.publishedAt.dt.week"
   ]
  },
  {
   "cell_type": "code",
   "execution_count": 67,
   "id": "f1749728",
   "metadata": {},
   "outputs": [],
   "source": [
    "df2.drop(columns=['video_id', 'trending_date', 'publishedAt'],inplace=True) "
   ]
  },
  {
   "cell_type": "code",
   "execution_count": 68,
   "id": "415f6496",
   "metadata": {},
   "outputs": [
    {
     "data": {
      "text/html": [
       "<div>\n",
       "<style scoped>\n",
       "    .dataframe tbody tr th:only-of-type {\n",
       "        vertical-align: middle;\n",
       "    }\n",
       "\n",
       "    .dataframe tbody tr th {\n",
       "        vertical-align: top;\n",
       "    }\n",
       "\n",
       "    .dataframe thead th {\n",
       "        text-align: right;\n",
       "    }\n",
       "</style>\n",
       "<table border=\"1\" class=\"dataframe\">\n",
       "  <thead>\n",
       "    <tr style=\"text-align: right;\">\n",
       "      <th></th>\n",
       "      <th>view_count</th>\n",
       "      <th>likes</th>\n",
       "      <th>dislikes</th>\n",
       "      <th>comment_count</th>\n",
       "      <th>trending_day_no</th>\n",
       "      <th>total_trending_days</th>\n",
       "      <th>published_year</th>\n",
       "      <th>published_month</th>\n",
       "      <th>published_day</th>\n",
       "      <th>published_hour</th>\n",
       "      <th>published_minute</th>\n",
       "      <th>published_week</th>\n",
       "    </tr>\n",
       "  </thead>\n",
       "  <tbody>\n",
       "    <tr>\n",
       "      <th>0</th>\n",
       "      <td>37570579</td>\n",
       "      <td>5177871</td>\n",
       "      <td>12125</td>\n",
       "      <td>2276126</td>\n",
       "      <td>1.0000</td>\n",
       "      <td>8</td>\n",
       "      <td>2020</td>\n",
       "      <td>11</td>\n",
       "      <td>20</td>\n",
       "      <td>4</td>\n",
       "      <td>58</td>\n",
       "      <td>47</td>\n",
       "    </tr>\n",
       "    <tr>\n",
       "      <th>1</th>\n",
       "      <td>84352431</td>\n",
       "      <td>6965393</td>\n",
       "      <td>38012</td>\n",
       "      <td>3411203</td>\n",
       "      <td>2.0000</td>\n",
       "      <td>8</td>\n",
       "      <td>2020</td>\n",
       "      <td>11</td>\n",
       "      <td>20</td>\n",
       "      <td>4</td>\n",
       "      <td>58</td>\n",
       "      <td>47</td>\n",
       "    </tr>\n",
       "    <tr>\n",
       "      <th>2</th>\n",
       "      <td>121487843</td>\n",
       "      <td>10696119</td>\n",
       "      <td>81348</td>\n",
       "      <td>3913332</td>\n",
       "      <td>3.0000</td>\n",
       "      <td>8</td>\n",
       "      <td>2020</td>\n",
       "      <td>11</td>\n",
       "      <td>20</td>\n",
       "      <td>4</td>\n",
       "      <td>58</td>\n",
       "      <td>47</td>\n",
       "    </tr>\n",
       "    <tr>\n",
       "      <th>3</th>\n",
       "      <td>130757195</td>\n",
       "      <td>10908482</td>\n",
       "      <td>95278</td>\n",
       "      <td>3998863</td>\n",
       "      <td>4.0000</td>\n",
       "      <td>8</td>\n",
       "      <td>2020</td>\n",
       "      <td>11</td>\n",
       "      <td>20</td>\n",
       "      <td>4</td>\n",
       "      <td>58</td>\n",
       "      <td>47</td>\n",
       "    </tr>\n",
       "    <tr>\n",
       "      <th>4</th>\n",
       "      <td>136155442</td>\n",
       "      <td>11077371</td>\n",
       "      <td>105414</td>\n",
       "      <td>4058343</td>\n",
       "      <td>5.0000</td>\n",
       "      <td>8</td>\n",
       "      <td>2020</td>\n",
       "      <td>11</td>\n",
       "      <td>20</td>\n",
       "      <td>4</td>\n",
       "      <td>58</td>\n",
       "      <td>47</td>\n",
       "    </tr>\n",
       "  </tbody>\n",
       "</table>\n",
       "</div>"
      ],
      "text/plain": [
       "   view_count     likes  dislikes  comment_count  trending_day_no  \\\n",
       "0    37570579   5177871     12125        2276126           1.0000   \n",
       "1    84352431   6965393     38012        3411203           2.0000   \n",
       "2   121487843  10696119     81348        3913332           3.0000   \n",
       "3   130757195  10908482     95278        3998863           4.0000   \n",
       "4   136155442  11077371    105414        4058343           5.0000   \n",
       "\n",
       "   total_trending_days  published_year  published_month  published_day  \\\n",
       "0                    8            2020               11             20   \n",
       "1                    8            2020               11             20   \n",
       "2                    8            2020               11             20   \n",
       "3                    8            2020               11             20   \n",
       "4                    8            2020               11             20   \n",
       "\n",
       "   published_hour  published_minute  published_week  \n",
       "0               4                58              47  \n",
       "1               4                58              47  \n",
       "2               4                58              47  \n",
       "3               4                58              47  \n",
       "4               4                58              47  "
      ]
     },
     "execution_count": 68,
     "metadata": {},
     "output_type": "execute_result"
    }
   ],
   "source": [
    "df2.head()"
   ]
  },
  {
   "cell_type": "code",
   "execution_count": 69,
   "id": "fecd7b7c",
   "metadata": {},
   "outputs": [],
   "source": [
    "df2.drop(columns=['trending_day_no'],inplace=True)"
   ]
  },
  {
   "cell_type": "code",
   "execution_count": 70,
   "id": "2f2e3125",
   "metadata": {},
   "outputs": [],
   "source": [
    "X = df2.drop('total_trending_days',axis=1)\n",
    "Y = df2.total_trending_days"
   ]
  },
  {
   "cell_type": "code",
   "execution_count": 71,
   "id": "5099c328",
   "metadata": {},
   "outputs": [],
   "source": [
    "import sklearn.tree"
   ]
  },
  {
   "cell_type": "code",
   "execution_count": 72,
   "id": "1ab1621d",
   "metadata": {},
   "outputs": [],
   "source": [
    "trending_days_binned = pd.cut(Y, bins= [0,4,9,40])\n",
    "trending_days_binned_count = trending_days_binned.value_counts().rename_axis('Binned_Trending_Days').reset_index(name = 'Count')"
   ]
  },
  {
   "cell_type": "code",
   "execution_count": 73,
   "id": "2c30ec9f",
   "metadata": {},
   "outputs": [
    {
     "data": {
      "text/plain": [
       "<seaborn.axisgrid.FacetGrid at 0x18829d877c0>"
      ]
     },
     "execution_count": 73,
     "metadata": {},
     "output_type": "execute_result"
    },
    {
     "data": {
      "image/png": "[encoded data removed]",
      "text/plain": [
       "<Figure size 720x360 with 1 Axes>"
      ]
     },
     "metadata": {
      "needs_background": "light"
     },
     "output_type": "display_data"
    }
   ],
   "source": [
    "sns.catplot( y='Count',x='Binned_Trending_Days',\\\n",
    "            data=trending_days_binned_count,kind='bar', aspect = 2)"
   ]
  },
  {
   "cell_type": "code",
   "execution_count": 74,
   "id": "17a18ce5",
   "metadata": {},
   "outputs": [],
   "source": [
    "X = df2.drop('total_trending_days',axis=1)\n",
    "Y = df2.total_trending_days"
   ]
  },
  {
   "cell_type": "code",
   "execution_count": 75,
   "id": "9286544e",
   "metadata": {},
   "outputs": [
    {
     "data": {
      "text/html": [
       "<div>\n",
       "<style scoped>\n",
       "    .dataframe tbody tr th:only-of-type {\n",
       "        vertical-align: middle;\n",
       "    }\n",
       "\n",
       "    .dataframe tbody tr th {\n",
       "        vertical-align: top;\n",
       "    }\n",
       "\n",
       "    .dataframe thead th {\n",
       "        text-align: right;\n",
       "    }\n",
       "</style>\n",
       "<table border=\"1\" class=\"dataframe\">\n",
       "  <thead>\n",
       "    <tr style=\"text-align: right;\">\n",
       "      <th></th>\n",
       "      <th>view_count</th>\n",
       "      <th>likes</th>\n",
       "      <th>dislikes</th>\n",
       "      <th>comment_count</th>\n",
       "      <th>total_trending_days</th>\n",
       "      <th>published_year</th>\n",
       "      <th>published_month</th>\n",
       "      <th>published_day</th>\n",
       "      <th>published_hour</th>\n",
       "      <th>published_minute</th>\n",
       "      <th>published_week</th>\n",
       "    </tr>\n",
       "  </thead>\n",
       "  <tbody>\n",
       "    <tr>\n",
       "      <th>0</th>\n",
       "      <td>37570579</td>\n",
       "      <td>5177871</td>\n",
       "      <td>12125</td>\n",
       "      <td>2276126</td>\n",
       "      <td>8</td>\n",
       "      <td>2020</td>\n",
       "      <td>11</td>\n",
       "      <td>20</td>\n",
       "      <td>4</td>\n",
       "      <td>58</td>\n",
       "      <td>47</td>\n",
       "    </tr>\n",
       "    <tr>\n",
       "      <th>1</th>\n",
       "      <td>84352431</td>\n",
       "      <td>6965393</td>\n",
       "      <td>38012</td>\n",
       "      <td>3411203</td>\n",
       "      <td>8</td>\n",
       "      <td>2020</td>\n",
       "      <td>11</td>\n",
       "      <td>20</td>\n",
       "      <td>4</td>\n",
       "      <td>58</td>\n",
       "      <td>47</td>\n",
       "    </tr>\n",
       "    <tr>\n",
       "      <th>2</th>\n",
       "      <td>121487843</td>\n",
       "      <td>10696119</td>\n",
       "      <td>81348</td>\n",
       "      <td>3913332</td>\n",
       "      <td>8</td>\n",
       "      <td>2020</td>\n",
       "      <td>11</td>\n",
       "      <td>20</td>\n",
       "      <td>4</td>\n",
       "      <td>58</td>\n",
       "      <td>47</td>\n",
       "    </tr>\n",
       "    <tr>\n",
       "      <th>3</th>\n",
       "      <td>130757195</td>\n",
       "      <td>10908482</td>\n",
       "      <td>95278</td>\n",
       "      <td>3998863</td>\n",
       "      <td>8</td>\n",
       "      <td>2020</td>\n",
       "      <td>11</td>\n",
       "      <td>20</td>\n",
       "      <td>4</td>\n",
       "      <td>58</td>\n",
       "      <td>47</td>\n",
       "    </tr>\n",
       "    <tr>\n",
       "      <th>4</th>\n",
       "      <td>136155442</td>\n",
       "      <td>11077371</td>\n",
       "      <td>105414</td>\n",
       "      <td>4058343</td>\n",
       "      <td>8</td>\n",
       "      <td>2020</td>\n",
       "      <td>11</td>\n",
       "      <td>20</td>\n",
       "      <td>4</td>\n",
       "      <td>58</td>\n",
       "      <td>47</td>\n",
       "    </tr>\n",
       "  </tbody>\n",
       "</table>\n",
       "</div>"
      ],
      "text/plain": [
       "   view_count     likes  dislikes  comment_count  total_trending_days  \\\n",
       "0    37570579   5177871     12125        2276126                    8   \n",
       "1    84352431   6965393     38012        3411203                    8   \n",
       "2   121487843  10696119     81348        3913332                    8   \n",
       "3   130757195  10908482     95278        3998863                    8   \n",
       "4   136155442  11077371    105414        4058343                    8   \n",
       "\n",
       "   published_year  published_month  published_day  published_hour  \\\n",
       "0            2020               11             20               4   \n",
       "1            2020               11             20               4   \n",
       "2            2020               11             20               4   \n",
       "3            2020               11             20               4   \n",
       "4            2020               11             20               4   \n",
       "\n",
       "   published_minute  published_week  \n",
       "0                58              47  \n",
       "1                58              47  \n",
       "2                58              47  \n",
       "3                58              47  \n",
       "4                58              47  "
      ]
     },
     "execution_count": 75,
     "metadata": {},
     "output_type": "execute_result"
    }
   ],
   "source": [
    "df2.head()"
   ]
  },
  {
   "cell_type": "code",
   "execution_count": 76,
   "id": "469e9f80",
   "metadata": {},
   "outputs": [
    {
     "data": {
      "text/html": [
       "<div>\n",
       "<style scoped>\n",
       "    .dataframe tbody tr th:only-of-type {\n",
       "        vertical-align: middle;\n",
       "    }\n",
       "\n",
       "    .dataframe tbody tr th {\n",
       "        vertical-align: top;\n",
       "    }\n",
       "\n",
       "    .dataframe thead th {\n",
       "        text-align: right;\n",
       "    }\n",
       "</style>\n",
       "<table border=\"1\" class=\"dataframe\">\n",
       "  <thead>\n",
       "    <tr style=\"text-align: right;\">\n",
       "      <th></th>\n",
       "      <th>view_count</th>\n",
       "      <th>likes</th>\n",
       "      <th>dislikes</th>\n",
       "      <th>comment_count</th>\n",
       "      <th>published_year</th>\n",
       "      <th>published_month</th>\n",
       "      <th>published_day</th>\n",
       "      <th>published_hour</th>\n",
       "      <th>published_minute</th>\n",
       "      <th>published_week</th>\n",
       "    </tr>\n",
       "  </thead>\n",
       "  <tbody>\n",
       "    <tr>\n",
       "      <th>0</th>\n",
       "      <td>37570579</td>\n",
       "      <td>5177871</td>\n",
       "      <td>12125</td>\n",
       "      <td>2276126</td>\n",
       "      <td>2020</td>\n",
       "      <td>11</td>\n",
       "      <td>20</td>\n",
       "      <td>4</td>\n",
       "      <td>58</td>\n",
       "      <td>47</td>\n",
       "    </tr>\n",
       "    <tr>\n",
       "      <th>1</th>\n",
       "      <td>84352431</td>\n",
       "      <td>6965393</td>\n",
       "      <td>38012</td>\n",
       "      <td>3411203</td>\n",
       "      <td>2020</td>\n",
       "      <td>11</td>\n",
       "      <td>20</td>\n",
       "      <td>4</td>\n",
       "      <td>58</td>\n",
       "      <td>47</td>\n",
       "    </tr>\n",
       "    <tr>\n",
       "      <th>2</th>\n",
       "      <td>121487843</td>\n",
       "      <td>10696119</td>\n",
       "      <td>81348</td>\n",
       "      <td>3913332</td>\n",
       "      <td>2020</td>\n",
       "      <td>11</td>\n",
       "      <td>20</td>\n",
       "      <td>4</td>\n",
       "      <td>58</td>\n",
       "      <td>47</td>\n",
       "    </tr>\n",
       "    <tr>\n",
       "      <th>3</th>\n",
       "      <td>130757195</td>\n",
       "      <td>10908482</td>\n",
       "      <td>95278</td>\n",
       "      <td>3998863</td>\n",
       "      <td>2020</td>\n",
       "      <td>11</td>\n",
       "      <td>20</td>\n",
       "      <td>4</td>\n",
       "      <td>58</td>\n",
       "      <td>47</td>\n",
       "    </tr>\n",
       "    <tr>\n",
       "      <th>4</th>\n",
       "      <td>136155442</td>\n",
       "      <td>11077371</td>\n",
       "      <td>105414</td>\n",
       "      <td>4058343</td>\n",
       "      <td>2020</td>\n",
       "      <td>11</td>\n",
       "      <td>20</td>\n",
       "      <td>4</td>\n",
       "      <td>58</td>\n",
       "      <td>47</td>\n",
       "    </tr>\n",
       "  </tbody>\n",
       "</table>\n",
       "</div>"
      ],
      "text/plain": [
       "   view_count     likes  dislikes  comment_count  published_year  \\\n",
       "0    37570579   5177871     12125        2276126            2020   \n",
       "1    84352431   6965393     38012        3411203            2020   \n",
       "2   121487843  10696119     81348        3913332            2020   \n",
       "3   130757195  10908482     95278        3998863            2020   \n",
       "4   136155442  11077371    105414        4058343            2020   \n",
       "\n",
       "   published_month  published_day  published_hour  published_minute  \\\n",
       "0               11             20               4                58   \n",
       "1               11             20               4                58   \n",
       "2               11             20               4                58   \n",
       "3               11             20               4                58   \n",
       "4               11             20               4                58   \n",
       "\n",
       "   published_week  \n",
       "0              47  \n",
       "1              47  \n",
       "2              47  \n",
       "3              47  \n",
       "4              47  "
      ]
     },
     "execution_count": 76,
     "metadata": {},
     "output_type": "execute_result"
    }
   ],
   "source": [
    "X.head()"
   ]
  },
  {
   "cell_type": "code",
   "execution_count": 77,
   "id": "1e0f8d40",
   "metadata": {},
   "outputs": [],
   "source": [
    "X_train, X_test, Y_train, Y_test = train_test_split(X,Y,\n",
    "                            test_size=0.3,random_state=0)"
   ]
  },
  {
   "cell_type": "code",
   "execution_count": 78,
   "id": "ef8c8dcd",
   "metadata": {},
   "outputs": [],
   "source": [
    "from sklearn import linear_model"
   ]
  },
  {
   "cell_type": "code",
   "execution_count": 79,
   "id": "f71dc9e0",
   "metadata": {},
   "outputs": [],
   "source": [
    "regr = linear_model.LinearRegression()"
   ]
  },
  {
   "cell_type": "code",
   "execution_count": 80,
   "id": "bbe7b02a",
   "metadata": {},
   "outputs": [],
   "source": [
    "regr = linear_model.LinearRegression()"
   ]
  },
  {
   "cell_type": "code",
   "execution_count": 84,
   "id": "a6a6ad55",
   "metadata": {},
   "outputs": [
    {
     "data": {
      "text/html": [
       "<style>#sk-container-id-3 {color: black;background-color: white;}#sk-container-id-3 pre{padding: 0;}#sk-container-id-3 div.sk-toggleable {background-color: white;}#sk-container-id-3 label.sk-toggleable__label {cursor: pointer;display: block;width: 100%;margin-bottom: 0;padding: 0.3em;box-sizing: border-box;text-align: center;}#sk-container-id-3 label.sk-toggleable__label-arrow:before {content: \"▸\";float: left;margin-right: 0.25em;color: #696969;}#sk-container-id-3 label.sk-toggleable__label-arrow:hover:before {color: black;}#sk-container-id-3 div.sk-estimator:hover label.sk-toggleable__label-arrow:before {color: black;}#sk-container-id-3 div.sk-toggleable__content {max-height: 0;max-width: 0;overflow: hidden;text-align: left;background-color: #f0f8ff;}#sk-container-id-3 div.sk-toggleable__content pre {margin: 0.2em;color: black;border-radius: 0.25em;background-color: #f0f8ff;}#sk-container-id-3 input.sk-toggleable__control:checked~div.sk-toggleable__content {max-height: 200px;max-width: 100%;overflow: auto;}#sk-container-id-3 input.sk-toggleable__control:checked~label.sk-toggleable__label-arrow:before {content: \"▾\";}#sk-container-id-3 div.sk-estimator input.sk-toggleable__control:checked~label.sk-toggleable__label {background-color: #d4ebff;}#sk-container-id-3 div.sk-label input.sk-toggleable__control:checked~label.sk-toggleable__label {background-color: #d4ebff;}#sk-container-id-3 input.sk-hidden--visually {border: 0;clip: rect(1px 1px 1px 1px);clip: rect(1px, 1px, 1px, 1px);height: 1px;margin: -1px;overflow: hidden;padding: 0;position: absolute;width: 1px;}#sk-container-id-3 div.sk-estimator {font-family: monospace;background-color: #f0f8ff;border: 1px dotted black;border-radius: 0.25em;box-sizing: border-box;margin-bottom: 0.5em;}#sk-container-id-3 div.sk-estimator:hover {background-color: #d4ebff;}#sk-container-id-3 div.sk-parallel-item::after {content: \"\";width: 100%;border-bottom: 1px solid gray;flex-grow: 1;}#sk-container-id-3 div.sk-label:hover label.sk-toggleable__label {background-color: #d4ebff;}#sk-container-id-3 div.sk-serial::before {content: \"\";position: absolute;border-left: 1px solid gray;box-sizing: border-box;top: 0;bottom: 0;left: 50%;z-index: 0;}#sk-container-id-3 div.sk-serial {display: flex;flex-direction: column;align-items: center;background-color: white;padding-right: 0.2em;padding-left: 0.2em;position: relative;}#sk-container-id-3 div.sk-item {position: relative;z-index: 1;}#sk-container-id-3 div.sk-parallel {display: flex;align-items: stretch;justify-content: center;background-color: white;position: relative;}#sk-container-id-3 div.sk-item::before, #sk-container-id-3 div.sk-parallel-item::before {content: \"\";position: absolute;border-left: 1px solid gray;box-sizing: border-box;top: 0;bottom: 0;left: 50%;z-index: -1;}#sk-container-id-3 div.sk-parallel-item {display: flex;flex-direction: column;z-index: 1;position: relative;background-color: white;}#sk-container-id-3 div.sk-parallel-item:first-child::after {align-self: flex-end;width: 50%;}#sk-container-id-3 div.sk-parallel-item:last-child::after {align-self: flex-start;width: 50%;}#sk-container-id-3 div.sk-parallel-item:only-child::after {width: 0;}#sk-container-id-3 div.sk-dashed-wrapped {border: 1px dashed gray;margin: 0 0.4em 0.5em 0.4em;box-sizing: border-box;padding-bottom: 0.4em;background-color: white;}#sk-container-id-3 div.sk-label label {font-family: monospace;font-weight: bold;display: inline-block;line-height: 1.2em;}#sk-container-id-3 div.sk-label-container {text-align: center;}#sk-container-id-3 div.sk-container {/* jupyter's `normalize.less` sets `[hidden] { display: none; }` but bootstrap.min.css set `[hidden] { display: none !important; }` so we also need the `!important` here to be able to override the default hidden behavior on the sphinx rendered scikit-learn.org. See: https://github.com/scikit-learn/scikit-learn/issues/21755 */display: inline-block !important;position: relative;}#sk-container-id-3 div.sk-text-repr-fallback {display: none;}</style><div id=\"sk-container-id-3\" class=\"sk-top-container\"><div class=\"sk-text-repr-fallback\"><pre>LinearRegression()</pre><b>In a Jupyter environment, please rerun this cell to show the HTML representation or trust the notebook. <br />On GitHub, the HTML representation is unable to render, please try loading this page with nbviewer.org.</b></div><div class=\"sk-container\" hidden><div class=\"sk-item\"><div class=\"sk-estimator sk-toggleable\"><input class=\"sk-toggleable__control sk-hidden--visually\" id=\"sk-estimator-id-3\" type=\"checkbox\" checked><label for=\"sk-estimator-id-3\" class=\"sk-toggleable__label sk-toggleable__label-arrow\">LinearRegression</label><div class=\"sk-toggleable__content\"><pre>LinearRegression()</pre></div></div></div></div></div>"
      ],
      "text/plain": [
       "LinearRegression()"
      ]
     },
     "execution_count": 84,
     "metadata": {},
     "output_type": "execute_result"
    }
   ],
   "source": [
    "regr.fit(X_train,Y_train)"
   ]
  },
  {
   "cell_type": "code",
   "execution_count": 85,
   "id": "a9935574",
   "metadata": {},
   "outputs": [],
   "source": [
    "y_pred = regr.predict(X_test)"
   ]
  },
  {
   "cell_type": "code",
   "execution_count": 86,
   "id": "37573691",
   "metadata": {},
   "outputs": [
    {
     "data": {
      "text/plain": [
       "array([ 6.70724843,  6.65563336,  6.94606438,  8.19307498,  6.72695354,\n",
       "        7.45692485,  5.72239383,  8.44771168,  6.0291281 ,  8.01205714,\n",
       "        6.36669241,  7.82178889,  5.44078379,  5.52176279,  6.48806011,\n",
       "        5.10854111,  5.16586661,  6.56169213,  7.88116754,  6.21708023,\n",
       "        5.56958087,  7.55079181,  6.0860411 ,  7.3652824 ,  5.0812759 ,\n",
       "        5.49573365,  6.10006124, 21.33730599,  6.32717465,  7.32307853,\n",
       "        8.70800425,  6.25043253,  6.63033789,  7.73425974,  5.0234234 ,\n",
       "        6.31515015,  5.41839209,  9.15931445,  9.17911933,  5.69837983,\n",
       "        8.8968424 ,  6.5116925 ,  8.25161412,  5.7168004 ,  7.50514324,\n",
       "        6.07901998,  8.33362853,  5.50902146,  6.91690959,  7.07248136,\n",
       "        6.0942145 ,  9.34578598,  5.73465061,  6.23204575,  6.47213048,\n",
       "        4.72308407,  7.36951752,  7.62353944,  6.63428375,  8.89537916,\n",
       "        6.40975639,  6.28716724,  6.7858808 ,  6.71109517, 13.00985098,\n",
       "        5.87985823,  7.18703859,  7.47480379,  9.0649288 ,  5.86918518,\n",
       "        6.35511139,  8.01657535,  5.55395128,  6.61600127,  5.63001738,\n",
       "        7.75929775,  7.26033877,  7.86698337,  9.79563527,  6.6573498 ,\n",
       "        5.70979247,  6.53191207,  5.84066726,  6.26780811,  5.68576133,\n",
       "        6.38412118,  4.26824892,  7.75054345,  7.5006555 ,  7.42543482,\n",
       "        5.72575192,  7.4622138 ,  5.62994441,  5.4982037 ,  5.42323856,\n",
       "       11.33230153,  5.16112555,  6.05442671,  7.35953267,  6.6014173 ,\n",
       "        6.04580825,  5.40169509,  7.89951718, 11.28105413,  8.07986049,\n",
       "        7.55207739,  6.80273467,  6.01061586,  6.02730373,  6.40436276,\n",
       "        6.06744309,  7.78913091,  5.78841113,  6.51702877,  4.19494323,\n",
       "        6.52581392,  8.96510348,  6.72590126,  5.79180611,  5.82561874,\n",
       "        5.51190056,  5.4597914 ,  7.15687303,  7.24567761,  7.2426729 ,\n",
       "        5.56002466, 12.49962078,  5.724771  ,  7.51616703,  7.99528602,\n",
       "        6.09179264,  6.16033676,  7.92259813,  6.69899493,  7.30354712,\n",
       "        6.95131648,  5.90932769,  8.83990828,  5.96084218,  6.79554   ,\n",
       "        9.28337031,  6.31507841,  8.48271631,  5.51793504,  6.30353207,\n",
       "        6.55823976,  9.73177541,  7.71031564,  5.82343051,  6.53628145,\n",
       "        8.24210819,  6.5107817 ,  4.80165975, 11.00913242,  6.67695167,\n",
       "        8.71932907,  7.93955001,  6.15115858,  6.1601345 ,  5.70734676,\n",
       "        4.21016394,  8.87323664,  5.12373609,  4.29211423,  7.04397978,\n",
       "        6.66787594,  5.22451648,  7.29806939,  6.695469  ,  9.46426877,\n",
       "        8.59240497,  5.16968264,  9.10074576,  9.91593144,  7.02025018,\n",
       "        5.38181658,  7.14069078,  8.7607046 ,  6.29950663,  7.16789417,\n",
       "        8.09421297,  4.9197285 ,  8.84502941,  5.57303487,  6.79310789,\n",
       "        4.61662668,  5.56203584,  6.07470846,  7.43881832,  5.55529832,\n",
       "        5.61235662,  6.72578693,  5.69674938,  9.11967758,  7.52553246,\n",
       "        5.8957275 ,  4.82509936,  6.26817016,  8.37438194,  5.7795236 ,\n",
       "        6.42366363,  6.33674271,  6.97249423,  7.2312235 ,  3.91982127,\n",
       "        6.61382961,  8.06152691,  6.66342995,  6.02007148,  7.09498285,\n",
       "        6.73902807, 11.08688263,  8.61616378,  5.21810313,  5.47783288,\n",
       "        6.94046408,  5.41895008,  5.94161675,  5.91360507,  7.14797431,\n",
       "        6.2641848 ,  6.25336518, 11.25265329,  5.43479278,  8.14330452,\n",
       "        6.85144342,  6.18789704,  8.11532038,  8.00012181,  6.78426229,\n",
       "        6.8357145 ,  7.2369227 ,  5.71925497,  4.97997413,  7.87012469,\n",
       "        5.75737727,  6.63914702,  7.59490659,  5.95852775,  7.2652252 ,\n",
       "        8.20109349,  8.90085725,  7.47422499,  5.7389291 ,  6.84299859,\n",
       "        6.73315832,  5.61514339,  5.96282202,  5.33840778,  7.5505831 ,\n",
       "        6.08174067,  5.87674569,  5.97289951,  7.22840304,  4.66482146,\n",
       "        6.64060507,  6.54589297,  6.25593691, 20.77248059,  8.7559071 ,\n",
       "        8.37098913,  9.4871229 ,  8.2344444 ,  8.35456974,  9.90802775,\n",
       "        7.28691625,  5.92376742,  6.51292933,  5.48106792,  6.56713601,\n",
       "        6.61188535,  8.24409137,  8.40532824,  4.16508953,  6.60673484,\n",
       "        5.4661505 ,  9.65633606,  4.51992891,  5.99441229,  5.6719183 ,\n",
       "        6.36919603,  6.23876699,  8.07773039,  6.09157158,  8.24754142,\n",
       "        6.90516079,  6.4292163 ,  7.4299247 , 10.45723549,  6.31309423,\n",
       "        6.31445676,  9.66619898,  6.59013872,  6.98636914,  6.06050217,\n",
       "        4.81238791,  5.93403684,  7.36106483,  5.06879709,  7.77594886,\n",
       "        8.20581005,  6.74689313,  5.05184222,  7.06285626,  6.92448387,\n",
       "        5.6583355 ,  7.84492327, 10.34025409,  9.10626505,  5.31205788,\n",
       "        6.67497384,  6.79941593,  5.98541669,  5.80726785,  5.49628594,\n",
       "        5.49836106,  7.98888616,  6.80402755,  5.25404309,  5.17035193,\n",
       "        5.7463553 , 10.42822191,  5.82899477,  7.63355084,  7.63883066,\n",
       "        6.44208182,  8.56753532,  6.85226285,  7.05232287,  7.23117414,\n",
       "        7.95669105,  6.82387635,  4.69738633,  6.07436155,  4.05407568,\n",
       "        7.38983232,  4.85582348,  6.07367252,  7.48686849,  7.99996565,\n",
       "        7.61205746,  7.06589875,  4.48573024,  4.41418711,  6.21698397,\n",
       "        8.00993354,  6.79712611,  5.60267312,  7.26747659,  6.56760118,\n",
       "        8.28629804,  5.83535846,  6.16810821,  9.30918327,  6.14294227,\n",
       "        5.52786037,  5.17359819,  5.25737211,  6.29272957,  7.48134911,\n",
       "        5.28900457,  6.60012327,  8.27122216,  6.32503128,  6.74736298,\n",
       "        8.44218376,  5.49127067,  7.80668917,  7.3227584 ,  5.0775195 ,\n",
       "        6.16465708,  5.49238108,  7.05897224,  7.55811274,  7.00180625,\n",
       "        4.92971691,  7.21422639,  6.94867495,  6.01519265,  8.89118211,\n",
       "        6.00653876,  7.22711055,  6.44752013,  6.87160074,  4.80945696,\n",
       "        8.4185501 ,  7.52770533,  7.95994671, 10.76032412,  7.97635648,\n",
       "        5.48042515,  6.14017775,  6.40408877,  4.13966049,  6.98661745,\n",
       "        6.16801405,  5.46104043,  6.72309899,  6.93476964, 22.90845984,\n",
       "        7.37461823,  5.45470109,  6.96079217,  6.49507995, 11.51712871,\n",
       "        5.8405866 ,  8.1194631 ,  6.73875253,  7.3085385 ,  6.77920139,\n",
       "        9.42458505,  6.94974074,  5.65206217,  6.77708097,  8.4135533 ,\n",
       "        6.23537168, 11.44815189,  8.83618178,  7.21753923,  6.80688695,\n",
       "        8.81856435,  6.9618079 , 10.07802246,  7.47046992,  6.82895675,\n",
       "        7.40242853,  6.46957844,  6.49634919,  7.97311671,  7.64459509,\n",
       "        8.82699241,  9.28376512,  7.37606636,  7.71928614,  4.98539832,\n",
       "        6.82568754,  5.67401851,  6.52871442,  6.69248844,  8.38039214,\n",
       "        6.17081882,  7.05213464,  7.12113881,  4.22970666,  6.84068553,\n",
       "        5.8091409 ,  5.63871178,  6.88934615,  4.83760484,  4.21332089,\n",
       "        4.75588986,  6.74793992,  6.88340779,  7.4039748 ,  6.58141033,\n",
       "        8.60456407,  5.63658067,  5.35957657,  9.14063049,  7.78512868,\n",
       "        6.75936687,  9.87492126,  6.19293413,  6.47157726,  7.16353235,\n",
       "        6.8261799 ,  6.90306857,  7.5108229 ,  7.03909085,  6.74158031,\n",
       "        6.61495191,  5.61895442,  5.03932284,  7.61883664,  8.0948566 ,\n",
       "        6.60802748,  5.53709398,  6.92649175,  6.69931292,  7.32024965,\n",
       "        5.58405428,  7.49538177,  7.94441696,  5.90703406,  7.67277042,\n",
       "        8.83053793,  6.56802874,  5.65067943,  8.20389148,  7.25471681,\n",
       "        5.64623843,  8.74976668,  7.35432062,  9.48682273,  7.63962296,\n",
       "        5.62035714,  5.85875696,  6.5386541 ,  6.62483972,  7.3470957 ,\n",
       "        7.173401  ,  7.23756615,  6.48422445,  6.21050798,  6.7570631 ,\n",
       "        6.13229367,  7.99094774,  6.57625539,  5.91975511,  6.79808727,\n",
       "        6.05844873,  5.78920919,  4.67878289,  6.42436675,  9.68659391,\n",
       "        6.70969393,  5.04557161,  6.66483216,  4.80179596,  5.63156709,\n",
       "        6.73593044,  6.09409396,  4.89703276,  6.81249639,  6.2202665 ,\n",
       "        7.37405601,  5.86853882,  6.8160292 ,  6.0083539 ,  5.63184678,\n",
       "        6.84123376, 15.46798513,  6.55673928,  8.9800741 ,  6.35778267,\n",
       "        6.52086125,  9.28774528,  6.37420449,  5.77041474,  7.81137588,\n",
       "        6.1998113 ,  6.15252784,  5.85745953,  5.74836819,  6.3687875 ,\n",
       "        5.8301645 ,  7.03426851,  6.96886584,  8.42046748,  7.44587147,\n",
       "        8.84172661,  9.56737   ,  6.22133117,  9.27639072,  6.10750651,\n",
       "        6.71199512,  7.12074395,  5.49835032,  9.62187843, 11.24017767,\n",
       "       11.26558442,  7.25446288,  6.3976367 ,  6.5788367 ,  6.45395348,\n",
       "        6.46023239,  5.5997531 ,  5.62978442,  6.74367821,  5.52456247,\n",
       "        5.76321039,  7.75147493,  7.03442684,  6.60533881,  7.47738304,\n",
       "        6.0866161 ,  6.43734244,  4.59443146,  9.18236442,  6.7335685 ,\n",
       "        4.6111866 ,  9.39264215,  6.58939951,  6.96762107,  3.29127039,\n",
       "        4.99259855, 13.2489116 ,  6.87467799,  6.60985201,  8.14096159,\n",
       "        4.69426096,  6.74330347,  6.65162031,  7.21439987,  4.84367415,\n",
       "        5.79869674,  6.19003623,  6.54446791,  7.19140489,  5.00766145,\n",
       "        6.14385411,  5.53932219, 11.35050548,  8.40600668,  5.7510593 ,\n",
       "        5.32965977,  7.58433185,  5.10903697,  5.30724557,  6.27817084,\n",
       "       10.55234902,  8.13837748,  6.08436974,  6.81980474,  7.28846901,\n",
       "       14.25191438,  8.12291253,  6.44128981,  9.24649943,  5.45194985,\n",
       "        6.31439775,  7.02690212, 11.07258517,  6.61924995,  6.31145272,\n",
       "        7.64758705,  6.58230267,  7.8255701 ,  5.86358067,  6.88002264,\n",
       "        5.24779777,  5.16850017,  5.41750353,  6.84445129,  6.69558623,\n",
       "        6.38624176,  5.46865387,  7.24052159,  9.07260816,  6.34767595,\n",
       "        5.22296782,  7.71428845,  6.26753439,  6.28262966,  6.44881042,\n",
       "        6.63117341,  7.30546224,  6.69317635,  6.69282317,  4.49414207,\n",
       "        7.93104707,  7.35169246,  6.66735855,  7.0100255 ,  4.22733653,\n",
       "        5.72229553,  6.64114945,  6.73905584,  9.00724062,  7.0838125 ,\n",
       "        5.72317151,  7.88889499,  7.22479818,  7.05870653,  9.76087023,\n",
       "        6.54911531,  5.41113227,  6.88378401,  8.10613009,  6.76540451,\n",
       "        7.1940659 ,  4.81378351,  6.81634425,  6.04367148,  8.33829575,\n",
       "        8.07948777,  4.42628353,  7.05057845,  6.91540679,  7.27280652,\n",
       "        4.89005308,  7.80157444,  6.22104247,  6.38906916,  4.14572505,\n",
       "        8.46475702,  6.54056049,  6.47050305,  6.48390858,  7.40224512,\n",
       "        7.78854467,  7.229285  ,  6.23984012,  7.38201165,  5.47137865,\n",
       "        8.35507132,  7.88328858,  8.1701999 ,  6.37514245,  7.33405205,\n",
       "        8.63861971,  8.07325325,  7.37727968,  5.44043054,  7.92446789,\n",
       "        6.63510692,  5.79840623,  7.18398051,  6.32514935,  5.9834397 ,\n",
       "        4.41294283,  6.53373085,  8.14801401,  5.70116811,  6.60084734,\n",
       "        6.88530238,  6.19810659,  7.69342531,  7.09428941,  6.23444864,\n",
       "        5.73018358,  8.61001917,  6.05779649,  8.12107857,  6.00741384,\n",
       "        7.61955722,  9.80796359,  8.13144685,  7.46559882,  7.23186344,\n",
       "        6.77422807,  7.13971272,  5.81719156,  8.25924157,  5.29187686,\n",
       "        4.46317388,  8.06245631,  7.77988741,  7.94475843,  6.86351438,\n",
       "        6.9737349 ,  6.7773031 ,  6.54317324,  5.79524644,  7.99377842,\n",
       "        5.02558736,  8.38782172,  4.62752072,  7.70915029,  7.69536051,\n",
       "        7.46823163,  6.66365754,  6.49514949,  5.76594316,  8.34839874,\n",
       "        8.0927099 ,  6.3427034 ,  9.57892417,  9.57938563,  9.23686508,\n",
       "        7.87945048,  7.02865698,  6.78972468,  9.29380521,  8.546925  ,\n",
       "       25.17291848,  6.84710769,  7.24234154,  6.52201514,  8.98087904,\n",
       "       11.02419411,  4.47327504,  6.8476293 ,  8.33782697,  4.89938026,\n",
       "        5.81435246,  8.195206  ,  5.05712188,  5.60452048,  8.42628815,\n",
       "        5.4887895 ,  8.15736617,  4.17021689, 11.17839217,  8.75126051,\n",
       "        8.80630927,  7.96582573,  5.90177923,  6.60279868,  5.03023749,\n",
       "        4.58474303,  5.18832083,  7.03863259,  7.15822961,  7.02797497,\n",
       "        6.61525712,  7.13812508,  7.06016512,  9.0420054 ,  4.53232689,\n",
       "        6.38817284,  4.87151858, 20.2059738 ,  7.1504236 ,  4.51054266,\n",
       "        7.54805094,  6.37089945,  7.1046839 ,  6.38463598,  7.45286325,\n",
       "        7.43253345,  7.31143851,  6.34797725,  6.67186379,  8.26646668,\n",
       "        7.42178036,  7.08948033,  7.77846422,  6.64485628,  8.8511042 ,\n",
       "        5.88388443,  6.703942  ,  3.74935336,  4.94207368,  7.43741942,\n",
       "        6.27232593,  6.38534426,  6.25455351,  5.48856638,  6.70659135,\n",
       "        6.50207855,  7.8185434 ,  7.77168676,  7.28006777,  8.84337803,\n",
       "        7.45587751,  6.35989657,  5.98405557, 11.14798657,  5.49363461,\n",
       "        6.63431475,  6.53357968,  7.06604389,  5.70058145,  7.50307357,\n",
       "        6.12324077,  5.31318619,  6.55835295,  5.65543378,  7.69623325,\n",
       "        5.85875261,  8.52435525,  6.81880402,  7.66899563,  4.32221679,\n",
       "        6.09993575,  6.64189992,  5.65252458,  6.54961321, 11.13863271,\n",
       "        6.22667634,  6.97545419,  7.56624238, 10.01707275,  5.50135544,\n",
       "        6.71054004,  7.00947655,  6.74732185,  4.69255556, 11.36553047,\n",
       "        8.15357398,  7.37766578,  7.07493444, 23.83988527,  8.40296339,\n",
       "        5.42136484,  8.60986233,  9.71281184,  7.06734803,  8.82259711,\n",
       "        5.27966266,  7.10503386,  6.62231119,  7.1534704 ,  5.19623666,\n",
       "        7.82808282,  5.10305934,  5.63503955,  6.62308603,  7.07228604,\n",
       "       11.46457142,  6.70316311,  6.53314473,  6.43662157,  9.56164406,\n",
       "        4.73414045,  8.34183699,  7.80332417,  7.6496049 ,  4.15733015,\n",
       "        7.18561489,  7.79171258, 11.00782893,  8.21983834,  9.77318343,\n",
       "        9.54519253,  6.75129276,  5.66786249,  6.69584131,  7.75296678,\n",
       "        6.47592384,  7.05047459,  6.91200846, 10.63493152,  5.77912717,\n",
       "        5.0960125 ,  4.24902679,  7.7485805 ,  7.6936461 ,  7.53476876,\n",
       "        5.49784923,  6.98703093,  8.55845251,  8.56947331,  8.26973315,\n",
       "       12.03812585,  6.70938282,  7.57946858,  6.28534858,  6.7344962 ,\n",
       "        5.52707416,  6.65320748,  5.55449675,  7.31769435,  6.85228686,\n",
       "        6.25112212,  4.70252413,  6.52283392,  6.56170245,  7.3466588 ,\n",
       "        6.76168326,  5.98960373,  6.35034468,  6.64712693,  6.89136687,\n",
       "        4.62626549,  7.87889854,  8.73394228,  5.78954816,  5.73444886,\n",
       "        7.75173119,  4.71870643,  7.04556853,  9.56082919,  6.9442852 ,\n",
       "        7.64414653,  8.01718737,  6.76095417,  9.49072994,  8.00071898,\n",
       "        7.19708041,  5.61792851,  7.86582446,  7.78813699,  7.76521439,\n",
       "        7.12034439,  6.43159413])"
      ]
     },
     "execution_count": 86,
     "metadata": {},
     "output_type": "execute_result"
    }
   ],
   "source": [
    "y_pred"
   ]
  },
  {
   "cell_type": "code",
   "execution_count": 87,
   "id": "66aa33b3",
   "metadata": {},
   "outputs": [
    {
     "name": "stdout",
     "output_type": "stream",
     "text": [
      "Coefficients: \n",
      " [ 1.10993542e-07 -3.99979529e-07 -1.01050310e-05 -1.30714447e-06\n",
      " -1.63666866e-01 -2.06907011e-01  3.99699184e-03  9.34629286e-02\n",
      "  5.10733298e-04  1.53018602e-02]\n"
     ]
    }
   ],
   "source": [
    "print(\"Coefficients: \\n\", regr.coef_)"
   ]
  },
  {
   "cell_type": "code",
   "execution_count": 88,
   "id": "b2611cc1",
   "metadata": {},
   "outputs": [],
   "source": [
    "r2_score=sklearn.metrics.r2_score(Y_test, y_pred)"
   ]
  },
  {
   "cell_type": "code",
   "execution_count": 89,
   "id": "ce594bb4",
   "metadata": {},
   "outputs": [
    {
     "name": "stdout",
     "output_type": "stream",
     "text": [
      "Coefficient of determination: 0.36\n"
     ]
    }
   ],
   "source": [
    "print(\"Coefficient of determination: %.2f\" % r2_score)"
   ]
  },
  {
   "cell_type": "code",
   "execution_count": 90,
   "id": "7d107651",
   "metadata": {},
   "outputs": [
    {
     "data": {
      "text/plain": [
       "1.5501620601970634"
      ]
     },
     "execution_count": 90,
     "metadata": {},
     "output_type": "execute_result"
    }
   ],
   "source": [
    "(y_pred-Y_test).abs().mean()"
   ]
  },
  {
   "cell_type": "code",
   "execution_count": 91,
   "id": "6e86ed37",
   "metadata": {},
   "outputs": [
    {
     "data": {
      "text/plain": [
       "6.019633555838068"
      ]
     },
     "execution_count": 91,
     "metadata": {},
     "output_type": "execute_result"
    }
   ],
   "source": [
    "((y_pred-Y_test)**2).mean()"
   ]
  },
  {
   "cell_type": "code",
   "execution_count": 92,
   "id": "8e16b7ba",
   "metadata": {},
   "outputs": [],
   "source": [
    "from sklearn.linear_model import ElasticNet\n",
    "from sklearn.tree import DecisionTreeRegressor\n",
    "from sklearn.ensemble import GradientBoostingRegressor\n",
    "from sklearn.neural_network import MLPRegressor\n",
    "from sklearn.svm import SVR"
   ]
  },
  {
   "cell_type": "code",
   "execution_count": 93,
   "id": "d53d86c3",
   "metadata": {},
   "outputs": [],
   "source": [
    "#pip install lightgbm"
   ]
  },
  {
   "cell_type": "code",
   "execution_count": 94,
   "id": "32d15781",
   "metadata": {},
   "outputs": [],
   "source": [
    "from sklearn.model_selection import KFold\n",
    "from sklearn.linear_model import LinearRegression\n",
    "from sklearn.linear_model import Ridge, Lasso, LinearRegression\n",
    "from sklearn.tree import DecisionTreeRegressor\n",
    "from sklearn.ensemble import GradientBoostingRegressor, BaggingRegressor, RandomForestRegressor, StackingRegressor\n",
    "from xgboost import XGBRegressor\n",
    "from lightgbm import LGBMRegressor, sklearn\n",
    "from sklearn.model_selection import train_test_split\n",
    "from sklearn.compose import ColumnTransformer\n",
    "from sklearn.preprocessing import OneHotEncoder\n",
    "from sklearn.model_selection import cross_val_score, RepeatedKFold\n"
   ]
  },
  {
   "cell_type": "code",
   "execution_count": 95,
   "id": "8933edaa",
   "metadata": {},
   "outputs": [],
   "source": [
    "def base_models():\n",
    "  models = dict()\n",
    "  models['lr'] = LinearRegression()\n",
    "  models[\"Ridge\"] = Ridge()\n",
    "  models[\"Lasso\"] = Lasso()\n",
    "  models[\"Tree\"] = DecisionTreeRegressor()\n",
    "  models[\"Random Forest\"] = RandomForestRegressor()\n",
    "  #models[\"Bagging\"] = BaggingRegressor()\n",
    "  models[\"GBM\"] = GradientBoostingRegressor()\n",
    "  \n",
    "  return models\n"
   ]
  },
  {
   "cell_type": "code",
   "execution_count": 96,
   "id": "51d796e5",
   "metadata": {},
   "outputs": [],
   "source": [
    "def eval_models(model):\n",
    "  cv = RepeatedKFold(n_splits=10, n_repeats=3, random_state=1)\n",
    "  scores = -cross_val_score(model, X_train, Y_train, scoring='neg_mean_absolute_error', cv=cv, n_jobs=-1, \n",
    "                            error_score='raise')\n",
    "  return scores"
   ]
  },
  {
   "cell_type": "code",
   "execution_count": 97,
   "id": "acd58637",
   "metadata": {},
   "outputs": [],
   "source": [
    "models = base_models()\n",
    "# evaluate the models and store results\n",
    "results, names = list(), list() "
   ]
  },
  {
   "cell_type": "code",
   "execution_count": 98,
   "id": "d1adb735",
   "metadata": {},
   "outputs": [
    {
     "name": "stdout",
     "output_type": "stream",
     "text": [
      ">lr 1.609 (0.110)\n",
      ">Ridge 1.609 (0.110)\n",
      ">Lasso 1.619 (0.119)\n",
      ">Tree 0.467 (0.096)\n",
      ">Random Forest 0.485 (0.057)\n",
      ">GBM 0.932 (0.061)\n"
     ]
    }
   ],
   "source": [
    "for name, model in models.items():\n",
    "  scores = eval_models(model)\n",
    "  results.append(scores)\n",
    "  names.append(name)\n",
    "  print('>%s %.3f (%.3f)' % (name, scores.mean(), scores.std()))"
   ]
  },
  {
   "cell_type": "code",
   "execution_count": 99,
   "id": "d1753cfb",
   "metadata": {},
   "outputs": [],
   "source": [
    "regressmod = pd.DataFrame(np.transpose(results), columns = [\"lr\",\"Ridge\",\"Lasso\",\"Tree\",\"Random Forest\",\"GBM\"])\n",
    "regressmod = pd.melt(regressmod.reset_index(), id_vars='index',value_vars=[\"lr\",\"Ridge\",\"Lasso\",\"Tree\",\"Random Forest\",\"GBM\"])"
   ]
  },
  {
   "cell_type": "code",
   "execution_count": 100,
   "id": "7e2dd197",
   "metadata": {},
   "outputs": [
    {
     "data": {
      "application/vnd.plotly.v1+json": {
       "config": {
        "plotlyServerURL": "https://plot.ly"
       },
       "data": [
        {
         "alignmentgroup": "True",
         "boxpoints": "all",
         "hovertemplate": "Machine Learning Model=%{x}<br>RMS Error=%{y}<extra></extra>",
         "legendgroup": "lr",
         "marker": {
          "color": "#636efa"
         },
         "name": "lr",
         "notched": false,
         "offsetgroup": "lr",
         "orientation": "v",
         "showlegend": true,
         "type": "box",
         "x": [
          "lr",
          "lr",
          "lr",
          "lr",
          "lr",
          "lr",
          "lr",
          "lr",
          "lr",
          "lr",
          "lr",
          "lr",
          "lr",
          "lr",
          "lr",
          "lr",
          "lr",
          "lr",
          "lr",
          "lr",
          "lr",
          "lr",
          "lr",
          "lr",
          "lr",
          "lr",
          "lr",
          "lr",
          "lr",
          "lr"
         ],
         "x0": " ",
         "xaxis": "x",
         "y": [
          1.6709826204110212,
          1.6304497925540093,
          1.5928227967074062,
          1.4171124941176387,
          1.7723498041169798,
          1.7132114841313402,
          1.4902109719071897,
          1.4493167613858962,
          1.6423263763168459,
          1.7194505441703507,
          1.7881991742628225,
          1.43178905941186,
          1.626191100780357,
          1.585460564693072,
          1.511422590096491,
          1.6918963360125705,
          1.6349157269856989,
          1.6411729275413522,
          1.743675343323231,
          1.4458657431760216,
          1.5041293829391893,
          1.5062362417194302,
          1.6425055302328713,
          1.6148627234858646,
          1.5767693652503845,
          1.8769319141115157,
          1.5522992601710497,
          1.6437171119606155,
          1.5831211052324534,
          1.5834343326958993
         ],
         "y0": " ",
         "yaxis": "y"
        },
        {
         "alignmentgroup": "True",
         "boxpoints": "all",
         "hovertemplate": "Machine Learning Model=%{x}<br>RMS Error=%{y}<extra></extra>",
         "legendgroup": "Ridge",
         "marker": {
          "color": "#EF553B"
         },
         "name": "Ridge",
         "notched": false,
         "offsetgroup": "Ridge",
         "orientation": "v",
         "showlegend": true,
         "type": "box",
         "x": [
          "Ridge",
          "Ridge",
          "Ridge",
          "Ridge",
          "Ridge",
          "Ridge",
          "Ridge",
          "Ridge",
          "Ridge",
          "Ridge",
          "Ridge",
          "Ridge",
          "Ridge",
          "Ridge",
          "Ridge",
          "Ridge",
          "Ridge",
          "Ridge",
          "Ridge",
          "Ridge",
          "Ridge",
          "Ridge",
          "Ridge",
          "Ridge",
          "Ridge",
          "Ridge",
          "Ridge",
          "Ridge",
          "Ridge",
          "Ridge"
         ],
         "x0": " ",
         "xaxis": "x",
         "y": [
          1.671002600414617,
          1.630467040607774,
          1.59284443571683,
          1.4171178868527432,
          1.7723426636297401,
          1.713213649488717,
          1.4902140669112778,
          1.449317677551596,
          1.6423441774559158,
          1.7194527087328313,
          1.7882057185269271,
          1.431797884039166,
          1.6262091740088358,
          1.585460991867355,
          1.5114197207204896,
          1.6918982863846614,
          1.6349320805709913,
          1.6411855488679974,
          1.7436774328240563,
          1.445873126993595,
          1.5041365717806292,
          1.506259023357428,
          1.6425239798530848,
          1.6148681236056177,
          1.576756163266336,
          1.8769451056329922,
          1.552298941591285,
          1.6437479513129685,
          1.5831123286621587,
          1.5834388840518603
         ],
         "y0": " ",
         "yaxis": "y"
        },
        {
         "alignmentgroup": "True",
         "boxpoints": "all",
         "hovertemplate": "Machine Learning Model=%{x}<br>RMS Error=%{y}<extra></extra>",
         "legendgroup": "Lasso",
         "marker": {
          "color": "#00cc96"
         },
         "name": "Lasso",
         "notched": false,
         "offsetgroup": "Lasso",
         "orientation": "v",
         "showlegend": true,
         "type": "box",
         "x": [
          "Lasso",
          "Lasso",
          "Lasso",
          "Lasso",
          "Lasso",
          "Lasso",
          "Lasso",
          "Lasso",
          "Lasso",
          "Lasso",
          "Lasso",
          "Lasso",
          "Lasso",
          "Lasso",
          "Lasso",
          "Lasso",
          "Lasso",
          "Lasso",
          "Lasso",
          "Lasso",
          "Lasso",
          "Lasso",
          "Lasso",
          "Lasso",
          "Lasso",
          "Lasso",
          "Lasso",
          "Lasso",
          "Lasso",
          "Lasso"
         ],
         "x0": " ",
         "xaxis": "x",
         "y": [
          1.6906614935683155,
          1.6642762896537935,
          1.6205516218819112,
          1.4060423527992054,
          1.7806593144142797,
          1.7302446683345492,
          1.4724978900872636,
          1.4597133999696508,
          1.6458073777173978,
          1.7256681236819764,
          1.8004142043174716,
          1.409414156687961,
          1.6476770116053083,
          1.5724246634294072,
          1.4980954574613032,
          1.7024170350618077,
          1.6758603188528545,
          1.6798316931441486,
          1.767995822372138,
          1.4452050262419531,
          1.4936409461361813,
          1.510433452492259,
          1.6549532244441656,
          1.62109361640603,
          1.563921560380496,
          1.8838385311987578,
          1.5533430163561108,
          1.6876731292328768,
          1.6075655826269748,
          1.5947208670040234
         ],
         "y0": " ",
         "yaxis": "y"
        },
        {
         "alignmentgroup": "True",
         "boxpoints": "all",
         "hovertemplate": "Machine Learning Model=%{x}<br>RMS Error=%{y}<extra></extra>",
         "legendgroup": "Tree",
         "marker": {
          "color": "#ab63fa"
         },
         "name": "Tree",
         "notched": false,
         "offsetgroup": "Tree",
         "orientation": "v",
         "showlegend": true,
         "type": "box",
         "x": [
          "Tree",
          "Tree",
          "Tree",
          "Tree",
          "Tree",
          "Tree",
          "Tree",
          "Tree",
          "Tree",
          "Tree",
          "Tree",
          "Tree",
          "Tree",
          "Tree",
          "Tree",
          "Tree",
          "Tree",
          "Tree",
          "Tree",
          "Tree",
          "Tree",
          "Tree",
          "Tree",
          "Tree",
          "Tree",
          "Tree",
          "Tree",
          "Tree",
          "Tree",
          "Tree"
         ],
         "x0": " ",
         "xaxis": "x",
         "y": [
          0.41150442477876104,
          0.5132743362831859,
          0.3672566371681416,
          0.2743362831858407,
          0.672566371681416,
          0.48444444444444446,
          0.48444444444444446,
          0.4177777777777778,
          0.40444444444444444,
          0.4222222222222222,
          0.3495575221238938,
          0.5575221238938053,
          0.4911504424778761,
          0.5796460176991151,
          0.4778761061946903,
          0.5466666666666666,
          0.3688888888888889,
          0.6355555555555555,
          0.52,
          0.36,
          0.504424778761062,
          0.5,
          0.41150442477876104,
          0.40707964601769914,
          0.6769911504424779,
          0.37777777777777777,
          0.3333333333333333,
          0.4666666666666667,
          0.48,
          0.5155555555555555
         ],
         "y0": " ",
         "yaxis": "y"
        },
        {
         "alignmentgroup": "True",
         "boxpoints": "all",
         "hovertemplate": "Machine Learning Model=%{x}<br>RMS Error=%{y}<extra></extra>",
         "legendgroup": "Random Forest",
         "marker": {
          "color": "#FFA15A"
         },
         "name": "Random Forest",
         "notched": false,
         "offsetgroup": "Random Forest",
         "orientation": "v",
         "showlegend": true,
         "type": "box",
         "x": [
          "Random Forest",
          "Random Forest",
          "Random Forest",
          "Random Forest",
          "Random Forest",
          "Random Forest",
          "Random Forest",
          "Random Forest",
          "Random Forest",
          "Random Forest",
          "Random Forest",
          "Random Forest",
          "Random Forest",
          "Random Forest",
          "Random Forest",
          "Random Forest",
          "Random Forest",
          "Random Forest",
          "Random Forest",
          "Random Forest",
          "Random Forest",
          "Random Forest",
          "Random Forest",
          "Random Forest",
          "Random Forest",
          "Random Forest",
          "Random Forest",
          "Random Forest",
          "Random Forest",
          "Random Forest"
         ],
         "x0": " ",
         "xaxis": "x",
         "y": [
          0.43951327433628323,
          0.5903982300884955,
          0.43101769911504423,
          0.36615044247787604,
          0.54929203539823,
          0.605511111111111,
          0.41048888888888885,
          0.48968888888888884,
          0.4923111111111111,
          0.47853333333333337,
          0.437433628318584,
          0.5557964601769912,
          0.49999999999999994,
          0.5095132743362831,
          0.547654867256637,
          0.5459111111111111,
          0.42791111111111113,
          0.5351555555555555,
          0.4624,
          0.41351111111111105,
          0.465,
          0.43995575221238936,
          0.43477876106194685,
          0.4730530973451327,
          0.5718141592920354,
          0.4958666666666666,
          0.47991111111111107,
          0.4533777777777777,
          0.4830222222222222,
          0.4657333333333333
         ],
         "y0": " ",
         "yaxis": "y"
        },
        {
         "alignmentgroup": "True",
         "boxpoints": "all",
         "hovertemplate": "Machine Learning Model=%{x}<br>RMS Error=%{y}<extra></extra>",
         "legendgroup": "GBM",
         "marker": {
          "color": "#19d3f3"
         },
         "name": "GBM",
         "notched": false,
         "offsetgroup": "GBM",
         "orientation": "v",
         "showlegend": true,
         "type": "box",
         "x": [
          "GBM",
          "GBM",
          "GBM",
          "GBM",
          "GBM",
          "GBM",
          "GBM",
          "GBM",
          "GBM",
          "GBM",
          "GBM",
          "GBM",
          "GBM",
          "GBM",
          "GBM",
          "GBM",
          "GBM",
          "GBM",
          "GBM",
          "GBM",
          "GBM",
          "GBM",
          "GBM",
          "GBM",
          "GBM",
          "GBM",
          "GBM",
          "GBM",
          "GBM",
          "GBM"
         ],
         "x0": " ",
         "xaxis": "x",
         "y": [
          0.9041940317089088,
          0.9636138341717629,
          0.8439193951691515,
          0.824797633255913,
          0.9743943522387819,
          1.1274448227325369,
          0.8682808622580502,
          0.8913974477786997,
          0.9510287685361735,
          0.9062249587513399,
          0.9206436361022547,
          1.0099100043195304,
          0.8725989154023269,
          0.9673265233509893,
          0.9212868046755135,
          0.9746158594607397,
          0.8975219426333411,
          0.976344651881953,
          0.9639065914323813,
          0.8826800907253655,
          0.8967271584390495,
          0.9241700308833117,
          0.8916292078284446,
          0.9130072606267203,
          0.9539041602526904,
          1.0573209457683919,
          0.9687492867752963,
          0.8717538244441614,
          0.9262396776034952,
          0.9077761654815653
         ],
         "y0": " ",
         "yaxis": "y"
        }
       ],
       "layout": {
        "boxmode": "overlay",
        "legend": {
         "title": {
          "text": "Machine Learning Model"
         },
         "tracegroupgap": 0
        },
        "template": {
         "data": {
          "bar": [
           {
            "error_x": {
             "color": "#2a3f5f"
            },
            "error_y": {
             "color": "#2a3f5f"
            },
            "marker": {
             "line": {
              "color": "#E5ECF6",
              "width": 0.5
             },
             "pattern": {
              "fillmode": "overlay",
              "size": 10,
              "solidity": 0.2
             }
            },
            "type": "bar"
           }
          ],
          "barpolar": [
           {
            "marker": {
             "line": {
              "color": "#E5ECF6",
              "width": 0.5
             },
             "pattern": {
              "fillmode": "overlay",
              "size": 10,
              "solidity": 0.2
             }
            },
            "type": "barpolar"
           }
          ],
          "carpet": [
           {
            "aaxis": {
             "endlinecolor": "#2a3f5f",
             "gridcolor": "white",
             "linecolor": "white",
             "minorgridcolor": "white",
             "startlinecolor": "#2a3f5f"
            },
            "baxis": {
             "endlinecolor": "#2a3f5f",
             "gridcolor": "white",
             "linecolor": "white",
             "minorgridcolor": "white",
             "startlinecolor": "#2a3f5f"
            },
            "type": "carpet"
           }
          ],
          "choropleth": [
           {
            "colorbar": {
             "outlinewidth": 0,
             "ticks": ""
            },
            "type": "choropleth"
           }
          ],
          "contour": [
           {
            "colorbar": {
             "outlinewidth": 0,
             "ticks": ""
            },
            "colorscale": [
             [
              0,
              "#0d0887"
             ],
             [
              0.1111111111111111,
              "#46039f"
             ],
             [
              0.2222222222222222,
              "#7201a8"
             ],
             [
              0.3333333333333333,
              "#9c179e"
             ],
             [
              0.4444444444444444,
              "#bd3786"
             ],
             [
              0.5555555555555556,
              "#d8576b"
             ],
             [
              0.6666666666666666,
              "#ed7953"
             ],
             [
              0.7777777777777778,
              "#fb9f3a"
             ],
             [
              0.8888888888888888,
              "#fdca26"
             ],
             [
              1,
              "#f0f921"
             ]
            ],
            "type": "contour"
           }
          ],
          "contourcarpet": [
           {
            "colorbar": {
             "outlinewidth": 0,
             "ticks": ""
            },
            "type": "contourcarpet"
           }
          ],
          "heatmap": [
           {
            "colorbar": {
             "outlinewidth": 0,
             "ticks": ""
            },
            "colorscale": [
             [
              0,
              "#0d0887"
             ],
             [
              0.1111111111111111,
              "#46039f"
             ],
             [
              0.2222222222222222,
              "#7201a8"
             ],
             [
              0.3333333333333333,
              "#9c179e"
             ],
             [
              0.4444444444444444,
              "#bd3786"
             ],
             [
              0.5555555555555556,
              "#d8576b"
             ],
             [
              0.6666666666666666,
              "#ed7953"
             ],
             [
              0.7777777777777778,
              "#fb9f3a"
             ],
             [
              0.8888888888888888,
              "#fdca26"
             ],
             [
              1,
              "#f0f921"
             ]
            ],
            "type": "heatmap"
           }
          ],
          "heatmapgl": [
           {
            "colorbar": {
             "outlinewidth": 0,
             "ticks": ""
            },
            "colorscale": [
             [
              0,
              "#0d0887"
             ],
             [
              0.1111111111111111,
              "#46039f"
             ],
             [
              0.2222222222222222,
              "#7201a8"
             ],
             [
              0.3333333333333333,
              "#9c179e"
             ],
             [
              0.4444444444444444,
              "#bd3786"
             ],
             [
              0.5555555555555556,
              "#d8576b"
             ],
             [
              0.6666666666666666,
              "#ed7953"
             ],
             [
              0.7777777777777778,
              "#fb9f3a"
             ],
             [
              0.8888888888888888,
              "#fdca26"
             ],
             [
              1,
              "#f0f921"
             ]
            ],
            "type": "heatmapgl"
           }
          ],
          "histogram": [
           {
            "marker": {
             "pattern": {
              "fillmode": "overlay",
              "size": 10,
              "solidity": 0.2
             }
            },
            "type": "histogram"
           }
          ],
          "histogram2d": [
           {
            "colorbar": {
             "outlinewidth": 0,
             "ticks": ""
            },
            "colorscale": [
             [
              0,
              "#0d0887"
             ],
             [
              0.1111111111111111,
              "#46039f"
             ],
             [
              0.2222222222222222,
              "#7201a8"
             ],
             [
              0.3333333333333333,
              "#9c179e"
             ],
             [
              0.4444444444444444,
              "#bd3786"
             ],
             [
              0.5555555555555556,
              "#d8576b"
             ],
             [
              0.6666666666666666,
              "#ed7953"
             ],
             [
              0.7777777777777778,
              "#fb9f3a"
             ],
             [
              0.8888888888888888,
              "#fdca26"
             ],
             [
              1,
              "#f0f921"
             ]
            ],
            "type": "histogram2d"
           }
          ],
          "histogram2dcontour": [
           {
            "colorbar": {
             "outlinewidth": 0,
             "ticks": ""
            },
            "colorscale": [
             [
              0,
              "#0d0887"
             ],
             [
              0.1111111111111111,
              "#46039f"
             ],
             [
              0.2222222222222222,
              "#7201a8"
             ],
             [
              0.3333333333333333,
              "#9c179e"
             ],
             [
              0.4444444444444444,
              "#bd3786"
             ],
             [
              0.5555555555555556,
              "#d8576b"
             ],
             [
              0.6666666666666666,
              "#ed7953"
             ],
             [
              0.7777777777777778,
              "#fb9f3a"
             ],
             [
              0.8888888888888888,
              "#fdca26"
             ],
             [
              1,
              "#f0f921"
             ]
            ],
            "type": "histogram2dcontour"
           }
          ],
          "mesh3d": [
           {
            "colorbar": {
             "outlinewidth": 0,
             "ticks": ""
            },
            "type": "mesh3d"
           }
          ],
          "parcoords": [
           {
            "line": {
             "colorbar": {
              "outlinewidth": 0,
              "ticks": ""
             }
            },
            "type": "parcoords"
           }
          ],
          "pie": [
           {
            "automargin": true,
            "type": "pie"
           }
          ],
          "scatter": [
           {
            "fillpattern": {
             "fillmode": "overlay",
             "size": 10,
             "solidity": 0.2
            },
            "type": "scatter"
           }
          ],
          "scatter3d": [
           {
            "line": {
             "colorbar": {
              "outlinewidth": 0,
              "ticks": ""
             }
            },
            "marker": {
             "colorbar": {
              "outlinewidth": 0,
              "ticks": ""
             }
            },
            "type": "scatter3d"
           }
          ],
          "scattercarpet": [
           {
            "marker": {
             "colorbar": {
              "outlinewidth": 0,
              "ticks": ""
             }
            },
            "type": "scattercarpet"
           }
          ],
          "scattergeo": [
           {
            "marker": {
             "colorbar": {
              "outlinewidth": 0,
              "ticks": ""
             }
            },
            "type": "scattergeo"
           }
          ],
          "scattergl": [
           {
            "marker": {
             "colorbar": {
              "outlinewidth": 0,
              "ticks": ""
             }
            },
            "type": "scattergl"
           }
          ],
          "scattermapbox": [
           {
            "marker": {
             "colorbar": {
              "outlinewidth": 0,
              "ticks": ""
             }
            },
            "type": "scattermapbox"
           }
          ],
          "scatterpolar": [
           {
            "marker": {
             "colorbar": {
              "outlinewidth": 0,
              "ticks": ""
             }
            },
            "type": "scatterpolar"
           }
          ],
          "scatterpolargl": [
           {
            "marker": {
             "colorbar": {
              "outlinewidth": 0,
              "ticks": ""
             }
            },
            "type": "scatterpolargl"
           }
          ],
          "scatterternary": [
           {
            "marker": {
             "colorbar": {
              "outlinewidth": 0,
              "ticks": ""
             }
            },
            "type": "scatterternary"
           }
          ],
          "surface": [
           {
            "colorbar": {
             "outlinewidth": 0,
             "ticks": ""
            },
            "colorscale": [
             [
              0,
              "#0d0887"
             ],
             [
              0.1111111111111111,
              "#46039f"
             ],
             [
              0.2222222222222222,
              "#7201a8"
             ],
             [
              0.3333333333333333,
              "#9c179e"
             ],
             [
              0.4444444444444444,
              "#bd3786"
             ],
             [
              0.5555555555555556,
              "#d8576b"
             ],
             [
              0.6666666666666666,
              "#ed7953"
             ],
             [
              0.7777777777777778,
              "#fb9f3a"
             ],
             [
              0.8888888888888888,
              "#fdca26"
             ],
             [
              1,
              "#f0f921"
             ]
            ],
            "type": "surface"
           }
          ],
          "table": [
           {
            "cells": {
             "fill": {
              "color": "#EBF0F8"
             },
             "line": {
              "color": "white"
             }
            },
            "header": {
             "fill": {
              "color": "#C8D4E3"
             },
             "line": {
              "color": "white"
             }
            },
            "type": "table"
           }
          ]
         },
         "layout": {
          "annotationdefaults": {
           "arrowcolor": "#2a3f5f",
           "arrowhead": 0,
           "arrowwidth": 1
          },
          "autotypenumbers": "strict",
          "coloraxis": {
           "colorbar": {
            "outlinewidth": 0,
            "ticks": ""
           }
          },
          "colorscale": {
           "diverging": [
            [
             0,
             "#8e0152"
            ],
            [
             0.1,
             "#c51b7d"
            ],
            [
             0.2,
             "#de77ae"
            ],
            [
             0.3,
             "#f1b6da"
            ],
            [
             0.4,
             "#fde0ef"
            ],
            [
             0.5,
             "#f7f7f7"
            ],
            [
             0.6,
             "#e6f5d0"
            ],
            [
             0.7,
             "#b8e186"
            ],
            [
             0.8,
             "#7fbc41"
            ],
            [
             0.9,
             "#4d9221"
            ],
            [
             1,
             "#276419"
            ]
           ],
           "sequential": [
            [
             0,
             "#0d0887"
            ],
            [
             0.1111111111111111,
             "#46039f"
            ],
            [
             0.2222222222222222,
             "#7201a8"
            ],
            [
             0.3333333333333333,
             "#9c179e"
            ],
            [
             0.4444444444444444,
             "#bd3786"
            ],
            [
             0.5555555555555556,
             "#d8576b"
            ],
            [
             0.6666666666666666,
             "#ed7953"
            ],
            [
             0.7777777777777778,
             "#fb9f3a"
            ],
            [
             0.8888888888888888,
             "#fdca26"
            ],
            [
             1,
             "#f0f921"
            ]
           ],
           "sequentialminus": [
            [
             0,
             "#0d0887"
            ],
            [
             0.1111111111111111,
             "#46039f"
            ],
            [
             0.2222222222222222,
             "#7201a8"
            ],
            [
             0.3333333333333333,
             "#9c179e"
            ],
            [
             0.4444444444444444,
             "#bd3786"
            ],
            [
             0.5555555555555556,
             "#d8576b"
            ],
            [
             0.6666666666666666,
             "#ed7953"
            ],
            [
             0.7777777777777778,
             "#fb9f3a"
            ],
            [
             0.8888888888888888,
             "#fdca26"
            ],
            [
             1,
             "#f0f921"
            ]
           ]
          },
          "colorway": [
           "#636efa",
           "#EF553B",
           "#00cc96",
           "#ab63fa",
           "#FFA15A",
           "#19d3f3",
           "#FF6692",
           "#B6E880",
           "#FF97FF",
           "#FECB52"
          ],
          "font": {
           "color": "#2a3f5f"
          },
          "geo": {
           "bgcolor": "white",
           "lakecolor": "white",
           "landcolor": "#E5ECF6",
           "showlakes": true,
           "showland": true,
           "subunitcolor": "white"
          },
          "hoverlabel": {
           "align": "left"
          },
          "hovermode": "closest",
          "mapbox": {
           "style": "light"
          },
          "paper_bgcolor": "white",
          "plot_bgcolor": "#E5ECF6",
          "polar": {
           "angularaxis": {
            "gridcolor": "white",
            "linecolor": "white",
            "ticks": ""
           },
           "bgcolor": "#E5ECF6",
           "radialaxis": {
            "gridcolor": "white",
            "linecolor": "white",
            "ticks": ""
           }
          },
          "scene": {
           "xaxis": {
            "backgroundcolor": "#E5ECF6",
            "gridcolor": "white",
            "gridwidth": 2,
            "linecolor": "white",
            "showbackground": true,
            "ticks": "",
            "zerolinecolor": "white"
           },
           "yaxis": {
            "backgroundcolor": "#E5ECF6",
            "gridcolor": "white",
            "gridwidth": 2,
            "linecolor": "white",
            "showbackground": true,
            "ticks": "",
            "zerolinecolor": "white"
           },
           "zaxis": {
            "backgroundcolor": "#E5ECF6",
            "gridcolor": "white",
            "gridwidth": 2,
            "linecolor": "white",
            "showbackground": true,
            "ticks": "",
            "zerolinecolor": "white"
           }
          },
          "shapedefaults": {
           "line": {
            "color": "#2a3f5f"
           }
          },
          "ternary": {
           "aaxis": {
            "gridcolor": "white",
            "linecolor": "white",
            "ticks": ""
           },
           "baxis": {
            "gridcolor": "white",
            "linecolor": "white",
            "ticks": ""
           },
           "bgcolor": "#E5ECF6",
           "caxis": {
            "gridcolor": "white",
            "linecolor": "white",
            "ticks": ""
           }
          },
          "title": {
           "x": 0.05
          },
          "xaxis": {
           "automargin": true,
           "gridcolor": "white",
           "linecolor": "white",
           "ticks": "",
           "title": {
            "standoff": 15
           },
           "zerolinecolor": "white",
           "zerolinewidth": 2
          },
          "yaxis": {
           "automargin": true,
           "gridcolor": "white",
           "linecolor": "white",
           "ticks": "",
           "title": {
            "standoff": 15
           },
           "zerolinecolor": "white",
           "zerolinewidth": 2
          }
         }
        },
        "title": {
         "text": "Model Performance"
        },
        "xaxis": {
         "anchor": "y",
         "categoryarray": [
          "lr",
          "Ridge",
          "Lasso",
          "Tree",
          "Random Forest",
          "GBM"
         ],
         "categoryorder": "array",
         "domain": [
          0,
          1
         ],
         "title": {
          "text": "Machine Learning Model"
         }
        },
        "yaxis": {
         "anchor": "x",
         "domain": [
          0,
          1
         ],
         "title": {
          "text": "RMS Error"
         }
        }
       }
      }
     },
     "metadata": {},
     "output_type": "display_data"
    }
   ],
   "source": [
    "import plotly.express as px\n",
    "from plotly.subplots import make_subplots\n",
    "import plotly.graph_objs as go\n",
    "\n",
    "fig = px.box(regressmod, x=\"variable\", y=\"value\",color=\"variable\",points='all',\n",
    "labels={\"variable\": \"Machine Learning Model\",\n",
    "        \"value\": \"RMS Error\"\n",
    "        },title=\"Model Performance\")\n",
    "fig.show()"
   ]
  },
  {
   "cell_type": "code",
   "execution_count": 101,
   "id": "80e96200",
   "metadata": {},
   "outputs": [
    {
     "name": "stdout",
     "output_type": "stream",
     "text": [
      ">Tree 0.900 (0.188)\n",
      ">Random Forest 0.846 (0.153)\n",
      ">Stacked Model 1.014 (0.138)\n"
     ]
    }
   ],
   "source": [
    "import pandas as pd\n",
    "import numpy as np\n",
    "import matplotlib.pyplot as plt\n",
    "import seaborn as sns\n",
    "from sklearn.datasets import load_boston\n",
    "import warnings\n",
    "from sklearn.model_selection import cross_val_score, RepeatedKFold\n",
    "from sklearn.linear_model import Ridge, Lasso, LinearRegression\n",
    "from sklearn.tree import DecisionTreeRegressor\n",
    "from sklearn.ensemble import GradientBoostingRegressor, BaggingRegressor, RandomForestRegressor, StackingRegressor\n",
    "from xgboost import XGBRegressor\n",
    "from lightgbm import LGBMRegressor\n",
    "\n",
    "def get_stacking():\n",
    "\t# define the base models\n",
    "  level0 = list()\n",
    "  level0.append(('Tree', DecisionTreeRegressor()))\n",
    "  level0.append(('RF', RandomForestRegressor()))\n",
    "  #level0.append(('Bagging', BaggingRegressor()))\n",
    "  level0.append(('GBM', GradientBoostingRegressor()))\n",
    "\t# define meta learner model\n",
    "  level1 = LGBMRegressor()\n",
    "\t# define the stacking ensemble\n",
    "  model = StackingRegressor(estimators=level0, final_estimator=level1, cv=5)\n",
    "  return model\n",
    "\n",
    "def base_models():\n",
    "  models = dict()\n",
    "  models[\"Tree\"] = DecisionTreeRegressor()\n",
    "  models[\"Random Forest\"] = RandomForestRegressor()\n",
    "  #models[\"Bagging\"] = BaggingRegressor()\n",
    "#   models[\"XGB\"] = XGBRegressor()\n",
    "  models[\"Stacked Model\"] = get_stacking()\n",
    "  return models\n",
    "\n",
    "# Function to evaluate the list of models\n",
    "def eval_models(model):\n",
    "  cv = RepeatedKFold(n_splits=10, n_repeats=3, random_state=1)\n",
    "  scores = -cross_val_score(model, X_test, Y_test, scoring='neg_mean_absolute_error', cv=cv, n_jobs=-1, \n",
    "                            error_score='raise')\n",
    "  return scores\n",
    "\n",
    "models = base_models()\n",
    "# evaluate the models and store results\n",
    "results, names = list(), list() \n",
    "\n",
    "for name, model in models.items():\n",
    "  scores = eval_models(model)\n",
    "  results.append(scores)\n",
    "  names.append(name)\n",
    "  print('>%s %.3f (%.3f)' % (name, scores.mean(), scores.std()))"
   ]
  },
  {
   "cell_type": "code",
   "execution_count": 56,
   "id": "8f0d9f51",
   "metadata": {},
   "outputs": [
    {
     "name": "stdout",
     "output_type": "stream",
     "text": [
      "Test score: 90.54 %\n"
     ]
    },
    {
     "data": {
      "text/plain": [
       "Text(0.5, 1.0, 'Predicted vs Actual')"
      ]
     },
     "execution_count": 56,
     "metadata": {},
     "output_type": "execute_result"
    },
    {
     "data": {
      "image/png": "[encoded data removed]",
      "text/plain": [
       "<Figure size 432x288 with 1 Axes>"
      ]
     },
     "metadata": {
      "needs_background": "light"
     },
     "output_type": "display_data"
    }
   ],
   "source": [
    "import pickle\n",
    "\n",
    "level0 = list()\n",
    "level0.append(('Tree', DecisionTreeRegressor()))\n",
    "level0.append(('RF', RandomForestRegressor()))\n",
    "level0.append(('GBM', GradientBoostingRegressor()))\n",
    "#level0.append(('Bagging', BaggingRegressor()))\n",
    "\n",
    "level1 = LGBMRegressor()\n",
    "model = StackingRegressor(estimators=level0, final_estimator=level1, cv=5)\n",
    "model.fit(X_train, Y_train)\n",
    "\n",
    "# Save to file in the current working directory\n",
    "pkl_filename = \"AssignmentPickle.pkl\"\n",
    "with open(pkl_filename, 'wb') as file:\n",
    "    pickle.dump(model, file)\n",
    "\n",
    "# Load from file\n",
    "with open(pkl_filename, 'rb') as file:\n",
    "    pickle_model = pickle.load(file)\n",
    "\n",
    "\n",
    "score = pickle_model.score(X_test, Y_test)\n",
    "print(\"Test score: {0:.2f} %\".format(100 * score))\n",
    "Y_predict = pickle_model.predict(X_test)\n",
    "\n",
    "\n",
    "import matplotlib.pyplot as plt\n",
    "import seaborn as sns\n",
    "predictions = pd.DataFrame(Y_predict, columns=['predictions'])\n",
    "predictions['actual'] = Y_test\n",
    "plt.scatter(x = Y_test, y = Y_predict, color='#336699',alpha=0.6)\n",
    "plt.xlabel('Actual')\n",
    "plt.ylabel('Predicted')\n",
    "plt.title('Predicted vs Actual', fontsize=15, color='#336699',loc='center')"
   ]
  },
  {
   "cell_type": "code",
   "execution_count": 68,
   "id": "aaefc470",
   "metadata": {},
   "outputs": [
    {
     "data": {
      "text/html": [
       "<div>\n",
       "<style scoped>\n",
       "    .dataframe tbody tr th:only-of-type {\n",
       "        vertical-align: middle;\n",
       "    }\n",
       "\n",
       "    .dataframe tbody tr th {\n",
       "        vertical-align: top;\n",
       "    }\n",
       "\n",
       "    .dataframe thead th {\n",
       "        text-align: right;\n",
       "    }\n",
       "</style>\n",
       "<table border=\"1\" class=\"dataframe\">\n",
       "  <thead>\n",
       "    <tr style=\"text-align: right;\">\n",
       "      <th></th>\n",
       "      <th>predictions</th>\n",
       "      <th>actual</th>\n",
       "    </tr>\n",
       "  </thead>\n",
       "  <tbody>\n",
       "    <tr>\n",
       "      <th>0</th>\n",
       "      <td>7.1689</td>\n",
       "      <td>NaN</td>\n",
       "    </tr>\n",
       "    <tr>\n",
       "      <th>1</th>\n",
       "      <td>7.2559</td>\n",
       "      <td>8.0000</td>\n",
       "    </tr>\n",
       "    <tr>\n",
       "      <th>2</th>\n",
       "      <td>6.4686</td>\n",
       "      <td>NaN</td>\n",
       "    </tr>\n",
       "    <tr>\n",
       "      <th>3</th>\n",
       "      <td>8.7142</td>\n",
       "      <td>NaN</td>\n",
       "    </tr>\n",
       "    <tr>\n",
       "      <th>4</th>\n",
       "      <td>7.3933</td>\n",
       "      <td>8.0000</td>\n",
       "    </tr>\n",
       "  </tbody>\n",
       "</table>\n",
       "</div>"
      ],
      "text/plain": [
       "   predictions  actual\n",
       "0       7.1689     NaN\n",
       "1       7.2559  8.0000\n",
       "2       6.4686     NaN\n",
       "3       8.7142     NaN\n",
       "4       7.3933  8.0000"
      ]
     },
     "execution_count": 68,
     "metadata": {},
     "output_type": "execute_result"
    }
   ],
   "source": [
    "#predictions.head()"
   ]
  },
  {
   "cell_type": "code",
   "execution_count": 57,
   "id": "c7f27208",
   "metadata": {},
   "outputs": [
    {
     "data": {
      "text/html": [
       "<div>\n",
       "<style scoped>\n",
       "    .dataframe tbody tr th:only-of-type {\n",
       "        vertical-align: middle;\n",
       "    }\n",
       "\n",
       "    .dataframe tbody tr th {\n",
       "        vertical-align: top;\n",
       "    }\n",
       "\n",
       "    .dataframe thead th {\n",
       "        text-align: right;\n",
       "    }\n",
       "</style>\n",
       "<table border=\"1\" class=\"dataframe\">\n",
       "  <thead>\n",
       "    <tr style=\"text-align: right;\">\n",
       "      <th></th>\n",
       "      <th>view_count</th>\n",
       "      <th>likes</th>\n",
       "      <th>dislikes</th>\n",
       "      <th>comment_count</th>\n",
       "      <th>published_year</th>\n",
       "      <th>published_month</th>\n",
       "      <th>published_day</th>\n",
       "      <th>published_hour</th>\n",
       "      <th>published_minute</th>\n",
       "      <th>published_week</th>\n",
       "    </tr>\n",
       "  </thead>\n",
       "  <tbody>\n",
       "    <tr>\n",
       "      <th>3185</th>\n",
       "      <td>12688231</td>\n",
       "      <td>612033</td>\n",
       "      <td>10545</td>\n",
       "      <td>30658</td>\n",
       "      <td>2021</td>\n",
       "      <td>11</td>\n",
       "      <td>7</td>\n",
       "      <td>19</td>\n",
       "      <td>0</td>\n",
       "      <td>44</td>\n",
       "    </tr>\n",
       "    <tr>\n",
       "      <th>2428</th>\n",
       "      <td>37315173</td>\n",
       "      <td>1992487</td>\n",
       "      <td>0</td>\n",
       "      <td>1038569</td>\n",
       "      <td>2022</td>\n",
       "      <td>8</td>\n",
       "      <td>26</td>\n",
       "      <td>4</td>\n",
       "      <td>0</td>\n",
       "      <td>34</td>\n",
       "    </tr>\n",
       "    <tr>\n",
       "      <th>1695</th>\n",
       "      <td>14448653</td>\n",
       "      <td>818603</td>\n",
       "      <td>13872</td>\n",
       "      <td>29402</td>\n",
       "      <td>2020</td>\n",
       "      <td>12</td>\n",
       "      <td>11</td>\n",
       "      <td>20</td>\n",
       "      <td>0</td>\n",
       "      <td>50</td>\n",
       "    </tr>\n",
       "    <tr>\n",
       "      <th>2031</th>\n",
       "      <td>9920539</td>\n",
       "      <td>465012</td>\n",
       "      <td>4606</td>\n",
       "      <td>18676</td>\n",
       "      <td>2021</td>\n",
       "      <td>2</td>\n",
       "      <td>8</td>\n",
       "      <td>23</td>\n",
       "      <td>0</td>\n",
       "      <td>6</td>\n",
       "    </tr>\n",
       "    <tr>\n",
       "      <th>1573</th>\n",
       "      <td>11325332</td>\n",
       "      <td>612315</td>\n",
       "      <td>8519</td>\n",
       "      <td>80261</td>\n",
       "      <td>2021</td>\n",
       "      <td>9</td>\n",
       "      <td>11</td>\n",
       "      <td>18</td>\n",
       "      <td>3</td>\n",
       "      <td>36</td>\n",
       "    </tr>\n",
       "  </tbody>\n",
       "</table>\n",
       "</div>"
      ],
      "text/plain": [
       "      view_count    likes  dislikes  comment_count  published_year  \\\n",
       "3185    12688231   612033     10545          30658            2021   \n",
       "2428    37315173  1992487         0        1038569            2022   \n",
       "1695    14448653   818603     13872          29402            2020   \n",
       "2031     9920539   465012      4606          18676            2021   \n",
       "1573    11325332   612315      8519          80261            2021   \n",
       "\n",
       "      published_month  published_day  published_hour  published_minute  \\\n",
       "3185               11              7              19                 0   \n",
       "2428                8             26               4                 0   \n",
       "1695               12             11              20                 0   \n",
       "2031                2              8              23                 0   \n",
       "1573                9             11              18                 3   \n",
       "\n",
       "      published_week  \n",
       "3185              44  \n",
       "2428              34  \n",
       "1695              50  \n",
       "2031               6  \n",
       "1573              36  "
      ]
     },
     "execution_count": 57,
     "metadata": {},
     "output_type": "execute_result"
    }
   ],
   "source": [
    "X_test.head()"
   ]
  },
  {
   "cell_type": "code",
   "execution_count": 132,
   "id": "318009e8",
   "metadata": {},
   "outputs": [
    {
     "data": {
      "text/html": [
       "<div>\n",
       "<style scoped>\n",
       "    .dataframe tbody tr th:only-of-type {\n",
       "        vertical-align: middle;\n",
       "    }\n",
       "\n",
       "    .dataframe tbody tr th {\n",
       "        vertical-align: top;\n",
       "    }\n",
       "\n",
       "    .dataframe thead th {\n",
       "        text-align: right;\n",
       "    }\n",
       "</style>\n",
       "<table border=\"1\" class=\"dataframe\">\n",
       "  <thead>\n",
       "    <tr style=\"text-align: right;\">\n",
       "      <th></th>\n",
       "      <th>view_count</th>\n",
       "      <th>likes</th>\n",
       "      <th>dislikes</th>\n",
       "      <th>comment_count</th>\n",
       "      <th>trending_day_no</th>\n",
       "      <th>published_year</th>\n",
       "      <th>published_month</th>\n",
       "      <th>published_day</th>\n",
       "      <th>published_hour</th>\n",
       "      <th>published_minute</th>\n",
       "      <th>published_week</th>\n",
       "      <th>predicted_trending_days</th>\n",
       "    </tr>\n",
       "  </thead>\n",
       "  <tbody>\n",
       "    <tr>\n",
       "      <th>3185</th>\n",
       "      <td>12688231</td>\n",
       "      <td>612033</td>\n",
       "      <td>10545</td>\n",
       "      <td>30658</td>\n",
       "      <td>6.0000</td>\n",
       "      <td>2021</td>\n",
       "      <td>11</td>\n",
       "      <td>7</td>\n",
       "      <td>19</td>\n",
       "      <td>0</td>\n",
       "      <td>44</td>\n",
       "      <td>NaN</td>\n",
       "    </tr>\n",
       "    <tr>\n",
       "      <th>2428</th>\n",
       "      <td>37315173</td>\n",
       "      <td>1992487</td>\n",
       "      <td>0</td>\n",
       "      <td>1038569</td>\n",
       "      <td>3.0000</td>\n",
       "      <td>2022</td>\n",
       "      <td>8</td>\n",
       "      <td>26</td>\n",
       "      <td>4</td>\n",
       "      <td>0</td>\n",
       "      <td>34</td>\n",
       "      <td>NaN</td>\n",
       "    </tr>\n",
       "    <tr>\n",
       "      <th>1695</th>\n",
       "      <td>14448653</td>\n",
       "      <td>818603</td>\n",
       "      <td>13872</td>\n",
       "      <td>29402</td>\n",
       "      <td>5.0000</td>\n",
       "      <td>2020</td>\n",
       "      <td>12</td>\n",
       "      <td>11</td>\n",
       "      <td>20</td>\n",
       "      <td>0</td>\n",
       "      <td>50</td>\n",
       "      <td>NaN</td>\n",
       "    </tr>\n",
       "    <tr>\n",
       "      <th>2031</th>\n",
       "      <td>9920539</td>\n",
       "      <td>465012</td>\n",
       "      <td>4606</td>\n",
       "      <td>18676</td>\n",
       "      <td>9.0000</td>\n",
       "      <td>2021</td>\n",
       "      <td>2</td>\n",
       "      <td>8</td>\n",
       "      <td>23</td>\n",
       "      <td>0</td>\n",
       "      <td>6</td>\n",
       "      <td>NaN</td>\n",
       "    </tr>\n",
       "    <tr>\n",
       "      <th>1573</th>\n",
       "      <td>11325332</td>\n",
       "      <td>612315</td>\n",
       "      <td>8519</td>\n",
       "      <td>80261</td>\n",
       "      <td>7.0000</td>\n",
       "      <td>2021</td>\n",
       "      <td>9</td>\n",
       "      <td>11</td>\n",
       "      <td>18</td>\n",
       "      <td>3</td>\n",
       "      <td>36</td>\n",
       "      <td>NaN</td>\n",
       "    </tr>\n",
       "  </tbody>\n",
       "</table>\n",
       "</div>"
      ],
      "text/plain": [
       "      view_count    likes  dislikes  comment_count  trending_day_no  \\\n",
       "3185    12688231   612033     10545          30658           6.0000   \n",
       "2428    37315173  1992487         0        1038569           3.0000   \n",
       "1695    14448653   818603     13872          29402           5.0000   \n",
       "2031     9920539   465012      4606          18676           9.0000   \n",
       "1573    11325332   612315      8519          80261           7.0000   \n",
       "\n",
       "      published_year  published_month  published_day  published_hour  \\\n",
       "3185            2021               11              7              19   \n",
       "2428            2022                8             26               4   \n",
       "1695            2020               12             11              20   \n",
       "2031            2021                2              8              23   \n",
       "1573            2021                9             11              18   \n",
       "\n",
       "      published_minute  published_week  predicted_trending_days  \n",
       "3185                 0              44                      NaN  \n",
       "2428                 0              34                      NaN  \n",
       "1695                 0              50                      NaN  \n",
       "2031                 0               6                      NaN  \n",
       "1573                 3              36                      NaN  "
      ]
     },
     "execution_count": 132,
     "metadata": {},
     "output_type": "execute_result"
    }
   ],
   "source": [
    "#X_test['predicted_trending_days'] = predictions.predictions\n",
    "#X_test.head()"
   ]
  },
  {
   "cell_type": "code",
   "execution_count": 134,
   "id": "48b7ef54",
   "metadata": {},
   "outputs": [],
   "source": [
    "#X_test = X_test.dropna()"
   ]
  },
  {
   "cell_type": "code",
   "execution_count": 135,
   "id": "491d6088",
   "metadata": {},
   "outputs": [
    {
     "data": {
      "text/html": [
       "<div>\n",
       "<style scoped>\n",
       "    .dataframe tbody tr th:only-of-type {\n",
       "        vertical-align: middle;\n",
       "    }\n",
       "\n",
       "    .dataframe tbody tr th {\n",
       "        vertical-align: top;\n",
       "    }\n",
       "\n",
       "    .dataframe thead th {\n",
       "        text-align: right;\n",
       "    }\n",
       "</style>\n",
       "<table border=\"1\" class=\"dataframe\">\n",
       "  <thead>\n",
       "    <tr style=\"text-align: right;\">\n",
       "      <th></th>\n",
       "      <th>view_count</th>\n",
       "      <th>likes</th>\n",
       "      <th>dislikes</th>\n",
       "      <th>comment_count</th>\n",
       "      <th>trending_day_no</th>\n",
       "      <th>published_year</th>\n",
       "      <th>published_month</th>\n",
       "      <th>published_day</th>\n",
       "      <th>published_hour</th>\n",
       "      <th>published_minute</th>\n",
       "      <th>published_week</th>\n",
       "      <th>predicted_trending_days</th>\n",
       "    </tr>\n",
       "  </thead>\n",
       "  <tbody>\n",
       "    <tr>\n",
       "      <th>117</th>\n",
       "      <td>22436267</td>\n",
       "      <td>1403040</td>\n",
       "      <td>38157</td>\n",
       "      <td>98946</td>\n",
       "      <td>7.0000</td>\n",
       "      <td>2020</td>\n",
       "      <td>10</td>\n",
       "      <td>18</td>\n",
       "      <td>0</td>\n",
       "      <td>19</td>\n",
       "      <td>42</td>\n",
       "      <td>5.0222</td>\n",
       "    </tr>\n",
       "    <tr>\n",
       "      <th>668</th>\n",
       "      <td>10392035</td>\n",
       "      <td>427837</td>\n",
       "      <td>4738</td>\n",
       "      <td>15923</td>\n",
       "      <td>6.0000</td>\n",
       "      <td>2021</td>\n",
       "      <td>5</td>\n",
       "      <td>31</td>\n",
       "      <td>21</td>\n",
       "      <td>59</td>\n",
       "      <td>22</td>\n",
       "      <td>17.8158</td>\n",
       "    </tr>\n",
       "    <tr>\n",
       "      <th>852</th>\n",
       "      <td>10972479</td>\n",
       "      <td>908536</td>\n",
       "      <td>4767</td>\n",
       "      <td>147974</td>\n",
       "      <td>2.0000</td>\n",
       "      <td>2021</td>\n",
       "      <td>11</td>\n",
       "      <td>30</td>\n",
       "      <td>9</td>\n",
       "      <td>0</td>\n",
       "      <td>48</td>\n",
       "      <td>8.2362</td>\n",
       "    </tr>\n",
       "    <tr>\n",
       "      <th>92</th>\n",
       "      <td>4512187</td>\n",
       "      <td>280556</td>\n",
       "      <td>3873</td>\n",
       "      <td>31148</td>\n",
       "      <td>1.0000</td>\n",
       "      <td>2020</td>\n",
       "      <td>12</td>\n",
       "      <td>28</td>\n",
       "      <td>22</td>\n",
       "      <td>59</td>\n",
       "      <td>53</td>\n",
       "      <td>4.1028</td>\n",
       "    </tr>\n",
       "    <tr>\n",
       "      <th>575</th>\n",
       "      <td>22630086</td>\n",
       "      <td>2941439</td>\n",
       "      <td>24633</td>\n",
       "      <td>117481</td>\n",
       "      <td>6.0000</td>\n",
       "      <td>2020</td>\n",
       "      <td>9</td>\n",
       "      <td>2</td>\n",
       "      <td>10</td>\n",
       "      <td>0</td>\n",
       "      <td>36</td>\n",
       "      <td>5.6658</td>\n",
       "    </tr>\n",
       "  </tbody>\n",
       "</table>\n",
       "</div>"
      ],
      "text/plain": [
       "     view_count    likes  dislikes  comment_count  trending_day_no  \\\n",
       "117    22436267  1403040     38157          98946           7.0000   \n",
       "668    10392035   427837      4738          15923           6.0000   \n",
       "852    10972479   908536      4767         147974           2.0000   \n",
       "92      4512187   280556      3873          31148           1.0000   \n",
       "575    22630086  2941439     24633         117481           6.0000   \n",
       "\n",
       "     published_year  published_month  published_day  published_hour  \\\n",
       "117            2020               10             18               0   \n",
       "668            2021                5             31              21   \n",
       "852            2021               11             30               9   \n",
       "92             2020               12             28              22   \n",
       "575            2020                9              2              10   \n",
       "\n",
       "     published_minute  published_week  predicted_trending_days  \n",
       "117                19              42                   5.0222  \n",
       "668                59              22                  17.8158  \n",
       "852                 0              48                   8.2362  \n",
       "92                 59              53                   4.1028  \n",
       "575                 0              36                   5.6658  "
      ]
     },
     "execution_count": 135,
     "metadata": {},
     "output_type": "execute_result"
    }
   ],
   "source": [
    "#X_test.head()"
   ]
  },
  {
   "cell_type": "code",
   "execution_count": 137,
   "id": "b01ae46c",
   "metadata": {},
   "outputs": [],
   "source": [
    "#cd D:X_test.to_csv('application_data.csv')"
   ]
  },
  {
   "cell_type": "code",
   "execution_count": null,
   "id": "1a308327",
   "metadata": {},
   "outputs": [],
   "source": []
  }
 ],
 "metadata": {
  "kernelspec": {
   "display_name": "Python 3.9.7 ('base')",
   "language": "python",
   "name": "python3"
  },
  "language_info": {
   "codemirror_mode": {
    "name": "ipython",
    "version": 3
   },
   "file_extension": ".py",
   "mimetype": "text/x-python",
   "name": "python",
   "nbconvert_exporter": "python",
   "pygments_lexer": "ipython3",
   "version": "3.9.7"
  },
  "vscode": {
   "interpreter": {
    "hash": "131f3d18372c23bc9956e159b8761a89791000b12ee129af51759eac7b6e0517"
   }
  }
 },
 "nbformat": 4,
 "nbformat_minor": 5
}
